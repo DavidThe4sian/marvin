{
 "cells": [
  {
   "cell_type": "code",
   "execution_count": 1,
   "metadata": {},
   "outputs": [],
   "source": [
    "import os\n",
    "import numpy as np\n",
    "import pandas as pd\n",
    "from tqdm import tqdm\n",
    "tqdm.pandas()\n",
    "import torch\n",
    "\n",
    "from transformers import AutoTokenizer, AutoModel\n",
    "\n",
    "model_name = \"sentence-transformers/stsb-distilbert-base\"\n",
    "\n",
    "#Load AutoModel from huggingface model repository\n",
    "tokenizer = AutoTokenizer.from_pretrained(model_name)\n",
    "model = AutoModel.from_pretrained(model_name)\n"
   ]
  },
  {
   "cell_type": "code",
   "execution_count": 2,
   "metadata": {},
   "outputs": [],
   "source": [
    "#Mean Pooling - Take attention mask into account for correct averaging\n",
    "def mean_pooling(model_output, attention_mask):\n",
    "    token_embeddings = model_output[0] #First element of model_output contains all token embeddings\n",
    "    input_mask_expanded = attention_mask.unsqueeze(-1).expand(token_embeddings.size()).float()\n",
    "    sum_embeddings = torch.sum(token_embeddings * input_mask_expanded, 1)\n",
    "    sum_mask = torch.clamp(input_mask_expanded.sum(1), min=1e-9)\n",
    "    return sum_embeddings / sum_mask\n",
    "\n",
    "\n",
    "def get_sent_embedding(sent, model, tokenizer): \n",
    "    #Tokenize sentences\n",
    "    encoded_input = tokenizer(sent, padding=True, truncation=True, \n",
    "                              max_length=128, return_tensors='pt')\n",
    "    #Compute token embeddings\n",
    "    with torch.no_grad():\n",
    "        model_output = model(**encoded_input)\n",
    "        \n",
    "    #Perform pooling. In this case, mean pooling\n",
    "    sentence_embedding = mean_pooling(model_output, encoded_input['attention_mask'])\n",
    "    return sentence_embedding\n",
    "    \n",
    "def len_pen(sent_orig, sent_generated):\n",
    "    encoded_input_orig = tokenizer(sent_orig, padding=True, truncation=True, \n",
    "                              max_length=128, return_tensors='pt') \n",
    "    len_orig = encoded_input_orig['attention_mask'].shape[1]\n",
    "    \n",
    "    encoded_input_generated = tokenizer(sent_generated, padding=True, truncation=True, \n",
    "                              max_length=128, return_tensors='pt') \n",
    "    len_generated = encoded_input_generated['attention_mask'].shape[1]\n",
    "    return np.exp(1 - (np.max([len_orig, len_generated])/\\\n",
    "                       np.min([len_orig, len_generated])))\n",
    "    \n",
    "    \n",
    "def get_similarity(sent_orig, sent_generated, model, \n",
    "                   tokenizer, length_penalty=True, alpha=0.4):\n",
    "    embedding_orig =  get_sent_embedding(sent_orig, model, tokenizer)\n",
    "    embedding_generated =  get_sent_embedding(sent_generated, model, tokenizer)\n",
    "    sim = torch.nn.functional.cosine_similarity(embedding_orig, \n",
    "                                                embedding_generated, dim=1)\n",
    "    if length_penalty:\n",
    "        penalty = len_pen(sent_orig, sent_generated)\n",
    "        sim *= penalty**alpha\n",
    "    return sim\n",
    "    "
   ]
  },
  {
   "cell_type": "code",
   "execution_count": 3,
   "metadata": {},
   "outputs": [
    {
     "data": {
      "text/plain": [
       "tensor([-0.1039])"
      ]
     },
     "execution_count": 3,
     "metadata": {},
     "output_type": "execute_result"
    }
   ],
   "source": [
    "get_similarity('the world is a vampire', 'hello world', model, tokenizer)"
   ]
  },
  {
   "cell_type": "code",
   "execution_count": 4,
   "metadata": {},
   "outputs": [
    {
     "data": {
      "text/plain": [
       "tensor([0.8769])"
      ]
     },
     "execution_count": 4,
     "metadata": {},
     "output_type": "execute_result"
    }
   ],
   "source": [
    "get_similarity('me and my friends really really like u', 'My friends and I quite like you.', model, tokenizer)"
   ]
  },
  {
   "cell_type": "code",
   "execution_count": 5,
   "metadata": {},
   "outputs": [],
   "source": [
    "data_dir = '../data/pseudo/'\n",
    "dataset = 'shakespeare'\n",
    "mode = 'dev'\n",
    "base_filename = f'{dataset}_{mode}_cross_predict_transfers.csv'\n",
    "full_path = os.path.join(data_dir, dataset, base_filename)\n",
    "\n",
    "\n",
    "parallel_df = pd.read_csv(full_path)"
   ]
  },
  {
   "cell_type": "code",
   "execution_count": 6,
   "metadata": {},
   "outputs": [
    {
     "data": {
      "text/html": [
       "<div>\n",
       "<style scoped>\n",
       "    .dataframe tbody tr th:only-of-type {\n",
       "        vertical-align: middle;\n",
       "    }\n",
       "\n",
       "    .dataframe tbody tr th {\n",
       "        vertical-align: top;\n",
       "    }\n",
       "\n",
       "    .dataframe thead th {\n",
       "        text-align: right;\n",
       "    }\n",
       "</style>\n",
       "<table border=\"1\" class=\"dataframe\">\n",
       "  <thead>\n",
       "    <tr style=\"text-align: right;\">\n",
       "      <th></th>\n",
       "      <th>paraphrase</th>\n",
       "      <th>para_bucket</th>\n",
       "      <th>orig_text</th>\n",
       "      <th>oring_bucket</th>\n",
       "      <th>transfered1</th>\n",
       "      <th>transfered2</th>\n",
       "      <th>transfered3</th>\n",
       "      <th>pred_abstract_orig</th>\n",
       "      <th>pred_shakespeare_orig</th>\n",
       "      <th>pred_abstract_transfered1</th>\n",
       "      <th>pred_shakespeare_transfered1</th>\n",
       "      <th>pred_abstract_transfered2</th>\n",
       "      <th>pred_shakespeare_transfered2</th>\n",
       "      <th>pred_abstract_transfered3</th>\n",
       "      <th>pred_shakespeare_transfered3</th>\n",
       "    </tr>\n",
       "  </thead>\n",
       "  <tbody>\n",
       "    <tr>\n",
       "      <th>0</th>\n",
       "      <td>I'm sure you won't marry her.</td>\n",
       "      <td>low</td>\n",
       "      <td>But thus, I trust, you will not marry her.</td>\n",
       "      <td>mid</td>\n",
       "      <td>I am sure you will not marry her.</td>\n",
       "      <td>I know you will not marry her.</td>\n",
       "      <td>I am sure you’ll not marry her.</td>\n",
       "      <td>0.000403</td>\n",
       "      <td>0.000557</td>\n",
       "      <td>0.000232</td>\n",
       "      <td>0.002530</td>\n",
       "      <td>0.000307</td>\n",
       "      <td>0.050229</td>\n",
       "      <td>0.122297</td>\n",
       "      <td>0.998928</td>\n",
       "    </tr>\n",
       "    <tr>\n",
       "      <th>1</th>\n",
       "      <td>stand in front of the hearse!</td>\n",
       "      <td>low</td>\n",
       "      <td>Stand from the hearse.</td>\n",
       "      <td>mid</td>\n",
       "      <td>Stand in front of the hearse!</td>\n",
       "      <td>Stand in front of hearse!</td>\n",
       "      <td>Stand before the hearse!</td>\n",
       "      <td>0.000320</td>\n",
       "      <td>0.012139</td>\n",
       "      <td>0.000320</td>\n",
       "      <td>0.012139</td>\n",
       "      <td>0.000438</td>\n",
       "      <td>0.040431</td>\n",
       "      <td>0.062622</td>\n",
       "      <td>0.998390</td>\n",
       "    </tr>\n",
       "    <tr>\n",
       "      <th>2</th>\n",
       "      <td>I'm not going to walk out of the door, but som...</td>\n",
       "      <td>low</td>\n",
       "      <td>I have no will to wander forth of doors, Yet s...</td>\n",
       "      <td>high</td>\n",
       "      <td>I’ll not walk out of the door, But something l...</td>\n",
       "      <td>I’ll not walk out of the door, but something l...</td>\n",
       "      <td>I will not walk out of the door, But something...</td>\n",
       "      <td>0.000409</td>\n",
       "      <td>0.000621</td>\n",
       "      <td>0.164337</td>\n",
       "      <td>0.998977</td>\n",
       "      <td>0.164337</td>\n",
       "      <td>0.998977</td>\n",
       "      <td>0.000302</td>\n",
       "      <td>0.026706</td>\n",
       "    </tr>\n",
       "    <tr>\n",
       "      <th>3</th>\n",
       "      <td>how do you mean removing him?</td>\n",
       "      <td>mid</td>\n",
       "      <td>How do you mean, removing of him?</td>\n",
       "      <td>high</td>\n",
       "      <td>How mean you to remove him?</td>\n",
       "      <td>How dost thou mean removing him?</td>\n",
       "      <td>How mean you removing him?</td>\n",
       "      <td>0.000276</td>\n",
       "      <td>0.000980</td>\n",
       "      <td>0.006401</td>\n",
       "      <td>0.981065</td>\n",
       "      <td>0.204749</td>\n",
       "      <td>0.998964</td>\n",
       "      <td>0.006354</td>\n",
       "      <td>0.977889</td>\n",
       "    </tr>\n",
       "    <tr>\n",
       "      <th>4</th>\n",
       "      <td>I'm yours forever.</td>\n",
       "      <td>low</td>\n",
       "      <td>I am your own for ever.</td>\n",
       "      <td>high</td>\n",
       "      <td>I am yours forever.</td>\n",
       "      <td>I am thyself forever.</td>\n",
       "      <td>I am thy lord forever.</td>\n",
       "      <td>0.000332</td>\n",
       "      <td>0.000957</td>\n",
       "      <td>0.058799</td>\n",
       "      <td>0.997922</td>\n",
       "      <td>0.229949</td>\n",
       "      <td>0.999094</td>\n",
       "      <td>0.320483</td>\n",
       "      <td>0.999098</td>\n",
       "    </tr>\n",
       "  </tbody>\n",
       "</table>\n",
       "</div>"
      ],
      "text/plain": [
       "                                          paraphrase para_bucket  \\\n",
       "0                      I'm sure you won't marry her.         low   \n",
       "1                      stand in front of the hearse!         low   \n",
       "2  I'm not going to walk out of the door, but som...         low   \n",
       "3                      how do you mean removing him?         mid   \n",
       "4                                 I'm yours forever.         low   \n",
       "\n",
       "                                           orig_text oring_bucket  \\\n",
       "0         But thus, I trust, you will not marry her.          mid   \n",
       "1                             Stand from the hearse.          mid   \n",
       "2  I have no will to wander forth of doors, Yet s...         high   \n",
       "3                  How do you mean, removing of him?         high   \n",
       "4                            I am your own for ever.         high   \n",
       "\n",
       "                                         transfered1  \\\n",
       "0                  I am sure you will not marry her.   \n",
       "1                      Stand in front of the hearse!   \n",
       "2  I’ll not walk out of the door, But something l...   \n",
       "3                        How mean you to remove him?   \n",
       "4                                I am yours forever.   \n",
       "\n",
       "                                         transfered2  \\\n",
       "0                     I know you will not marry her.   \n",
       "1                          Stand in front of hearse!   \n",
       "2  I’ll not walk out of the door, but something l...   \n",
       "3                   How dost thou mean removing him?   \n",
       "4                              I am thyself forever.   \n",
       "\n",
       "                                         transfered3  pred_abstract_orig  \\\n",
       "0                    I am sure you’ll not marry her.            0.000403   \n",
       "1                           Stand before the hearse!            0.000320   \n",
       "2  I will not walk out of the door, But something...            0.000409   \n",
       "3                         How mean you removing him?            0.000276   \n",
       "4                             I am thy lord forever.            0.000332   \n",
       "\n",
       "   pred_shakespeare_orig  pred_abstract_transfered1  \\\n",
       "0               0.000557                   0.000232   \n",
       "1               0.012139                   0.000320   \n",
       "2               0.000621                   0.164337   \n",
       "3               0.000980                   0.006401   \n",
       "4               0.000957                   0.058799   \n",
       "\n",
       "   pred_shakespeare_transfered1  pred_abstract_transfered2  \\\n",
       "0                      0.002530                   0.000307   \n",
       "1                      0.012139                   0.000438   \n",
       "2                      0.998977                   0.164337   \n",
       "3                      0.981065                   0.204749   \n",
       "4                      0.997922                   0.229949   \n",
       "\n",
       "   pred_shakespeare_transfered2  pred_abstract_transfered3  \\\n",
       "0                      0.050229                   0.122297   \n",
       "1                      0.040431                   0.062622   \n",
       "2                      0.998977                   0.000302   \n",
       "3                      0.998964                   0.006354   \n",
       "4                      0.999094                   0.320483   \n",
       "\n",
       "   pred_shakespeare_transfered3  \n",
       "0                      0.998928  \n",
       "1                      0.998390  \n",
       "2                      0.026706  \n",
       "3                      0.977889  \n",
       "4                      0.999098  "
      ]
     },
     "execution_count": 6,
     "metadata": {},
     "output_type": "execute_result"
    }
   ],
   "source": [
    "parallel_df.head()"
   ]
  },
  {
   "cell_type": "code",
   "execution_count": 7,
   "metadata": {},
   "outputs": [],
   "source": [
    "def get_sim_scores(row, orig_col, generated_cols, model, tokenizer):\n",
    "    '''\n",
    "    Get semantic similarity between an original \n",
    "    text and a set of generated texts. \n",
    "    \n",
    "    This function is meant for applying to a row of a pd DataFrame \n",
    "    where 'col' is the name of the column that \n",
    "    contains the original text, 'generated_cols' are the names of\n",
    "    the columns of generated text, and 'row' is the row of the DataFrame. \n",
    "    '''\n",
    "    scores = {}\n",
    "    sent_orig = row[orig_col]\n",
    "    for col in generated_cols:\n",
    "        sent_generated = row[col]\n",
    "        score = get_similarity(sent_orig, sent_generated, model, tokenizer)\n",
    "        scores[f\"sim_score_{col}\"] = score.item()\n",
    "    return scores"
   ]
  },
  {
   "cell_type": "code",
   "execution_count": 8,
   "metadata": {},
   "outputs": [
    {
     "data": {
      "text/html": [
       "<div>\n",
       "<style scoped>\n",
       "    .dataframe tbody tr th:only-of-type {\n",
       "        vertical-align: middle;\n",
       "    }\n",
       "\n",
       "    .dataframe tbody tr th {\n",
       "        vertical-align: top;\n",
       "    }\n",
       "\n",
       "    .dataframe thead th {\n",
       "        text-align: right;\n",
       "    }\n",
       "</style>\n",
       "<table border=\"1\" class=\"dataframe\">\n",
       "  <thead>\n",
       "    <tr style=\"text-align: right;\">\n",
       "      <th></th>\n",
       "      <th>paraphrase</th>\n",
       "      <th>para_bucket</th>\n",
       "      <th>orig_text</th>\n",
       "      <th>oring_bucket</th>\n",
       "      <th>transfered1</th>\n",
       "      <th>transfered2</th>\n",
       "      <th>transfered3</th>\n",
       "      <th>pred_abstract_orig</th>\n",
       "      <th>pred_shakespeare_orig</th>\n",
       "      <th>pred_abstract_transfered1</th>\n",
       "      <th>pred_shakespeare_transfered1</th>\n",
       "      <th>pred_abstract_transfered2</th>\n",
       "      <th>pred_shakespeare_transfered2</th>\n",
       "      <th>pred_abstract_transfered3</th>\n",
       "      <th>pred_shakespeare_transfered3</th>\n",
       "    </tr>\n",
       "  </thead>\n",
       "  <tbody>\n",
       "    <tr>\n",
       "      <th>0</th>\n",
       "      <td>I'm sure you won't marry her.</td>\n",
       "      <td>low</td>\n",
       "      <td>But thus, I trust, you will not marry her.</td>\n",
       "      <td>mid</td>\n",
       "      <td>I am sure you will not marry her.</td>\n",
       "      <td>I know you will not marry her.</td>\n",
       "      <td>I am sure you’ll not marry her.</td>\n",
       "      <td>0.000403</td>\n",
       "      <td>0.000557</td>\n",
       "      <td>0.000232</td>\n",
       "      <td>0.002530</td>\n",
       "      <td>0.000307</td>\n",
       "      <td>0.050229</td>\n",
       "      <td>0.122297</td>\n",
       "      <td>0.998928</td>\n",
       "    </tr>\n",
       "    <tr>\n",
       "      <th>1</th>\n",
       "      <td>stand in front of the hearse!</td>\n",
       "      <td>low</td>\n",
       "      <td>Stand from the hearse.</td>\n",
       "      <td>mid</td>\n",
       "      <td>Stand in front of the hearse!</td>\n",
       "      <td>Stand in front of hearse!</td>\n",
       "      <td>Stand before the hearse!</td>\n",
       "      <td>0.000320</td>\n",
       "      <td>0.012139</td>\n",
       "      <td>0.000320</td>\n",
       "      <td>0.012139</td>\n",
       "      <td>0.000438</td>\n",
       "      <td>0.040431</td>\n",
       "      <td>0.062622</td>\n",
       "      <td>0.998390</td>\n",
       "    </tr>\n",
       "    <tr>\n",
       "      <th>2</th>\n",
       "      <td>I'm not going to walk out of the door, but som...</td>\n",
       "      <td>low</td>\n",
       "      <td>I have no will to wander forth of doors, Yet s...</td>\n",
       "      <td>high</td>\n",
       "      <td>I’ll not walk out of the door, But something l...</td>\n",
       "      <td>I’ll not walk out of the door, but something l...</td>\n",
       "      <td>I will not walk out of the door, But something...</td>\n",
       "      <td>0.000409</td>\n",
       "      <td>0.000621</td>\n",
       "      <td>0.164337</td>\n",
       "      <td>0.998977</td>\n",
       "      <td>0.164337</td>\n",
       "      <td>0.998977</td>\n",
       "      <td>0.000302</td>\n",
       "      <td>0.026706</td>\n",
       "    </tr>\n",
       "    <tr>\n",
       "      <th>3</th>\n",
       "      <td>how do you mean removing him?</td>\n",
       "      <td>mid</td>\n",
       "      <td>How do you mean, removing of him?</td>\n",
       "      <td>high</td>\n",
       "      <td>How mean you to remove him?</td>\n",
       "      <td>How dost thou mean removing him?</td>\n",
       "      <td>How mean you removing him?</td>\n",
       "      <td>0.000276</td>\n",
       "      <td>0.000980</td>\n",
       "      <td>0.006401</td>\n",
       "      <td>0.981065</td>\n",
       "      <td>0.204749</td>\n",
       "      <td>0.998964</td>\n",
       "      <td>0.006354</td>\n",
       "      <td>0.977889</td>\n",
       "    </tr>\n",
       "    <tr>\n",
       "      <th>4</th>\n",
       "      <td>I'm yours forever.</td>\n",
       "      <td>low</td>\n",
       "      <td>I am your own for ever.</td>\n",
       "      <td>high</td>\n",
       "      <td>I am yours forever.</td>\n",
       "      <td>I am thyself forever.</td>\n",
       "      <td>I am thy lord forever.</td>\n",
       "      <td>0.000332</td>\n",
       "      <td>0.000957</td>\n",
       "      <td>0.058799</td>\n",
       "      <td>0.997922</td>\n",
       "      <td>0.229949</td>\n",
       "      <td>0.999094</td>\n",
       "      <td>0.320483</td>\n",
       "      <td>0.999098</td>\n",
       "    </tr>\n",
       "  </tbody>\n",
       "</table>\n",
       "</div>"
      ],
      "text/plain": [
       "                                          paraphrase para_bucket  \\\n",
       "0                      I'm sure you won't marry her.         low   \n",
       "1                      stand in front of the hearse!         low   \n",
       "2  I'm not going to walk out of the door, but som...         low   \n",
       "3                      how do you mean removing him?         mid   \n",
       "4                                 I'm yours forever.         low   \n",
       "\n",
       "                                           orig_text oring_bucket  \\\n",
       "0         But thus, I trust, you will not marry her.          mid   \n",
       "1                             Stand from the hearse.          mid   \n",
       "2  I have no will to wander forth of doors, Yet s...         high   \n",
       "3                  How do you mean, removing of him?         high   \n",
       "4                            I am your own for ever.         high   \n",
       "\n",
       "                                         transfered1  \\\n",
       "0                  I am sure you will not marry her.   \n",
       "1                      Stand in front of the hearse!   \n",
       "2  I’ll not walk out of the door, But something l...   \n",
       "3                        How mean you to remove him?   \n",
       "4                                I am yours forever.   \n",
       "\n",
       "                                         transfered2  \\\n",
       "0                     I know you will not marry her.   \n",
       "1                          Stand in front of hearse!   \n",
       "2  I’ll not walk out of the door, but something l...   \n",
       "3                   How dost thou mean removing him?   \n",
       "4                              I am thyself forever.   \n",
       "\n",
       "                                         transfered3  pred_abstract_orig  \\\n",
       "0                    I am sure you’ll not marry her.            0.000403   \n",
       "1                           Stand before the hearse!            0.000320   \n",
       "2  I will not walk out of the door, But something...            0.000409   \n",
       "3                         How mean you removing him?            0.000276   \n",
       "4                             I am thy lord forever.            0.000332   \n",
       "\n",
       "   pred_shakespeare_orig  pred_abstract_transfered1  \\\n",
       "0               0.000557                   0.000232   \n",
       "1               0.012139                   0.000320   \n",
       "2               0.000621                   0.164337   \n",
       "3               0.000980                   0.006401   \n",
       "4               0.000957                   0.058799   \n",
       "\n",
       "   pred_shakespeare_transfered1  pred_abstract_transfered2  \\\n",
       "0                      0.002530                   0.000307   \n",
       "1                      0.012139                   0.000438   \n",
       "2                      0.998977                   0.164337   \n",
       "3                      0.981065                   0.204749   \n",
       "4                      0.997922                   0.229949   \n",
       "\n",
       "   pred_shakespeare_transfered2  pred_abstract_transfered3  \\\n",
       "0                      0.050229                   0.122297   \n",
       "1                      0.040431                   0.062622   \n",
       "2                      0.998977                   0.000302   \n",
       "3                      0.998964                   0.006354   \n",
       "4                      0.999094                   0.320483   \n",
       "\n",
       "   pred_shakespeare_transfered3  \n",
       "0                      0.998928  \n",
       "1                      0.998390  \n",
       "2                      0.026706  \n",
       "3                      0.977889  \n",
       "4                      0.999098  "
      ]
     },
     "execution_count": 8,
     "metadata": {},
     "output_type": "execute_result"
    }
   ],
   "source": [
    "parallel_df.head()"
   ]
  },
  {
   "cell_type": "code",
   "execution_count": 9,
   "metadata": {},
   "outputs": [
    {
     "name": "stderr",
     "output_type": "stream",
     "text": [
      "100%|██████████| 7763/7763 [17:05<00:00,  7.57it/s]\n",
      "100%|██████████| 7763/7763 [15:54<00:00,  8.13it/s]\n"
     ]
    }
   ],
   "source": [
    "orig_col = 'orig_text'\n",
    "para_col = 'paraphrase'\n",
    "#generated_cols = ['paraphrased1', 'paraphrased2', 'paraphrased3']\n",
    "generated_cols = ['transfered1', 'transfered2', 'transfered3']\n",
    "orig_score_cols = [f\"sim_score_orig_{col}\" for col in generated_cols]\n",
    "para_score_cols = [f\"sim_score_para_{col}\" for col in generated_cols]\n",
    "temp = parallel_df.progress_apply(lambda x: get_sim_scores(x, orig_col, \n",
    "                                                           generated_cols, \n",
    "                                                           model, tokenizer), axis=1, result_type=\"expand\")\n",
    "parallel_df[orig_score_cols] = temp\n",
    "temp = parallel_df.progress_apply(lambda x: get_sim_scores(x, para_col, \n",
    "                                                           generated_cols, \n",
    "                                                           model, tokenizer), axis=1, result_type=\"expand\")\n",
    "parallel_df[para_score_cols] = temp"
   ]
  },
  {
   "cell_type": "code",
   "execution_count": null,
   "metadata": {},
   "outputs": [
    {
     "name": "stderr",
     "output_type": "stream",
     "text": [
      " 25%|██▌       | 1960/7763 [01:29<04:26, 21.80it/s]"
     ]
    }
   ],
   "source": [
    "parallel_df['sim_score_orig_para'] = parallel_df.progress_apply(lambda x: get_sim_scores(x, orig_col, \n",
    "                                                           [para_col], \n",
    "                                                           model, tokenizer), axis=1)"
   ]
  },
  {
   "cell_type": "code",
   "execution_count": 11,
   "metadata": {},
   "outputs": [],
   "source": [
    "parallel_df['best_sim_orig'] = parallel_df.apply(lambda x : \n",
    "                                                 np.max([x['sim_score_orig_transfered1'], \n",
    "                                                         x['sim_score_orig_transfered2'], \n",
    "                                                       x['sim_score_orig_transfered3']]), axis=1)\n",
    "parallel_df['best_sim_para'] = parallel_df.apply(lambda x : np.max([x['sim_score_para_transfered1'], \n",
    "                                                       x['sim_score_para_transfered2'], \n",
    "                                                       x['sim_score_para_transfered3']]), axis=1)"
   ]
  },
  {
   "cell_type": "code",
   "execution_count": 12,
   "metadata": {},
   "outputs": [],
   "source": [
    "parallel_df[f'{dataset}_diff1'] =  abs(parallel_df[f'pred_{dataset}_orig'] - parallel_df[f'pred_{dataset}_transfered1'])\n",
    "parallel_df[f'{dataset}_diff2'] =  abs(parallel_df[f'pred_{dataset}_orig'] - parallel_df[f'pred_{dataset}_transfered2'])\n",
    "parallel_df[f'{dataset}_diff3'] =  abs(parallel_df[f'pred_{dataset}_orig'] - parallel_df[f'pred_{dataset}_transfered3'])"
   ]
  },
  {
   "cell_type": "code",
   "execution_count": 14,
   "metadata": {},
   "outputs": [],
   "source": [
    "parallel_df[f'{dataset}_diff_max'] = parallel_df.apply(lambda x : np.max([x[f'{dataset}_diff1'], \n",
    "                                                       x[f'{dataset}_diff2'], \n",
    "                                                       x[f'{dataset}_diff3']]), axis=1)"
   ]
  },
  {
   "cell_type": "markdown",
   "metadata": {},
   "source": [
    "Get the summary stats for style transfer eval metrics and for semantic similarity."
   ]
  },
  {
   "cell_type": "code",
   "execution_count": 16,
   "metadata": {},
   "outputs": [
    {
     "data": {
      "text/plain": [
       "count    7763.000000\n",
       "mean        0.729944\n",
       "std         0.161465\n",
       "min         0.024768\n",
       "25%         0.625262\n",
       "50%         0.751123\n",
       "75%         0.850518\n",
       "max         1.000000\n",
       "Name: best_sim_orig, dtype: float64"
      ]
     },
     "execution_count": 16,
     "metadata": {},
     "output_type": "execute_result"
    }
   ],
   "source": [
    "parallel_df['best_sim_orig'].describe()"
   ]
  },
  {
   "cell_type": "code",
   "execution_count": 17,
   "metadata": {},
   "outputs": [
    {
     "data": {
      "text/plain": [
       "count    7763.000000\n",
       "mean        0.878192\n",
       "std         0.114952\n",
       "min         0.193337\n",
       "25%         0.825335\n",
       "50%         0.907810\n",
       "75%         0.959470\n",
       "max         1.000000\n",
       "Name: best_sim_para, dtype: float64"
      ]
     },
     "execution_count": 17,
     "metadata": {},
     "output_type": "execute_result"
    }
   ],
   "source": [
    "parallel_df['best_sim_para'].describe()"
   ]
  },
  {
   "cell_type": "code",
   "execution_count": null,
   "metadata": {},
   "outputs": [],
   "source": [
    "parallel_df[f'{dataset}_diff_max'].describe()"
   ]
  },
  {
   "cell_type": "markdown",
   "metadata": {},
   "source": [
    "Get the summary stats for style transfer eval metrics and for semantic similarity disaggregated by original class label"
   ]
  },
  {
   "cell_type": "code",
   "execution_count": 10,
   "metadata": {},
   "outputs": [
    {
     "ename": "KeyError",
     "evalue": "'label'",
     "output_type": "error",
     "traceback": [
      "\u001b[0;31m---------------------------------------------------------------------------\u001b[0m",
      "\u001b[0;31mKeyError\u001b[0m                                  Traceback (most recent call last)",
      "\u001b[0;32m~/Documents/MIMS Coursework/Capstone/env_marvin/lib/python3.8/site-packages/pandas/core/indexes/base.py\u001b[0m in \u001b[0;36mget_loc\u001b[0;34m(self, key, method, tolerance)\u001b[0m\n\u001b[1;32m   3079\u001b[0m             \u001b[0;32mtry\u001b[0m\u001b[0;34m:\u001b[0m\u001b[0;34m\u001b[0m\u001b[0;34m\u001b[0m\u001b[0m\n\u001b[0;32m-> 3080\u001b[0;31m                 \u001b[0;32mreturn\u001b[0m \u001b[0mself\u001b[0m\u001b[0;34m.\u001b[0m\u001b[0m_engine\u001b[0m\u001b[0;34m.\u001b[0m\u001b[0mget_loc\u001b[0m\u001b[0;34m(\u001b[0m\u001b[0mcasted_key\u001b[0m\u001b[0;34m)\u001b[0m\u001b[0;34m\u001b[0m\u001b[0;34m\u001b[0m\u001b[0m\n\u001b[0m\u001b[1;32m   3081\u001b[0m             \u001b[0;32mexcept\u001b[0m \u001b[0mKeyError\u001b[0m \u001b[0;32mas\u001b[0m \u001b[0merr\u001b[0m\u001b[0;34m:\u001b[0m\u001b[0;34m\u001b[0m\u001b[0;34m\u001b[0m\u001b[0m\n",
      "\u001b[0;32mpandas/_libs/index.pyx\u001b[0m in \u001b[0;36mpandas._libs.index.IndexEngine.get_loc\u001b[0;34m()\u001b[0m\n",
      "\u001b[0;32mpandas/_libs/index.pyx\u001b[0m in \u001b[0;36mpandas._libs.index.IndexEngine.get_loc\u001b[0;34m()\u001b[0m\n",
      "\u001b[0;32mpandas/_libs/hashtable_class_helper.pxi\u001b[0m in \u001b[0;36mpandas._libs.hashtable.PyObjectHashTable.get_item\u001b[0;34m()\u001b[0m\n",
      "\u001b[0;32mpandas/_libs/hashtable_class_helper.pxi\u001b[0m in \u001b[0;36mpandas._libs.hashtable.PyObjectHashTable.get_item\u001b[0;34m()\u001b[0m\n",
      "\u001b[0;31mKeyError\u001b[0m: 'label'",
      "\nThe above exception was the direct cause of the following exception:\n",
      "\u001b[0;31mKeyError\u001b[0m                                  Traceback (most recent call last)",
      "\u001b[0;32m<ipython-input-10-6ea749a62ccd>\u001b[0m in \u001b[0;36m<module>\u001b[0;34m\u001b[0m\n\u001b[0;32m----> 1\u001b[0;31m \u001b[0mparallel_df\u001b[0m\u001b[0;34m[\u001b[0m\u001b[0mparallel_df\u001b[0m\u001b[0;34m[\u001b[0m\u001b[0;34m'label'\u001b[0m\u001b[0;34m]\u001b[0m\u001b[0;34m==\u001b[0m\u001b[0;36m0\u001b[0m\u001b[0;34m]\u001b[0m\u001b[0;34m[\u001b[0m\u001b[0;34m'best_sim'\u001b[0m\u001b[0;34m]\u001b[0m\u001b[0;34m.\u001b[0m\u001b[0mdescribe\u001b[0m\u001b[0;34m(\u001b[0m\u001b[0;34m)\u001b[0m\u001b[0;34m\u001b[0m\u001b[0;34m\u001b[0m\u001b[0m\n\u001b[0m",
      "\u001b[0;32m~/Documents/MIMS Coursework/Capstone/env_marvin/lib/python3.8/site-packages/pandas/core/frame.py\u001b[0m in \u001b[0;36m__getitem__\u001b[0;34m(self, key)\u001b[0m\n\u001b[1;32m   3022\u001b[0m             \u001b[0;32mif\u001b[0m \u001b[0mself\u001b[0m\u001b[0;34m.\u001b[0m\u001b[0mcolumns\u001b[0m\u001b[0;34m.\u001b[0m\u001b[0mnlevels\u001b[0m \u001b[0;34m>\u001b[0m \u001b[0;36m1\u001b[0m\u001b[0;34m:\u001b[0m\u001b[0;34m\u001b[0m\u001b[0;34m\u001b[0m\u001b[0m\n\u001b[1;32m   3023\u001b[0m                 \u001b[0;32mreturn\u001b[0m \u001b[0mself\u001b[0m\u001b[0;34m.\u001b[0m\u001b[0m_getitem_multilevel\u001b[0m\u001b[0;34m(\u001b[0m\u001b[0mkey\u001b[0m\u001b[0;34m)\u001b[0m\u001b[0;34m\u001b[0m\u001b[0;34m\u001b[0m\u001b[0m\n\u001b[0;32m-> 3024\u001b[0;31m             \u001b[0mindexer\u001b[0m \u001b[0;34m=\u001b[0m \u001b[0mself\u001b[0m\u001b[0;34m.\u001b[0m\u001b[0mcolumns\u001b[0m\u001b[0;34m.\u001b[0m\u001b[0mget_loc\u001b[0m\u001b[0;34m(\u001b[0m\u001b[0mkey\u001b[0m\u001b[0;34m)\u001b[0m\u001b[0;34m\u001b[0m\u001b[0;34m\u001b[0m\u001b[0m\n\u001b[0m\u001b[1;32m   3025\u001b[0m             \u001b[0;32mif\u001b[0m \u001b[0mis_integer\u001b[0m\u001b[0;34m(\u001b[0m\u001b[0mindexer\u001b[0m\u001b[0;34m)\u001b[0m\u001b[0;34m:\u001b[0m\u001b[0;34m\u001b[0m\u001b[0;34m\u001b[0m\u001b[0m\n\u001b[1;32m   3026\u001b[0m                 \u001b[0mindexer\u001b[0m \u001b[0;34m=\u001b[0m \u001b[0;34m[\u001b[0m\u001b[0mindexer\u001b[0m\u001b[0;34m]\u001b[0m\u001b[0;34m\u001b[0m\u001b[0;34m\u001b[0m\u001b[0m\n",
      "\u001b[0;32m~/Documents/MIMS Coursework/Capstone/env_marvin/lib/python3.8/site-packages/pandas/core/indexes/base.py\u001b[0m in \u001b[0;36mget_loc\u001b[0;34m(self, key, method, tolerance)\u001b[0m\n\u001b[1;32m   3080\u001b[0m                 \u001b[0;32mreturn\u001b[0m \u001b[0mself\u001b[0m\u001b[0;34m.\u001b[0m\u001b[0m_engine\u001b[0m\u001b[0;34m.\u001b[0m\u001b[0mget_loc\u001b[0m\u001b[0;34m(\u001b[0m\u001b[0mcasted_key\u001b[0m\u001b[0;34m)\u001b[0m\u001b[0;34m\u001b[0m\u001b[0;34m\u001b[0m\u001b[0m\n\u001b[1;32m   3081\u001b[0m             \u001b[0;32mexcept\u001b[0m \u001b[0mKeyError\u001b[0m \u001b[0;32mas\u001b[0m \u001b[0merr\u001b[0m\u001b[0;34m:\u001b[0m\u001b[0;34m\u001b[0m\u001b[0;34m\u001b[0m\u001b[0m\n\u001b[0;32m-> 3082\u001b[0;31m                 \u001b[0;32mraise\u001b[0m \u001b[0mKeyError\u001b[0m\u001b[0;34m(\u001b[0m\u001b[0mkey\u001b[0m\u001b[0;34m)\u001b[0m \u001b[0;32mfrom\u001b[0m \u001b[0merr\u001b[0m\u001b[0;34m\u001b[0m\u001b[0;34m\u001b[0m\u001b[0m\n\u001b[0m\u001b[1;32m   3083\u001b[0m \u001b[0;34m\u001b[0m\u001b[0m\n\u001b[1;32m   3084\u001b[0m         \u001b[0;32mif\u001b[0m \u001b[0mtolerance\u001b[0m \u001b[0;32mis\u001b[0m \u001b[0;32mnot\u001b[0m \u001b[0;32mNone\u001b[0m\u001b[0;34m:\u001b[0m\u001b[0;34m\u001b[0m\u001b[0;34m\u001b[0m\u001b[0m\n",
      "\u001b[0;31mKeyError\u001b[0m: 'label'"
     ]
    }
   ],
   "source": [
    "parallel_df[parallel_df['label']==0]['best_sim'].describe()"
   ]
  },
  {
   "cell_type": "code",
   "execution_count": null,
   "metadata": {},
   "outputs": [],
   "source": [
    "parallel_df[parallel_df['label']==1]['best_sim'].describe()"
   ]
  },
  {
   "cell_type": "code",
   "execution_count": null,
   "metadata": {},
   "outputs": [],
   "source": [
    "parallel_df[parallel_df['label']==1][f'{dataset}_diff_max'].describe()"
   ]
  },
  {
   "cell_type": "code",
   "execution_count": null,
   "metadata": {},
   "outputs": [],
   "source": [
    "parallel_df[parallel_df['label']==1][f'{dataset}_diff_max'].describe()"
   ]
  },
  {
   "cell_type": "code",
   "execution_count": null,
   "metadata": {},
   "outputs": [],
   "source": [
    "parallel_df.head()"
   ]
  },
  {
   "cell_type": "code",
   "execution_count": null,
   "metadata": {},
   "outputs": [],
   "source": [
    "# orig_col = 'text'\n",
    "# #generated_cols = ['paraphrased1', 'paraphrased2', 'paraphrased3']\n",
    "# generated_cols = ['transfered1', 'transfered2', 'transfered3']\n",
    "# score_cols = [f\"sim_score_{col}\" for col in generated_cols]\n",
    "\n",
    "# thing = parallel_df.progress_apply(lambda x: get_sim_scores(x, orig_col, generated_cols,\n",
    "#                                                             model, tokenizer), \n",
    "#                                                      axis=1, result_type=\"expand\")\n",
    "# parallel_df[score_cols] = thing"
   ]
  },
  {
   "cell_type": "code",
   "execution_count": null,
   "metadata": {},
   "outputs": [],
   "source": [
    "out_filename = f'{dataset}_{mode}_cross_predict_transfers_sim_scores.csv'\n",
    "full_path = os.path.join(data_dir, dataset, out_filename)\n",
    "parallel_df_head.to_csv(full_path, index=False)"
   ]
  }
 ],
 "metadata": {
  "kernelspec": {
   "display_name": "Python (env_marvin)",
   "language": "python",
   "name": "env_marvin"
  },
  "language_info": {
   "codemirror_mode": {
    "name": "ipython",
    "version": 3
   },
   "file_extension": ".py",
   "mimetype": "text/x-python",
   "name": "python",
   "nbconvert_exporter": "python",
   "pygments_lexer": "ipython3",
   "version": "3.8.5"
  }
 },
 "nbformat": 4,
 "nbformat_minor": 4
}
