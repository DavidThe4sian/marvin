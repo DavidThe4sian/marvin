{
 "cells": [
  {
   "cell_type": "code",
   "execution_count": 33,
   "metadata": {},
   "outputs": [],
   "source": [
    "import pandas as pd\n",
    "import numpy as np\n",
    "import matplotlib.pyplot as plt"
   ]
  },
  {
   "cell_type": "code",
   "execution_count": 2,
   "metadata": {},
   "outputs": [
    {
     "data": {
      "text/plain": [
       "DistilBertForSequenceClassification(\n",
       "  (distilbert): DistilBertModel(\n",
       "    (embeddings): Embeddings(\n",
       "      (word_embeddings): Embedding(30522, 768, padding_idx=0)\n",
       "      (position_embeddings): Embedding(512, 768)\n",
       "      (LayerNorm): LayerNorm((768,), eps=1e-12, elementwise_affine=True)\n",
       "      (dropout): Dropout(p=0.1, inplace=False)\n",
       "    )\n",
       "    (transformer): Transformer(\n",
       "      (layer): ModuleList(\n",
       "        (0): TransformerBlock(\n",
       "          (attention): MultiHeadSelfAttention(\n",
       "            (dropout): Dropout(p=0.1, inplace=False)\n",
       "            (q_lin): Linear(in_features=768, out_features=768, bias=True)\n",
       "            (k_lin): Linear(in_features=768, out_features=768, bias=True)\n",
       "            (v_lin): Linear(in_features=768, out_features=768, bias=True)\n",
       "            (out_lin): Linear(in_features=768, out_features=768, bias=True)\n",
       "          )\n",
       "          (sa_layer_norm): LayerNorm((768,), eps=1e-12, elementwise_affine=True)\n",
       "          (ffn): FFN(\n",
       "            (dropout): Dropout(p=0.1, inplace=False)\n",
       "            (lin1): Linear(in_features=768, out_features=3072, bias=True)\n",
       "            (lin2): Linear(in_features=3072, out_features=768, bias=True)\n",
       "          )\n",
       "          (output_layer_norm): LayerNorm((768,), eps=1e-12, elementwise_affine=True)\n",
       "        )\n",
       "        (1): TransformerBlock(\n",
       "          (attention): MultiHeadSelfAttention(\n",
       "            (dropout): Dropout(p=0.1, inplace=False)\n",
       "            (q_lin): Linear(in_features=768, out_features=768, bias=True)\n",
       "            (k_lin): Linear(in_features=768, out_features=768, bias=True)\n",
       "            (v_lin): Linear(in_features=768, out_features=768, bias=True)\n",
       "            (out_lin): Linear(in_features=768, out_features=768, bias=True)\n",
       "          )\n",
       "          (sa_layer_norm): LayerNorm((768,), eps=1e-12, elementwise_affine=True)\n",
       "          (ffn): FFN(\n",
       "            (dropout): Dropout(p=0.1, inplace=False)\n",
       "            (lin1): Linear(in_features=768, out_features=3072, bias=True)\n",
       "            (lin2): Linear(in_features=3072, out_features=768, bias=True)\n",
       "          )\n",
       "          (output_layer_norm): LayerNorm((768,), eps=1e-12, elementwise_affine=True)\n",
       "        )\n",
       "        (2): TransformerBlock(\n",
       "          (attention): MultiHeadSelfAttention(\n",
       "            (dropout): Dropout(p=0.1, inplace=False)\n",
       "            (q_lin): Linear(in_features=768, out_features=768, bias=True)\n",
       "            (k_lin): Linear(in_features=768, out_features=768, bias=True)\n",
       "            (v_lin): Linear(in_features=768, out_features=768, bias=True)\n",
       "            (out_lin): Linear(in_features=768, out_features=768, bias=True)\n",
       "          )\n",
       "          (sa_layer_norm): LayerNorm((768,), eps=1e-12, elementwise_affine=True)\n",
       "          (ffn): FFN(\n",
       "            (dropout): Dropout(p=0.1, inplace=False)\n",
       "            (lin1): Linear(in_features=768, out_features=3072, bias=True)\n",
       "            (lin2): Linear(in_features=3072, out_features=768, bias=True)\n",
       "          )\n",
       "          (output_layer_norm): LayerNorm((768,), eps=1e-12, elementwise_affine=True)\n",
       "        )\n",
       "        (3): TransformerBlock(\n",
       "          (attention): MultiHeadSelfAttention(\n",
       "            (dropout): Dropout(p=0.1, inplace=False)\n",
       "            (q_lin): Linear(in_features=768, out_features=768, bias=True)\n",
       "            (k_lin): Linear(in_features=768, out_features=768, bias=True)\n",
       "            (v_lin): Linear(in_features=768, out_features=768, bias=True)\n",
       "            (out_lin): Linear(in_features=768, out_features=768, bias=True)\n",
       "          )\n",
       "          (sa_layer_norm): LayerNorm((768,), eps=1e-12, elementwise_affine=True)\n",
       "          (ffn): FFN(\n",
       "            (dropout): Dropout(p=0.1, inplace=False)\n",
       "            (lin1): Linear(in_features=768, out_features=3072, bias=True)\n",
       "            (lin2): Linear(in_features=3072, out_features=768, bias=True)\n",
       "          )\n",
       "          (output_layer_norm): LayerNorm((768,), eps=1e-12, elementwise_affine=True)\n",
       "        )\n",
       "        (4): TransformerBlock(\n",
       "          (attention): MultiHeadSelfAttention(\n",
       "            (dropout): Dropout(p=0.1, inplace=False)\n",
       "            (q_lin): Linear(in_features=768, out_features=768, bias=True)\n",
       "            (k_lin): Linear(in_features=768, out_features=768, bias=True)\n",
       "            (v_lin): Linear(in_features=768, out_features=768, bias=True)\n",
       "            (out_lin): Linear(in_features=768, out_features=768, bias=True)\n",
       "          )\n",
       "          (sa_layer_norm): LayerNorm((768,), eps=1e-12, elementwise_affine=True)\n",
       "          (ffn): FFN(\n",
       "            (dropout): Dropout(p=0.1, inplace=False)\n",
       "            (lin1): Linear(in_features=768, out_features=3072, bias=True)\n",
       "            (lin2): Linear(in_features=3072, out_features=768, bias=True)\n",
       "          )\n",
       "          (output_layer_norm): LayerNorm((768,), eps=1e-12, elementwise_affine=True)\n",
       "        )\n",
       "        (5): TransformerBlock(\n",
       "          (attention): MultiHeadSelfAttention(\n",
       "            (dropout): Dropout(p=0.1, inplace=False)\n",
       "            (q_lin): Linear(in_features=768, out_features=768, bias=True)\n",
       "            (k_lin): Linear(in_features=768, out_features=768, bias=True)\n",
       "            (v_lin): Linear(in_features=768, out_features=768, bias=True)\n",
       "            (out_lin): Linear(in_features=768, out_features=768, bias=True)\n",
       "          )\n",
       "          (sa_layer_norm): LayerNorm((768,), eps=1e-12, elementwise_affine=True)\n",
       "          (ffn): FFN(\n",
       "            (dropout): Dropout(p=0.1, inplace=False)\n",
       "            (lin1): Linear(in_features=768, out_features=3072, bias=True)\n",
       "            (lin2): Linear(in_features=3072, out_features=768, bias=True)\n",
       "          )\n",
       "          (output_layer_norm): LayerNorm((768,), eps=1e-12, elementwise_affine=True)\n",
       "        )\n",
       "      )\n",
       "    )\n",
       "  )\n",
       "  (pre_classifier): Linear(in_features=768, out_features=768, bias=True)\n",
       "  (classifier): Linear(in_features=768, out_features=2, bias=True)\n",
       "  (dropout): Dropout(p=0.2, inplace=False)\n",
       ")"
      ]
     },
     "execution_count": 2,
     "metadata": {},
     "output_type": "execute_result"
    }
   ],
   "source": [
    "from transformers import AutoTokenizer, AutoModelForSequenceClassification, TextGenerationPipeline, AdamW\n",
    "import torch\n",
    "tokenizer = AutoTokenizer.from_pretrained(\"distilbert-base-uncased-finetuned-sst-2-english\", model_max_length=64)\n",
    "model = AutoModelForSequenceClassification.from_pretrained(\"distilbert-base-uncased-finetuned-sst-2-english\")\n",
    "\n",
    "# Try only updating final layers\n",
    "params_to_update = []\n",
    "for name,param in model.named_parameters():\n",
    "    if 'classifier' in name:\n",
    "        params_to_update.append(param)\n",
    "        \n",
    "optim = AdamW(params_to_update, lr=5e-5)\n",
    "\n",
    "device = torch.device('cuda') if torch.cuda.is_available() else torch.device('cpu')\n",
    "model.to(device)"
   ]
  },
  {
   "cell_type": "code",
   "execution_count": 3,
   "metadata": {},
   "outputs": [],
   "source": [
    "sequence_0 = \"I like you. I love you.\""
   ]
  },
  {
   "cell_type": "code",
   "execution_count": 4,
   "metadata": {},
   "outputs": [
    {
     "data": {
      "text/plain": [
       "tensor([[ 101, 1045, 2066, 2017, 1012, 1045, 2293, 2017, 1012,  102]])"
      ]
     },
     "execution_count": 4,
     "metadata": {},
     "output_type": "execute_result"
    }
   ],
   "source": [
    "tokenizer.encode(sequence_0, return_tensors=\"pt\")"
   ]
  },
  {
   "cell_type": "code",
   "execution_count": 5,
   "metadata": {},
   "outputs": [
    {
     "data": {
      "text/plain": [
       "SequenceClassifierOutput(loss=tensor(0.0001, device='cuda:0', grad_fn=<NllLossBackward>), logits=tensor([[-4.3136,  4.6843]], device='cuda:0', grad_fn=<AddmmBackward>), hidden_states=None, attentions=None)"
      ]
     },
     "execution_count": 5,
     "metadata": {},
     "output_type": "execute_result"
    }
   ],
   "source": [
    "model(tokenizer.encode(sequence_0, return_tensors=\"pt\").to(device), \n",
    "      labels=torch.tensor([1]).unsqueeze(0).to(device))"
   ]
  },
  {
   "cell_type": "code",
   "execution_count": 6,
   "metadata": {},
   "outputs": [],
   "source": [
    "# model(tokenizer.encode(sequence_0, return_tensors=\"pt\"), output_attentions=True).attentions[0].sum(axis=1)"
   ]
  },
  {
   "cell_type": "code",
   "execution_count": 7,
   "metadata": {},
   "outputs": [],
   "source": [
    "# S = torch.nn.Softmax(dim=1)\n",
    "# S(model(tokenizer.encode(sequence_0, return_tensors=\"pt\")).logits.detach())"
   ]
  },
  {
   "cell_type": "code",
   "execution_count": 8,
   "metadata": {},
   "outputs": [],
   "source": [
    "# model"
   ]
  },
  {
   "cell_type": "code",
   "execution_count": 24,
   "metadata": {},
   "outputs": [],
   "source": [
    "def train_single(input_tensor_batch, target_tensor_batch, model, model_optimizer):\n",
    "    '''\n",
    "    A single forward and backward pass of the neural net on a single training batch.\n",
    "    '''\n",
    "    target_tensor = torch.stack(target_tensor_batch).reshape(len(input_tensor_batch))\n",
    "    input_tensor = torch.stack(input_tensor_batch)\n",
    "    input_tensor = input_tensor.reshape(len(input_tensor_batch), input_tensor.shape[2])\n",
    "    output = model(input_tensor.to(device), \n",
    "                   labels = target_tensor.to(device),\n",
    "                   output_attentions=False)\n",
    "    loss = output[0]\n",
    "    loss.backward()\n",
    "    model_optimizer.step()\n",
    "    return loss.item()\n",
    "\n",
    "def train(input_tensors, target_tensors, input_val_tensors, target_val_tensors,\n",
    "          model, model_optimizer, n_epochs):\n",
    "    '''\n",
    "    Train the attention classfier for a given number of epochs on the whole training set.\n",
    "    '''\n",
    "    losses = []\n",
    "    train_accs = []\n",
    "    val_accs = []\n",
    "    # Iterate over given num of epochs\n",
    "    for epoch in range(n_epochs):\n",
    "        loss = 0\n",
    "        # Iterate over batches\n",
    "        for i in range(len(input_tensors)):\n",
    "            input_tensor = input_tensors[i]\n",
    "            target_tensor = target_tensors[i]\n",
    "            loss += train_single(input_tensor, target_tensor, model, \n",
    "                                 model_optimizer)\n",
    "        train_accuracy = get_accuracy(input_tensors, target_tensors, model)\n",
    "        val_accuracy = get_accuracy(input_val_tensors, target_val_tensors, model)\n",
    "        print(f\"Epoch {epoch} :\") \n",
    "        print(f\"\\tLoss {loss/len(input_tensors):.4f}\")\n",
    "        print(f\"\\tTraining Accuracy {train_accuracy:.4f}\")\n",
    "        print(f\"\\tValidation Accuracy {val_accuracy:.4f}\")\n",
    "        losses.append(loss/len(input_tensors))\n",
    "        train_accs.append(train_accuracy)\n",
    "        val_accs.append(val_accuracy)\n",
    "    return losses, train_accs, val_accs\n",
    "\n",
    "def get_accuracy(input_tensors, target_tensors, model):\n",
    "    '''\n",
    "    Get model accuracy.\n",
    "    '''\n",
    "    accs = []\n",
    "    # Iterate over batches\n",
    "    for i in range(len(input_tensors)):\n",
    "        input_tensor_batch = input_tensors[i]\n",
    "        target_tensor_batch = target_tensors[i]\n",
    "        target_tensor = torch.stack(target_tensor_batch).reshape(len(input_tensor_batch)).to(device)\n",
    "        input_tensor = torch.stack(input_tensor_batch)\n",
    "        input_tensor = input_tensor.reshape(len(input_tensor_batch), input_tensor.shape[2]).to(device)\n",
    "        output = model(input_tensor, output_attentions=False)\n",
    "        # Get classification prediction\n",
    "        preds = output.logits.argmax(axis=1)\n",
    "        # Get accuracy of given batch\n",
    "        batch_acc = ((preds == target_tensor).sum()/target_tensor.shape[0]).item()\n",
    "        accs.append(batch_acc)\n",
    "    return np.mean(accs)\n",
    "\n",
    "def sent_pred(sent, model, tokenizer, device, batch_size):\n",
    "    '''\n",
    "    Runs the model on an input sentence.\n",
    "    \n",
    "    Arguments: \n",
    "    \n",
    "      sent : str. The input sentence.\n",
    "      model : the pytorch model to be used.\n",
    "     \n",
    "    Returns:\n",
    "      pred : np array. The prediction, wich is a normalized array with a value for \\\n",
    "             each class, representing the predicted probability for that class\n",
    "      attns : the attention matrix\n",
    "    '''\n",
    "    input_tensor = tokenizer.encode(test_text, return_tensors=\"pt\").to(device)\n",
    "\n",
    "    output = model(input_tensor, output_attentions=True)\n",
    "    pred = output.logits.argmax(axis=1)\n",
    "    \n",
    "    softmax = torch.nn.Softmax(dim=1)\n",
    "    scores = softmax(output.logits.detach())\n",
    "    \n",
    "    attns = output.attentions\n",
    "\n",
    "    return pred.detach().cpu().numpy(), scores, attns"
   ]
  },
  {
   "cell_type": "code",
   "execution_count": 11,
   "metadata": {},
   "outputs": [],
   "source": [
    "train_file = \"../../../cross_style_transfer_internal/data/xslue/StanfordPoliteness/train.tsv\"\n",
    "dev_file = \"../../../cross_style_transfer_internal/data/xslue/StanfordPoliteness/dev.tsv\"\n",
    "\n",
    "train_data = pd.read_csv(train_file, names=['domain', 'id', 'text', 'score'], sep='\\t')\n",
    "val_data = pd.read_csv(dev_file, names=['domain', 'id', 'text', 'score'], sep='\\t')"
   ]
  },
  {
   "cell_type": "code",
   "execution_count": 12,
   "metadata": {},
   "outputs": [],
   "source": [
    "def parse_stanford_politeness(polite_df):\n",
    "    '''\n",
    "    Parse stanford politeness dataframe into the format we need for classification.\n",
    "    '''\n",
    "    input_df = pd.DataFrame()\n",
    "    input_df['text'] = polite_df['text']\n",
    "    # Map scores >= 0 (polite) to label 1 and scores < 0 (impolite) to label 0.\n",
    "    input_df['label'] = polite_df['score'].apply(lambda x : int(x >= 0))\n",
    "    return input_df\n",
    "\n",
    "def df_to_training_pairs(df, tokenizer, batch_size):\n",
    "    input_tensors = df['text'].apply(lambda x : tokenizer.encode(x, \n",
    "                                                                 padding='max_length', \n",
    "                                                                 truncation=True, \n",
    "                                                                 return_tensors=\"pt\"))\n",
    "    target_tensors = df['label'].apply(lambda x : torch.LongTensor([x]))\n",
    "    return input_tensors.values.reshape(-1, batch_size).tolist(), target_tensors.values.reshape(-1, batch_size).tolist()"
   ]
  },
  {
   "cell_type": "code",
   "execution_count": 13,
   "metadata": {},
   "outputs": [],
   "source": [
    "train_df = parse_stanford_politeness(train_data)\n",
    "val_df = parse_stanford_politeness(val_data)"
   ]
  },
  {
   "cell_type": "code",
   "execution_count": 14,
   "metadata": {},
   "outputs": [],
   "source": [
    "batch_size = 32\n",
    "input_tensors, target_tensors = df_to_training_pairs(train_df.head((len(train_df)//batch_size)*batch_size), \n",
    "                                                                   tokenizer, batch_size)\n",
    "input_val_tensors, target_val_tensors = df_to_training_pairs(val_df.head((len(val_df)//batch_size)*batch_size), \n",
    "                                                                  tokenizer, batch_size)"
   ]
  },
  {
   "cell_type": "code",
   "execution_count": 15,
   "metadata": {},
   "outputs": [
    {
     "name": "stdout",
     "output_type": "stream",
     "text": [
      "Epoch 0 :\n",
      "\tLoss 0.8381\n",
      "\tTraining Accuracy 0.5061\n",
      "\tValidation Accuracy 0.5156\n",
      "Epoch 1 :\n",
      "\tLoss 0.6798\n",
      "\tTraining Accuracy 0.5784\n",
      "\tValidation Accuracy 0.5801\n",
      "Epoch 2 :\n",
      "\tLoss 0.6986\n",
      "\tTraining Accuracy 0.6164\n",
      "\tValidation Accuracy 0.6055\n",
      "Epoch 3 :\n",
      "\tLoss 0.7566\n",
      "\tTraining Accuracy 0.5517\n",
      "\tValidation Accuracy 0.5488\n",
      "Epoch 4 :\n",
      "\tLoss 0.8075\n",
      "\tTraining Accuracy 0.5593\n",
      "\tValidation Accuracy 0.5664\n",
      "Epoch 5 :\n",
      "\tLoss 0.9089\n",
      "\tTraining Accuracy 0.5891\n",
      "\tValidation Accuracy 0.5996\n",
      "Epoch 6 :\n",
      "\tLoss 0.9536\n",
      "\tTraining Accuracy 0.6014\n",
      "\tValidation Accuracy 0.5977\n",
      "Epoch 7 :\n",
      "\tLoss 1.2115\n",
      "\tTraining Accuracy 0.5465\n",
      "\tValidation Accuracy 0.5508\n",
      "Epoch 8 :\n",
      "\tLoss 0.9827\n",
      "\tTraining Accuracy 0.5443\n",
      "\tValidation Accuracy 0.5547\n",
      "Epoch 9 :\n",
      "\tLoss 0.8003\n",
      "\tTraining Accuracy 0.5439\n",
      "\tValidation Accuracy 0.5605\n",
      "Epoch 10 :\n",
      "\tLoss 0.7476\n",
      "\tTraining Accuracy 0.5496\n",
      "\tValidation Accuracy 0.5605\n",
      "Epoch 11 :\n",
      "\tLoss 0.7906\n",
      "\tTraining Accuracy 0.5496\n",
      "\tValidation Accuracy 0.5605\n",
      "Epoch 12 :\n",
      "\tLoss 0.7772\n",
      "\tTraining Accuracy 0.5496\n",
      "\tValidation Accuracy 0.5605\n",
      "Epoch 13 :\n",
      "\tLoss 0.7101\n",
      "\tTraining Accuracy 0.6262\n",
      "\tValidation Accuracy 0.6211\n",
      "Epoch 14 :\n",
      "\tLoss 0.6984\n",
      "\tTraining Accuracy 0.6255\n",
      "\tValidation Accuracy 0.6309\n",
      "Epoch 15 :\n",
      "\tLoss 0.6714\n",
      "\tTraining Accuracy 0.6196\n",
      "\tValidation Accuracy 0.5898\n",
      "Epoch 16 :\n",
      "\tLoss 0.6516\n",
      "\tTraining Accuracy 0.6321\n",
      "\tValidation Accuracy 0.6172\n",
      "Epoch 17 :\n",
      "\tLoss 0.6518\n",
      "\tTraining Accuracy 0.6287\n",
      "\tValidation Accuracy 0.6230\n",
      "Epoch 18 :\n",
      "\tLoss 0.6612\n",
      "\tTraining Accuracy 0.6355\n",
      "\tValidation Accuracy 0.6250\n",
      "Epoch 19 :\n",
      "\tLoss 0.6589\n",
      "\tTraining Accuracy 0.6297\n",
      "\tValidation Accuracy 0.5996\n",
      "Epoch 20 :\n",
      "\tLoss 0.6567\n",
      "\tTraining Accuracy 0.6387\n",
      "\tValidation Accuracy 0.6230\n",
      "Epoch 21 :\n",
      "\tLoss 0.6473\n",
      "\tTraining Accuracy 0.6414\n",
      "\tValidation Accuracy 0.6250\n",
      "Epoch 22 :\n",
      "\tLoss 0.6469\n",
      "\tTraining Accuracy 0.6460\n",
      "\tValidation Accuracy 0.6309\n",
      "Epoch 23 :\n",
      "\tLoss 0.6365\n",
      "\tTraining Accuracy 0.6433\n",
      "\tValidation Accuracy 0.6250\n",
      "Epoch 24 :\n",
      "\tLoss 0.6414\n",
      "\tTraining Accuracy 0.6456\n",
      "\tValidation Accuracy 0.6348\n",
      "Epoch 25 :\n",
      "\tLoss 0.6367\n",
      "\tTraining Accuracy 0.6445\n",
      "\tValidation Accuracy 0.6406\n",
      "Epoch 26 :\n",
      "\tLoss 0.6375\n",
      "\tTraining Accuracy 0.6508\n",
      "\tValidation Accuracy 0.6289\n",
      "Epoch 27 :\n",
      "\tLoss 0.6353\n",
      "\tTraining Accuracy 0.6538\n",
      "\tValidation Accuracy 0.6504\n",
      "Epoch 28 :\n",
      "\tLoss 0.6344\n",
      "\tTraining Accuracy 0.6552\n",
      "\tValidation Accuracy 0.6504\n",
      "Epoch 29 :\n",
      "\tLoss 0.6291\n",
      "\tTraining Accuracy 0.6494\n",
      "\tValidation Accuracy 0.6191\n"
     ]
    },
    {
     "data": {
      "text/plain": [
       "([0.8380786677846661,\n",
       "  0.6798474111340262,\n",
       "  0.6985791241387268,\n",
       "  0.756607750406513,\n",
       "  0.8075301591065023,\n",
       "  0.9088780206519288,\n",
       "  0.9536488002964428,\n",
       "  1.2114562140656757,\n",
       "  0.9827109575271606,\n",
       "  0.8003244984459568,\n",
       "  0.74759788956348,\n",
       "  0.7905945468258548,\n",
       "  0.7771737472964572,\n",
       "  0.7100590499384063,\n",
       "  0.6984392323277213,\n",
       "  0.671402387030713,\n",
       "  0.6516144102463475,\n",
       "  0.6517731526068279,\n",
       "  0.66119806371726,\n",
       "  0.6588681320865433,\n",
       "  0.6567046711971234,\n",
       "  0.6472971946388096,\n",
       "  0.6469113942864654,\n",
       "  0.6364725225351073,\n",
       "  0.6414429487346055,\n",
       "  0.6367022348688794,\n",
       "  0.6374683325940912,\n",
       "  0.6353144452169344,\n",
       "  0.6344416080550714,\n",
       "  0.6291050860634098],\n",
       " [0.5060876623376623,\n",
       "  0.5784293831168831,\n",
       "  0.6163758116883117,\n",
       "  0.5517451298701299,\n",
       "  0.5592532467532467,\n",
       "  0.5890827922077922,\n",
       "  0.601359577922078,\n",
       "  0.5464691558441559,\n",
       "  0.544338474025974,\n",
       "  0.5439326298701299,\n",
       "  0.549614448051948,\n",
       "  0.549614448051948,\n",
       "  0.549614448051948,\n",
       "  0.6262175324675324,\n",
       "  0.6255073051948052,\n",
       "  0.619622564935065,\n",
       "  0.6321022727272727,\n",
       "  0.6286525974025974,\n",
       "  0.635450487012987,\n",
       "  0.6296672077922078,\n",
       "  0.6386972402597403,\n",
       "  0.6414366883116883,\n",
       "  0.646002435064935,\n",
       "  0.643262987012987,\n",
       "  0.6455965909090909,\n",
       "  0.6444805194805194,\n",
       "  0.6507711038961039,\n",
       "  0.653814935064935,\n",
       "  0.6552353896103896,\n",
       "  0.6493506493506493],\n",
       " [0.515625,\n",
       "  0.580078125,\n",
       "  0.60546875,\n",
       "  0.548828125,\n",
       "  0.56640625,\n",
       "  0.599609375,\n",
       "  0.59765625,\n",
       "  0.55078125,\n",
       "  0.5546875,\n",
       "  0.560546875,\n",
       "  0.560546875,\n",
       "  0.560546875,\n",
       "  0.560546875,\n",
       "  0.62109375,\n",
       "  0.630859375,\n",
       "  0.58984375,\n",
       "  0.6171875,\n",
       "  0.623046875,\n",
       "  0.625,\n",
       "  0.599609375,\n",
       "  0.623046875,\n",
       "  0.625,\n",
       "  0.630859375,\n",
       "  0.625,\n",
       "  0.634765625,\n",
       "  0.640625,\n",
       "  0.62890625,\n",
       "  0.650390625,\n",
       "  0.650390625,\n",
       "  0.619140625])"
      ]
     },
     "execution_count": 15,
     "metadata": {},
     "output_type": "execute_result"
    }
   ],
   "source": [
    "train_epochs = 30\n",
    "train(input_tensors, target_tensors, input_val_tensors, target_val_tensors, \n",
    "          model, optim, train_epochs)"
   ]
  },
  {
   "cell_type": "code",
   "execution_count": 25,
   "metadata": {},
   "outputs": [],
   "source": [
    "sent = \"Where did you learn English? How come you're taking on a third language?\"\n",
    "\n",
    "pred, scores, attns = sent_pred(sent, model, tokenizer, device, batch_size)"
   ]
  },
  {
   "cell_type": "code",
   "execution_count": 29,
   "metadata": {},
   "outputs": [],
   "source": [
    "viz_attns = [attn.sum(axis=1) for attn in attns]"
   ]
  },
  {
   "cell_type": "code",
   "execution_count": 38,
   "metadata": {
    "scrolled": true
   },
   "outputs": [
    {
     "data": {
      "image/png": "[encoded data removed]",
      "text/plain": [
       "<Figure size 288x288 with 1 Axes>"
      ]
     },
     "metadata": {
      "needs_background": "light"
     },
     "output_type": "display_data"
    },
    {
     "data": {
      "image/png": "[encoded data removed]",
      "text/plain": [
       "<Figure size 288x288 with 1 Axes>"
      ]
     },
     "metadata": {
      "needs_background": "light"
     },
     "output_type": "display_data"
    },
    {
     "data": {
      "image/png": "[encoded data removed]",
      "text/plain": [
       "<Figure size 288x288 with 1 Axes>"
      ]
     },
     "metadata": {
      "needs_background": "light"
     },
     "output_type": "display_data"
    },
    {
     "data": {
      "image/png": "[encoded data removed]",
      "text/plain": [
       "<Figure size 288x288 with 1 Axes>"
      ]
     },
     "metadata": {
      "needs_background": "light"
     },
     "output_type": "display_data"
    },
    {
     "data": {
      "image/png": "[encoded data removed]",
      "text/plain": [
       "<Figure size 288x288 with 1 Axes>"
      ]
     },
     "metadata": {
      "needs_background": "light"
     },
     "output_type": "display_data"
    },
    {
     "data": {
      "image/png": "[encoded data removed]",
      "text/plain": [
       "<Figure size 288x288 with 1 Axes>"
      ]
     },
     "metadata": {
      "needs_background": "light"
     },
     "output_type": "display_data"
    }
   ],
   "source": [
    "for attn in viz_attns:\n",
    "    plt.matshow(attn[0].cpu().detach().numpy(), cmap='Reds')"
   ]
  },
  {
   "cell_type": "code",
   "execution_count": 50,
   "metadata": {},
   "outputs": [],
   "source": [
    "collapsed = np.array([attn.sum(axis=1).cpu().detach().squeeze().numpy() for attn in attns]).sum(axis=0)"
   ]
  },
  {
   "cell_type": "code",
   "execution_count": 52,
   "metadata": {},
   "outputs": [
    {
     "data": {
      "text/plain": [
       "<matplotlib.image.AxesImage at 0x7fcead3ef1c0>"
      ]
     },
     "execution_count": 52,
     "metadata": {},
     "output_type": "execute_result"
    },
    {
     "data": {
      "image/png": "[encoded data removed]",
      "text/plain": [
       "<Figure size 288x288 with 1 Axes>"
      ]
     },
     "metadata": {
      "needs_background": "light"
     },
     "output_type": "display_data"
    }
   ],
   "source": [
    "plt.matshow(collapsed, cmap='Reds')"
   ]
  },
  {
   "cell_type": "code",
   "execution_count": null,
   "metadata": {},
   "outputs": [],
   "source": []
  }
 ],
 "metadata": {
  "kernelspec": {
   "display_name": "Python (env_marvin)",
   "language": "python",
   "name": "env_marvin"
  },
  "language_info": {
   "codemirror_mode": {
    "name": "ipython",
    "version": 3
   },
   "file_extension": ".py",
   "mimetype": "text/x-python",
   "name": "python",
   "nbconvert_exporter": "python",
   "pygments_lexer": "ipython3",
   "version": "3.8.5"
  }
 },
 "nbformat": 4,
 "nbformat_minor": 4
}
