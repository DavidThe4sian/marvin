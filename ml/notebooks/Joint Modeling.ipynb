{
 "cells": [
  {
   "cell_type": "markdown",
   "id": "interstate-combination",
   "metadata": {},
   "source": [
    "# Joint Modeling Notebook\n",
    "\n",
    "Run the following cells to train a joint classifier"
   ]
  },
  {
   "cell_type": "markdown",
   "id": "upper-austria",
   "metadata": {},
   "source": [
    "## 0. Imports"
   ]
  },
  {
   "cell_type": "code",
   "execution_count": 3,
   "id": "interracial-gallery",
   "metadata": {},
   "outputs": [
    {
     "output_type": "stream",
     "name": "stdout",
     "text": [
      "The autoreload extension is already loaded. To reload it, use:\n  %reload_ext autoreload\nThe tensorboard extension is already loaded. To reload it, use:\n  %reload_ext tensorboard\n"
     ]
    }
   ],
   "source": [
    "%load_ext autoreload\n",
    "%autoreload 2\n",
    "    \n",
    "%load_ext tensorboard\n",
    "\n",
    "import sys\n",
    "sys.path.append('../jointclassifier/')\n",
    "from joint_args import ModelArguments, DataTrainingArguments, TrainingArguments\n",
    "from joint_dataloader import load_dataset\n",
    "from joint_trainer import JointTrainer\n",
    "from single_trainer import SingleTrainer\n",
    "from joint_model_v1 import JointSeqClassifier\n",
    "\n",
    "from transformers import HfArgumentParser, AutoConfig, AutoTokenizer\n",
    "import os"
   ]
  },
  {
   "cell_type": "markdown",
   "id": "graduate-sample",
   "metadata": {},
   "source": [
    "## 1. Initialize the Arguments"
   ]
  },
  {
   "cell_type": "code",
   "execution_count": 4,
   "id": "royal-fashion",
   "metadata": {},
   "outputs": [
    {
     "output_type": "stream",
     "name": "stderr",
     "text": [
      "PyTorch: setting up devices\n",
      "The default value for the training argument `--report_to` will change in v5 (from all installed integrations to none). In v5, you will need to use `--report_to all` to get the same behavior as now. You should start updating your code and make this info disappear :-).\n"
     ]
    }
   ],
   "source": [
    "task = \"formality+jokes\"\n",
    "data_dir = \"../data/processed/\"\n",
    "model_name = \"distilbert-base-cased\"\n",
    "model_nick = \"distilbert\"\n",
    "output_dir = \"../models/\"\n",
    "freeze_encoder = \"False\"\n",
    "skip_preclassifier = \"False\"\n",
    "train_jointly = \"True\"\n",
    "epochs = \"3\"\n",
    "train_batch_size = \"256\"\n",
    "eval_batch_size = \"256\"\n",
    "\n",
    "parser = HfArgumentParser((ModelArguments, DataTrainingArguments, TrainingArguments))\n",
    "model_args, data_args, training_args = parser.parse_args_into_dataclasses([\n",
    "    \"--model_name_or_path\",\n",
    "    model_name,\n",
    "    \"--model_nick\",\n",
    "    model_nick,\n",
    "    \"--task\",\n",
    "    task,\n",
    "    \"--data_dir\",\n",
    "    data_dir,\n",
    "    \"--output_dir\",\n",
    "    os.path.join(output_dir, model_nick, task, 'joint'),\n",
    "    \"--cache_dir\",\n",
    "    os.path.join(output_dir, model_nick,\"cache\"),\n",
    "    \"--freeze_encoder\",\n",
    "    freeze_encoder,\n",
    "    \"--skip_preclassifier\",\n",
    "    skip_preclassifier,\n",
    "    \"--train_jointly\",\n",
    "    train_jointly,\n",
    "    \"--overwrite_cache\",\n",
    "    \"--per_device_train_batch_size\",\n",
    "    train_batch_size,\n",
    "    \"--per_device_eval_batch_size\",\n",
    "    eval_batch_size,\n",
    "    \"--max_seq_len\",\n",
    "    \"64\",\n",
    "    \"--gradient_accumulation_steps\",\n",
    "    \"1\",\n",
    "    \"--num_train_epochs\",\n",
    "    epochs,\n",
    "    \"--logging_steps\",\n",
    "    \"100\",\n",
    "    \"--save_steps\",\n",
    "    \"100\"\n",
    "])\n"
   ]
  },
  {
   "cell_type": "markdown",
   "id": "cross-stake",
   "metadata": {},
   "source": [
    "## 2. Load the Tokenizer"
   ]
  },
  {
   "cell_type": "code",
   "execution_count": 5,
   "id": "about-reproduction",
   "metadata": {
    "scrolled": true
   },
   "outputs": [
    {
     "output_type": "stream",
     "name": "stderr",
     "text": [
      "loading configuration file https://huggingface.co/distilbert-base-cased/resolve/main/config.json from cache at ../models/distilbert/cache/ebe1ea24d11aa664488b8de5b21e33989008ca78f207d4e30ec6350b693f073f.302bfd1b5e031cc1b17796e0b6e5b242ba2045d31d00f97589e12b458ebff27a\n",
      "Model config DistilBertConfig {\n",
      "  \"activation\": \"gelu\",\n",
      "  \"attention_dropout\": 0.1,\n",
      "  \"dim\": 768,\n",
      "  \"dropout\": 0.1,\n",
      "  \"hidden_dim\": 3072,\n",
      "  \"initializer_range\": 0.02,\n",
      "  \"max_position_embeddings\": 512,\n",
      "  \"model_type\": \"distilbert\",\n",
      "  \"n_heads\": 12,\n",
      "  \"n_layers\": 6,\n",
      "  \"output_past\": true,\n",
      "  \"pad_token_id\": 0,\n",
      "  \"qa_dropout\": 0.1,\n",
      "  \"seq_classif_dropout\": 0.2,\n",
      "  \"sinusoidal_pos_embds\": false,\n",
      "  \"tie_weights_\": true,\n",
      "  \"transformers_version\": \"4.4.0.dev0\",\n",
      "  \"vocab_size\": 28996\n",
      "}\n",
      "\n",
      "loading configuration file https://huggingface.co/distilbert-base-cased/resolve/main/config.json from cache at ../models/distilbert/cache/ebe1ea24d11aa664488b8de5b21e33989008ca78f207d4e30ec6350b693f073f.302bfd1b5e031cc1b17796e0b6e5b242ba2045d31d00f97589e12b458ebff27a\n",
      "Model config DistilBertConfig {\n",
      "  \"activation\": \"gelu\",\n",
      "  \"attention_dropout\": 0.1,\n",
      "  \"dim\": 768,\n",
      "  \"dropout\": 0.1,\n",
      "  \"hidden_dim\": 3072,\n",
      "  \"initializer_range\": 0.02,\n",
      "  \"max_position_embeddings\": 512,\n",
      "  \"model_type\": \"distilbert\",\n",
      "  \"n_heads\": 12,\n",
      "  \"n_layers\": 6,\n",
      "  \"output_past\": true,\n",
      "  \"pad_token_id\": 0,\n",
      "  \"qa_dropout\": 0.1,\n",
      "  \"seq_classif_dropout\": 0.2,\n",
      "  \"sinusoidal_pos_embds\": false,\n",
      "  \"tie_weights_\": true,\n",
      "  \"transformers_version\": \"4.4.0.dev0\",\n",
      "  \"vocab_size\": 28996\n",
      "}\n",
      "\n",
      "loading file https://huggingface.co/distilbert-base-cased/resolve/main/vocab.txt from cache at ../models/distilbert/cache/ba377304984dc63e3ede0e23a938bbbf04d5c3835b66d5bb48343aecca188429.437aa611e89f6fc6675a049d2b5545390adbc617e7d655286421c191d2be2791\n",
      "loading file https://huggingface.co/distilbert-base-cased/resolve/main/tokenizer.json from cache at ../models/distilbert/cache/acb5c2138c1f8c84f074b86dafce3631667fccd6efcb1a7ea1320cf75c386a36.3dab63143af66769bbb35e3811f75f7e16b2320e12b7935e216bd6159ce6d9a6\n",
      "loading file https://huggingface.co/distilbert-base-cased/resolve/main/added_tokens.json from cache at None\n",
      "loading file https://huggingface.co/distilbert-base-cased/resolve/main/special_tokens_map.json from cache at None\n",
      "loading file https://huggingface.co/distilbert-base-cased/resolve/main/tokenizer_config.json from cache at ../models/distilbert/cache/81e970e5e6ec68be12da0f8f3b2f2469c78d579282299a2ea65b4b7441719107.ec5c189f89475aac7d8cbd243960a0655cfadc3d0474da8ff2ed0bf1699c2a5f\n"
     ]
    }
   ],
   "source": [
    "model_config = AutoConfig.from_pretrained(model_args.model_name_or_path, cache_dir=model_args.cache_dir)\n",
    "tokenizer = AutoTokenizer.from_pretrained(model_args.model_name_or_path, cache_dir=model_args.cache_dir,\n",
    "                                         model_max_length = data_args.max_seq_len)\n",
    "    "
   ]
  },
  {
   "cell_type": "markdown",
   "id": "prerequisite-glance",
   "metadata": {},
   "source": [
    "## 3. Load the datasets \n",
    "Note : Single for Joint Training, Dict for Separate Training"
   ]
  },
  {
   "cell_type": "code",
   "execution_count": 15,
   "id": "prescribed-proportion",
   "metadata": {},
   "outputs": [
    {
     "output_type": "stream",
     "name": "stderr",
     "text": [
      "100%|██████████| 165/165 [00:05<00:00, 31.40it/s]\n",
      "torch.Size([169735, 64]) torch.Size([169735, 64]) torch.Size([169735, 2]) torch.Size([169735])\n",
      "100%|██████████| 294/294 [00:16<00:00, 17.96it/s]\n",
      "  0%|          | 0/41 [00:00<?, ?it/s]torch.Size([471222, 64]) torch.Size([471222, 64]) torch.Size([471222, 2]) torch.Size([471222])\n",
      "100%|██████████| 41/41 [00:01<00:00, 38.13it/s]\n",
      "  5%|▌         | 4/73 [00:00<00:01, 36.39it/s]torch.Size([42434, 64]) torch.Size([42434, 64]) torch.Size([42434, 2]) torch.Size([42434])\n",
      "100%|██████████| 73/73 [00:02<00:00, 32.80it/s]torch.Size([117806, 64]) torch.Size([117806, 64]) torch.Size([117806, 2]) torch.Size([117806])\n",
      "\n"
     ]
    }
   ],
   "source": [
    "tasks = data_args.task.split('+')\n",
    "train_dataset, idx_to_classes = load_dataset(data_args.data_dir, tokenizer, model_name=model_args.model_name_or_path, \n",
    "                            tasks=tasks, mode=\"train\", n_proc=1024)\n",
    "dev_dataset, _ = load_dataset(data_args.data_dir, tokenizer, model_name=model_args.model_name_or_path, \n",
    "                            tasks=tasks, mode=\"dev\", n_proc=1024)"
   ]
  },
  {
   "cell_type": "markdown",
   "id": "honest-russia",
   "metadata": {},
   "source": [
    "## 4. Initialize the Trainer and the Model & Train!"
   ]
  },
  {
   "cell_type": "code",
   "execution_count": 7,
   "id": "authorized-algeria",
   "metadata": {},
   "outputs": [
    {
     "output_type": "display_data",
     "data": {
      "text/plain": "Reusing TensorBoard on port 6006 (pid 9917), started 5:51:32 ago. (Use '!kill 9917' to kill it.)"
     },
     "metadata": {}
    }
   ],
   "source": [
    "# Open TensorBoard\n",
    "%tensorboard --logdir runs"
   ]
  },
  {
   "cell_type": "code",
   "execution_count": 18,
   "id": "cooperative-fifty",
   "metadata": {
    "scrolled": false
   },
   "outputs": [
    {
     "output_type": "stream",
     "name": "stdout",
     "text": [
      "Processing Joint Task : ['formality', 'jokes']\n",
      "loading configuration file https://huggingface.co/distilbert-base-cased/resolve/main/config.json from cache at /home/vivek/.cache/huggingface/transformers/ebe1ea24d11aa664488b8de5b21e33989008ca78f207d4e30ec6350b693f073f.302bfd1b5e031cc1b17796e0b6e5b242ba2045d31d00f97589e12b458ebff27a\n",
      "Model config DistilBertConfig {\n",
      "  \"activation\": \"gelu\",\n",
      "  \"attention_dropout\": 0.1,\n",
      "  \"dim\": 768,\n",
      "  \"dropout\": 0.1,\n",
      "  \"hidden_dim\": 3072,\n",
      "  \"initializer_range\": 0.02,\n",
      "  \"max_position_embeddings\": 512,\n",
      "  \"model_type\": \"distilbert\",\n",
      "  \"n_heads\": 12,\n",
      "  \"n_layers\": 6,\n",
      "  \"output_past\": true,\n",
      "  \"pad_token_id\": 0,\n",
      "  \"qa_dropout\": 0.1,\n",
      "  \"seq_classif_dropout\": 0.2,\n",
      "  \"sinusoidal_pos_embds\": false,\n",
      "  \"tie_weights_\": true,\n",
      "  \"transformers_version\": \"4.4.0.dev0\",\n",
      "  \"vocab_size\": 28996\n",
      "}\n",
      "\n",
      "loading weights file https://huggingface.co/distilbert-base-cased/resolve/main/pytorch_model.bin from cache at /home/vivek/.cache/huggingface/transformers/9c9f39769dba4c5fe379b4bc82973eb01297bd607954621434eb9f1bc85a23a0.06b428c87335c1bb22eae46fdab31c8286efa0aa09e898a7ac42ddf5c3f5dc19\n",
      "Some weights of the model checkpoint at distilbert-base-cased were not used when initializing JointSeqClassifier: ['vocab_transform.weight', 'vocab_transform.bias', 'vocab_layer_norm.weight', 'vocab_layer_norm.bias', 'vocab_projector.weight', 'vocab_projector.bias']\n",
      "- This IS expected if you are initializing JointSeqClassifier from the checkpoint of a model trained on another task or with another architecture (e.g. initializing a BertForSequenceClassification model from a BertForPreTraining model).\n",
      "- This IS NOT expected if you are initializing JointSeqClassifier from the checkpoint of a model that you expect to be exactly identical (initializing a BertForSequenceClassification model from a BertForSequenceClassification model).\n",
      "Some weights of JointSeqClassifier were not initialized from the model checkpoint at distilbert-base-cased and are newly initialized: ['pre_classifier.weight', 'pre_classifier.bias', 'classifier.formality.weight', 'classifier.formality.bias', 'classifier.jokes.weight', 'classifier.jokes.bias']\n",
      "You should probably TRAIN this model on a down-stream task to be able to use it for predictions and inference.\n",
      "***** Running training *****\n",
      "Num examples = <torch.utils.data.dataset.TensorDataset object at 0x7f27d8fea6d0>\n",
      "Num Epochs = 3.0\n",
      "Total train batch size = 512\n",
      "Gradient Accumulation steps = 1\n",
      "Total optimization steps = 2763.0\n",
      "Logging steps = 100\n",
      "Save steps = 100\n"
     ]
    },
    {
     "output_type": "display_data",
     "data": {
      "text/plain": "HBox(children=(FloatProgress(value=0.0, description='Epoch', max=3.0, style=ProgressStyle(description_width='i…",
      "application/vnd.jupyter.widget-view+json": {
       "version_major": 2,
       "version_minor": 0,
       "model_id": "3c2130d03fde47f4a7058a6e3f781762"
      }
     },
     "metadata": {}
    },
    {
     "output_type": "display_data",
     "data": {
      "text/plain": "HBox(children=(FloatProgress(value=0.0, description='Iteration', max=921.0, style=ProgressStyle(description_wi…",
      "application/vnd.jupyter.widget-view+json": {
       "version_major": 2,
       "version_minor": 0,
       "model_id": "98b698d623eb44e58900b2a65401a499"
      }
     },
     "metadata": {}
    },
    {
     "output_type": "stream",
     "name": "stderr",
     "text": [
      "***** Running Evaluation *****\n",
      "Num examples = <torch.utils.data.dataset.TensorDataset object at 0x7f26f5c9df40>\n",
      "Total eval batch size = 512\n"
     ]
    },
    {
     "output_type": "display_data",
     "data": {
      "text/plain": "HBox(children=(FloatProgress(value=0.0, description='Iteration', max=231.0, style=ProgressStyle(description_wi…",
      "application/vnd.jupyter.widget-view+json": {
       "version_major": 2,
       "version_minor": 0,
       "model_id": "f2d5b2babd224bdeaacd599215cd99f7"
      }
     },
     "metadata": {}
    },
    {
     "output_type": "stream",
     "name": "stderr",
     "text": [
      "Configuration saved in ../models/distilbert/formality+jokes/joint/config.json\n",
      "\n",
      "Model weights saved in ../models/distilbert/formality+jokes/joint/pytorch_model.bin\n",
      "Saving model checkpoint to ../models/distilbert/formality+jokes/joint\n",
      "New best model saved at step 100, epoch 0: f1 = 0.9202204838491258\n",
      "***** Running Evaluation *****\n",
      "Num examples = <torch.utils.data.dataset.TensorDataset object at 0x7f26f5c9df40>\n",
      "Total eval batch size = 512\n"
     ]
    },
    {
     "output_type": "display_data",
     "data": {
      "text/plain": "HBox(children=(FloatProgress(value=0.0, description='Iteration', max=231.0, style=ProgressStyle(description_wi…",
      "application/vnd.jupyter.widget-view+json": {
       "version_major": 2,
       "version_minor": 0,
       "model_id": "18ba329e66af4241a3c8e328f415674f"
      }
     },
     "metadata": {}
    },
    {
     "output_type": "stream",
     "name": "stderr",
     "text": [
      "Configuration saved in ../models/distilbert/formality+jokes/joint/config.json\n",
      "\n",
      "Model weights saved in ../models/distilbert/formality+jokes/joint/pytorch_model.bin\n",
      "Saving model checkpoint to ../models/distilbert/formality+jokes/joint\n",
      "New best model saved at step 200, epoch 0: f1 = 0.9305576779070397\n",
      "***** Running Evaluation *****\n",
      "Num examples = <torch.utils.data.dataset.TensorDataset object at 0x7f26f5c9df40>\n",
      "Total eval batch size = 512\n"
     ]
    },
    {
     "output_type": "display_data",
     "data": {
      "text/plain": "HBox(children=(FloatProgress(value=0.0, description='Iteration', max=231.0, style=ProgressStyle(description_wi…",
      "application/vnd.jupyter.widget-view+json": {
       "version_major": 2,
       "version_minor": 0,
       "model_id": "02d7be4f0ce244388619681e545a8990"
      }
     },
     "metadata": {}
    },
    {
     "output_type": "stream",
     "name": "stderr",
     "text": [
      "Configuration saved in ../models/distilbert/formality+jokes/joint/config.json\n",
      "\n",
      "Model weights saved in ../models/distilbert/formality+jokes/joint/pytorch_model.bin\n",
      "Saving model checkpoint to ../models/distilbert/formality+jokes/joint\n",
      "New best model saved at step 300, epoch 0: f1 = 0.9356108974443103\n",
      "***** Running Evaluation *****\n",
      "Num examples = <torch.utils.data.dataset.TensorDataset object at 0x7f26f5c9df40>\n",
      "Total eval batch size = 512\n"
     ]
    },
    {
     "output_type": "display_data",
     "data": {
      "text/plain": "HBox(children=(FloatProgress(value=0.0, description='Iteration', max=231.0, style=ProgressStyle(description_wi…",
      "application/vnd.jupyter.widget-view+json": {
       "version_major": 2,
       "version_minor": 0,
       "model_id": "509b7cce670d4016b65c35bb93ecd1fd"
      }
     },
     "metadata": {}
    },
    {
     "output_type": "stream",
     "name": "stderr",
     "text": [
      "Configuration saved in ../models/distilbert/formality+jokes/joint/config.json\n",
      "\n",
      "Model weights saved in ../models/distilbert/formality+jokes/joint/pytorch_model.bin\n",
      "Saving model checkpoint to ../models/distilbert/formality+jokes/joint\n",
      "New best model saved at step 400, epoch 0: f1 = 0.9388886133874716\n",
      "***** Running Evaluation *****\n",
      "Num examples = <torch.utils.data.dataset.TensorDataset object at 0x7f26f5c9df40>\n",
      "Total eval batch size = 512\n"
     ]
    },
    {
     "output_type": "display_data",
     "data": {
      "text/plain": "HBox(children=(FloatProgress(value=0.0, description='Iteration', max=231.0, style=ProgressStyle(description_wi…",
      "application/vnd.jupyter.widget-view+json": {
       "version_major": 2,
       "version_minor": 0,
       "model_id": "6ad0a8b3370141d59a285469cf62cd15"
      }
     },
     "metadata": {}
    },
    {
     "output_type": "stream",
     "name": "stderr",
     "text": [
      "Configuration saved in ../models/distilbert/formality+jokes/joint/config.json\n",
      "\n",
      "Model weights saved in ../models/distilbert/formality+jokes/joint/pytorch_model.bin\n",
      "Saving model checkpoint to ../models/distilbert/formality+jokes/joint\n",
      "New best model saved at step 500, epoch 0: f1 = 0.9409457077372437\n",
      "***** Running Evaluation *****\n",
      "Num examples = <torch.utils.data.dataset.TensorDataset object at 0x7f26f5c9df40>\n",
      "Total eval batch size = 512\n"
     ]
    },
    {
     "output_type": "display_data",
     "data": {
      "text/plain": "HBox(children=(FloatProgress(value=0.0, description='Iteration', max=231.0, style=ProgressStyle(description_wi…",
      "application/vnd.jupyter.widget-view+json": {
       "version_major": 2,
       "version_minor": 0,
       "model_id": "172fd1ee614d4f65a5b7cee686b64dd1"
      }
     },
     "metadata": {}
    },
    {
     "output_type": "stream",
     "name": "stderr",
     "text": [
      "Best model still at step 500, epoch 0\n",
      "\n",
      "***** Running Evaluation *****\n",
      "Num examples = <torch.utils.data.dataset.TensorDataset object at 0x7f26f5c9df40>\n",
      "Total eval batch size = 512\n"
     ]
    },
    {
     "output_type": "display_data",
     "data": {
      "text/plain": "HBox(children=(FloatProgress(value=0.0, description='Iteration', max=231.0, style=ProgressStyle(description_wi…",
      "application/vnd.jupyter.widget-view+json": {
       "version_major": 2,
       "version_minor": 0,
       "model_id": "c6e055891b0543b582e01f05800b8947"
      }
     },
     "metadata": {}
    },
    {
     "output_type": "stream",
     "name": "stderr",
     "text": [
      "Configuration saved in ../models/distilbert/formality+jokes/joint/config.json\n",
      "\n",
      "Model weights saved in ../models/distilbert/formality+jokes/joint/pytorch_model.bin\n",
      "Saving model checkpoint to ../models/distilbert/formality+jokes/joint\n",
      "New best model saved at step 700, epoch 0: f1 = 0.9426760688934019\n",
      "***** Running Evaluation *****\n",
      "Num examples = <torch.utils.data.dataset.TensorDataset object at 0x7f26f5c9df40>\n",
      "Total eval batch size = 512\n"
     ]
    },
    {
     "output_type": "display_data",
     "data": {
      "text/plain": "HBox(children=(FloatProgress(value=0.0, description='Iteration', max=231.0, style=ProgressStyle(description_wi…",
      "application/vnd.jupyter.widget-view+json": {
       "version_major": 2,
       "version_minor": 0,
       "model_id": "d249a711ca46464fb2eacfa44df6e820"
      }
     },
     "metadata": {}
    },
    {
     "output_type": "stream",
     "name": "stderr",
     "text": [
      "Configuration saved in ../models/distilbert/formality+jokes/joint/config.json\n",
      "\n",
      "Model weights saved in ../models/distilbert/formality+jokes/joint/pytorch_model.bin\n",
      "Saving model checkpoint to ../models/distilbert/formality+jokes/joint\n",
      "New best model saved at step 800, epoch 0: f1 = 0.9446770012023191\n",
      "***** Running Evaluation *****\n",
      "Num examples = <torch.utils.data.dataset.TensorDataset object at 0x7f26f5c9df40>\n",
      "Total eval batch size = 512\n"
     ]
    },
    {
     "output_type": "display_data",
     "data": {
      "text/plain": "HBox(children=(FloatProgress(value=0.0, description='Iteration', max=231.0, style=ProgressStyle(description_wi…",
      "application/vnd.jupyter.widget-view+json": {
       "version_major": 2,
       "version_minor": 0,
       "model_id": "d8547dfc920c4afa9c0c904790cc5830"
      }
     },
     "metadata": {}
    },
    {
     "output_type": "stream",
     "name": "stderr",
     "text": [
      "Configuration saved in ../models/distilbert/formality+jokes/joint/config.json\n",
      "\n",
      "Model weights saved in ../models/distilbert/formality+jokes/joint/pytorch_model.bin\n",
      "Saving model checkpoint to ../models/distilbert/formality+jokes/joint\n",
      "New best model saved at step 900, epoch 0: f1 = 0.9460506854095714\n",
      "\n"
     ]
    },
    {
     "output_type": "display_data",
     "data": {
      "text/plain": "HBox(children=(FloatProgress(value=0.0, description='Iteration', max=921.0, style=ProgressStyle(description_wi…",
      "application/vnd.jupyter.widget-view+json": {
       "version_major": 2,
       "version_minor": 0,
       "model_id": "606662c360d0442bb9a0b558eed63086"
      }
     },
     "metadata": {}
    },
    {
     "output_type": "stream",
     "name": "stderr",
     "text": [
      "***** Running Evaluation *****\n",
      "Num examples = <torch.utils.data.dataset.TensorDataset object at 0x7f26f5c9df40>\n",
      "Total eval batch size = 512\n"
     ]
    },
    {
     "output_type": "display_data",
     "data": {
      "text/plain": "HBox(children=(FloatProgress(value=0.0, description='Iteration', max=231.0, style=ProgressStyle(description_wi…",
      "application/vnd.jupyter.widget-view+json": {
       "version_major": 2,
       "version_minor": 0,
       "model_id": "2c4e4ac551f543e488dd084f5785f992"
      }
     },
     "metadata": {}
    },
    {
     "output_type": "stream",
     "name": "stderr",
     "text": [
      "Best model still at step 900, epoch 0\n",
      "\n",
      "***** Running Evaluation *****\n",
      "Num examples = <torch.utils.data.dataset.TensorDataset object at 0x7f26f5c9df40>\n",
      "Total eval batch size = 512\n"
     ]
    },
    {
     "output_type": "display_data",
     "data": {
      "text/plain": "HBox(children=(FloatProgress(value=0.0, description='Iteration', max=231.0, style=ProgressStyle(description_wi…",
      "application/vnd.jupyter.widget-view+json": {
       "version_major": 2,
       "version_minor": 0,
       "model_id": "07e4d8fabf3646cdb9c63e326841ec33"
      }
     },
     "metadata": {}
    },
    {
     "output_type": "stream",
     "name": "stderr",
     "text": [
      "Configuration saved in ../models/distilbert/formality+jokes/joint/config.json\n",
      "\n",
      "Model weights saved in ../models/distilbert/formality+jokes/joint/pytorch_model.bin\n",
      "Saving model checkpoint to ../models/distilbert/formality+jokes/joint\n",
      "New best model saved at step 1100, epoch 1: f1 = 0.9470740695309554\n",
      "***** Running Evaluation *****\n",
      "Num examples = <torch.utils.data.dataset.TensorDataset object at 0x7f26f5c9df40>\n",
      "Total eval batch size = 512\n"
     ]
    },
    {
     "output_type": "display_data",
     "data": {
      "text/plain": "HBox(children=(FloatProgress(value=0.0, description='Iteration', max=231.0, style=ProgressStyle(description_wi…",
      "application/vnd.jupyter.widget-view+json": {
       "version_major": 2,
       "version_minor": 0,
       "model_id": "2b86fe50679e43ae998071f3716cf880"
      }
     },
     "metadata": {}
    },
    {
     "output_type": "stream",
     "name": "stderr",
     "text": [
      "Configuration saved in ../models/distilbert/formality+jokes/joint/config.json\n",
      "\n",
      "Model weights saved in ../models/distilbert/formality+jokes/joint/pytorch_model.bin\n",
      "Saving model checkpoint to ../models/distilbert/formality+jokes/joint\n",
      "New best model saved at step 1200, epoch 1: f1 = 0.9478049245623469\n",
      "***** Running Evaluation *****\n",
      "Num examples = <torch.utils.data.dataset.TensorDataset object at 0x7f26f5c9df40>\n",
      "Total eval batch size = 512\n"
     ]
    },
    {
     "output_type": "display_data",
     "data": {
      "text/plain": "HBox(children=(FloatProgress(value=0.0, description='Iteration', max=231.0, style=ProgressStyle(description_wi…",
      "application/vnd.jupyter.widget-view+json": {
       "version_major": 2,
       "version_minor": 0,
       "model_id": "6e1c4de296a94d6d85a19ceec593078e"
      }
     },
     "metadata": {}
    },
    {
     "output_type": "stream",
     "name": "stderr",
     "text": [
      "Configuration saved in ../models/distilbert/formality+jokes/joint/config.json\n",
      "\n",
      "Model weights saved in ../models/distilbert/formality+jokes/joint/pytorch_model.bin\n",
      "Saving model checkpoint to ../models/distilbert/formality+jokes/joint\n",
      "New best model saved at step 1300, epoch 1: f1 = 0.948101179358412\n",
      "***** Running Evaluation *****\n",
      "Num examples = <torch.utils.data.dataset.TensorDataset object at 0x7f26f5c9df40>\n",
      "Total eval batch size = 512\n"
     ]
    },
    {
     "output_type": "display_data",
     "data": {
      "text/plain": "HBox(children=(FloatProgress(value=0.0, description='Iteration', max=231.0, style=ProgressStyle(description_wi…",
      "application/vnd.jupyter.widget-view+json": {
       "version_major": 2,
       "version_minor": 0,
       "model_id": "b78e2241301040bcac9c90ba8e32d263"
      }
     },
     "metadata": {}
    },
    {
     "output_type": "stream",
     "name": "stderr",
     "text": [
      "Configuration saved in ../models/distilbert/formality+jokes/joint/config.json\n",
      "\n",
      "Model weights saved in ../models/distilbert/formality+jokes/joint/pytorch_model.bin\n",
      "Saving model checkpoint to ../models/distilbert/formality+jokes/joint\n",
      "New best model saved at step 1400, epoch 1: f1 = 0.9484118435100404\n",
      "***** Running Evaluation *****\n",
      "Num examples = <torch.utils.data.dataset.TensorDataset object at 0x7f26f5c9df40>\n",
      "Total eval batch size = 512\n"
     ]
    },
    {
     "output_type": "display_data",
     "data": {
      "text/plain": "HBox(children=(FloatProgress(value=0.0, description='Iteration', max=231.0, style=ProgressStyle(description_wi…",
      "application/vnd.jupyter.widget-view+json": {
       "version_major": 2,
       "version_minor": 0,
       "model_id": "591942ba522543daad1abb890fd63c1e"
      }
     },
     "metadata": {}
    },
    {
     "output_type": "stream",
     "name": "stderr",
     "text": [
      "Configuration saved in ../models/distilbert/formality+jokes/joint/config.json\n",
      "\n",
      "Model weights saved in ../models/distilbert/formality+jokes/joint/pytorch_model.bin\n",
      "Saving model checkpoint to ../models/distilbert/formality+jokes/joint\n",
      "New best model saved at step 1500, epoch 1: f1 = 0.9489761098382863\n",
      "***** Running Evaluation *****\n",
      "Num examples = <torch.utils.data.dataset.TensorDataset object at 0x7f26f5c9df40>\n",
      "Total eval batch size = 512\n"
     ]
    },
    {
     "output_type": "display_data",
     "data": {
      "text/plain": "HBox(children=(FloatProgress(value=0.0, description='Iteration', max=231.0, style=ProgressStyle(description_wi…",
      "application/vnd.jupyter.widget-view+json": {
       "version_major": 2,
       "version_minor": 0,
       "model_id": "39935450ee624a3b960145cce399a68a"
      }
     },
     "metadata": {}
    },
    {
     "output_type": "stream",
     "name": "stderr",
     "text": [
      "Best model still at step 1500, epoch 1\n",
      "\n",
      "***** Running Evaluation *****\n",
      "Num examples = <torch.utils.data.dataset.TensorDataset object at 0x7f26f5c9df40>\n",
      "Total eval batch size = 512\n"
     ]
    },
    {
     "output_type": "display_data",
     "data": {
      "text/plain": "HBox(children=(FloatProgress(value=0.0, description='Iteration', max=231.0, style=ProgressStyle(description_wi…",
      "application/vnd.jupyter.widget-view+json": {
       "version_major": 2,
       "version_minor": 0,
       "model_id": "fe5bbb03ea7046c38c9889d879d0c28a"
      }
     },
     "metadata": {}
    },
    {
     "output_type": "stream",
     "name": "stderr",
     "text": [
      "Best model still at step 1500, epoch 1\n",
      "\n",
      "***** Running Evaluation *****\n",
      "Num examples = <torch.utils.data.dataset.TensorDataset object at 0x7f26f5c9df40>\n",
      "Total eval batch size = 512\n"
     ]
    },
    {
     "output_type": "display_data",
     "data": {
      "text/plain": "HBox(children=(FloatProgress(value=0.0, description='Iteration', max=231.0, style=ProgressStyle(description_wi…",
      "application/vnd.jupyter.widget-view+json": {
       "version_major": 2,
       "version_minor": 0,
       "model_id": "8e8f753974a14207b3d8dc7208f14c3a"
      }
     },
     "metadata": {}
    },
    {
     "output_type": "stream",
     "name": "stderr",
     "text": [
      "Configuration saved in ../models/distilbert/formality+jokes/joint/config.json\n",
      "\n",
      "Model weights saved in ../models/distilbert/formality+jokes/joint/pytorch_model.bin\n",
      "Saving model checkpoint to ../models/distilbert/formality+jokes/joint\n",
      "New best model saved at step 1800, epoch 1: f1 = 0.9502943809304\n",
      "\n"
     ]
    },
    {
     "output_type": "display_data",
     "data": {
      "text/plain": "HBox(children=(FloatProgress(value=0.0, description='Iteration', max=921.0, style=ProgressStyle(description_wi…",
      "application/vnd.jupyter.widget-view+json": {
       "version_major": 2,
       "version_minor": 0,
       "model_id": "619ede86a9bd4e82a4de461572b7c28e"
      }
     },
     "metadata": {}
    },
    {
     "output_type": "stream",
     "name": "stderr",
     "text": [
      "***** Running Evaluation *****\n",
      "Num examples = <torch.utils.data.dataset.TensorDataset object at 0x7f26f5c9df40>\n",
      "Total eval batch size = 512\n"
     ]
    },
    {
     "output_type": "display_data",
     "data": {
      "text/plain": "HBox(children=(FloatProgress(value=0.0, description='Iteration', max=231.0, style=ProgressStyle(description_wi…",
      "application/vnd.jupyter.widget-view+json": {
       "version_major": 2,
       "version_minor": 0,
       "model_id": "ca84a08264bb492b86e3be6d0c50d7b2"
      }
     },
     "metadata": {}
    },
    {
     "output_type": "stream",
     "name": "stderr",
     "text": [
      "Configuration saved in ../models/distilbert/formality+jokes/joint/config.json\n",
      "\n",
      "Model weights saved in ../models/distilbert/formality+jokes/joint/pytorch_model.bin\n",
      "Saving model checkpoint to ../models/distilbert/formality+jokes/joint\n",
      "New best model saved at step 1900, epoch 2: f1 = 0.950810329733419\n",
      "***** Running Evaluation *****\n",
      "Num examples = <torch.utils.data.dataset.TensorDataset object at 0x7f26f5c9df40>\n",
      "Total eval batch size = 512\n"
     ]
    },
    {
     "output_type": "display_data",
     "data": {
      "text/plain": "HBox(children=(FloatProgress(value=0.0, description='Iteration', max=231.0, style=ProgressStyle(description_wi…",
      "application/vnd.jupyter.widget-view+json": {
       "version_major": 2,
       "version_minor": 0,
       "model_id": "95fbe724cc25461aaa1cd3c51deb202e"
      }
     },
     "metadata": {}
    },
    {
     "output_type": "stream",
     "name": "stderr",
     "text": [
      "Best model still at step 1900, epoch 2\n",
      "\n",
      "***** Running Evaluation *****\n",
      "Num examples = <torch.utils.data.dataset.TensorDataset object at 0x7f26f5c9df40>\n",
      "Total eval batch size = 512\n"
     ]
    },
    {
     "output_type": "display_data",
     "data": {
      "text/plain": "HBox(children=(FloatProgress(value=0.0, description='Iteration', max=231.0, style=ProgressStyle(description_wi…",
      "application/vnd.jupyter.widget-view+json": {
       "version_major": 2,
       "version_minor": 0,
       "model_id": "48965bd0439043deab9b4f3b29d38a5f"
      }
     },
     "metadata": {}
    },
    {
     "output_type": "stream",
     "name": "stderr",
     "text": [
      "Best model still at step 1900, epoch 2\n",
      "\n",
      "***** Running Evaluation *****\n",
      "Num examples = <torch.utils.data.dataset.TensorDataset object at 0x7f26f5c9df40>\n",
      "Total eval batch size = 512\n"
     ]
    },
    {
     "output_type": "display_data",
     "data": {
      "text/plain": "HBox(children=(FloatProgress(value=0.0, description='Iteration', max=231.0, style=ProgressStyle(description_wi…",
      "application/vnd.jupyter.widget-view+json": {
       "version_major": 2,
       "version_minor": 0,
       "model_id": "a8934f68577e4ff0921e359494523098"
      }
     },
     "metadata": {}
    },
    {
     "output_type": "stream",
     "name": "stderr",
     "text": [
      "Configuration saved in ../models/distilbert/formality+jokes/joint/config.json\n",
      "\n",
      "Model weights saved in ../models/distilbert/formality+jokes/joint/pytorch_model.bin\n",
      "Saving model checkpoint to ../models/distilbert/formality+jokes/joint\n",
      "New best model saved at step 2200, epoch 2: f1 = 0.9511136685950362\n",
      "***** Running Evaluation *****\n",
      "Num examples = <torch.utils.data.dataset.TensorDataset object at 0x7f26f5c9df40>\n",
      "Total eval batch size = 512\n"
     ]
    },
    {
     "output_type": "display_data",
     "data": {
      "text/plain": "HBox(children=(FloatProgress(value=0.0, description='Iteration', max=231.0, style=ProgressStyle(description_wi…",
      "application/vnd.jupyter.widget-view+json": {
       "version_major": 2,
       "version_minor": 0,
       "model_id": "382072832b49429bb67e5108e80cac12"
      }
     },
     "metadata": {}
    },
    {
     "output_type": "stream",
     "name": "stderr",
     "text": [
      "Configuration saved in ../models/distilbert/formality+jokes/joint/config.json\n",
      "\n",
      "Model weights saved in ../models/distilbert/formality+jokes/joint/pytorch_model.bin\n",
      "Saving model checkpoint to ../models/distilbert/formality+jokes/joint\n",
      "New best model saved at step 2300, epoch 2: f1 = 0.9512224817264607\n",
      "***** Running Evaluation *****\n",
      "Num examples = <torch.utils.data.dataset.TensorDataset object at 0x7f26f5c9df40>\n",
      "Total eval batch size = 512\n"
     ]
    },
    {
     "output_type": "display_data",
     "data": {
      "text/plain": "HBox(children=(FloatProgress(value=0.0, description='Iteration', max=231.0, style=ProgressStyle(description_wi…",
      "application/vnd.jupyter.widget-view+json": {
       "version_major": 2,
       "version_minor": 0,
       "model_id": "78c95ee879a14809bfb92d2c41830e5b"
      }
     },
     "metadata": {}
    },
    {
     "output_type": "stream",
     "name": "stderr",
     "text": [
      "Configuration saved in ../models/distilbert/formality+jokes/joint/config.json\n",
      "\n",
      "Model weights saved in ../models/distilbert/formality+jokes/joint/pytorch_model.bin\n",
      "Saving model checkpoint to ../models/distilbert/formality+jokes/joint\n",
      "New best model saved at step 2400, epoch 2: f1 = 0.9512435596656639\n",
      "***** Running Evaluation *****\n",
      "Num examples = <torch.utils.data.dataset.TensorDataset object at 0x7f26f5c9df40>\n",
      "Total eval batch size = 512\n"
     ]
    },
    {
     "output_type": "display_data",
     "data": {
      "text/plain": "HBox(children=(FloatProgress(value=0.0, description='Iteration', max=231.0, style=ProgressStyle(description_wi…",
      "application/vnd.jupyter.widget-view+json": {
       "version_major": 2,
       "version_minor": 0,
       "model_id": "489098fe96e44ec7af9a178dad8ab608"
      }
     },
     "metadata": {}
    },
    {
     "output_type": "stream",
     "name": "stderr",
     "text": [
      "Configuration saved in ../models/distilbert/formality+jokes/joint/config.json\n",
      "\n",
      "Model weights saved in ../models/distilbert/formality+jokes/joint/pytorch_model.bin\n",
      "Saving model checkpoint to ../models/distilbert/formality+jokes/joint\n",
      "New best model saved at step 2500, epoch 2: f1 = 0.9516163884126394\n",
      "***** Running Evaluation *****\n",
      "Num examples = <torch.utils.data.dataset.TensorDataset object at 0x7f26f5c9df40>\n",
      "Total eval batch size = 512\n"
     ]
    },
    {
     "output_type": "display_data",
     "data": {
      "text/plain": "HBox(children=(FloatProgress(value=0.0, description='Iteration', max=231.0, style=ProgressStyle(description_wi…",
      "application/vnd.jupyter.widget-view+json": {
       "version_major": 2,
       "version_minor": 0,
       "model_id": "b3f060a0d3f7441687ef93986e5ccf21"
      }
     },
     "metadata": {}
    },
    {
     "output_type": "stream",
     "name": "stderr",
     "text": [
      "Configuration saved in ../models/distilbert/formality+jokes/joint/config.json\n",
      "\n",
      "Model weights saved in ../models/distilbert/formality+jokes/joint/pytorch_model.bin\n",
      "Saving model checkpoint to ../models/distilbert/formality+jokes/joint\n",
      "New best model saved at step 2600, epoch 2: f1 = 0.9516536196409374\n",
      "***** Running Evaluation *****\n",
      "Num examples = <torch.utils.data.dataset.TensorDataset object at 0x7f26f5c9df40>\n",
      "Total eval batch size = 512\n"
     ]
    },
    {
     "output_type": "display_data",
     "data": {
      "text/plain": "HBox(children=(FloatProgress(value=0.0, description='Iteration', max=231.0, style=ProgressStyle(description_wi…",
      "application/vnd.jupyter.widget-view+json": {
       "version_major": 2,
       "version_minor": 0,
       "model_id": "d9c8597bfa8b494c838a496f642ad33e"
      }
     },
     "metadata": {}
    },
    {
     "output_type": "stream",
     "name": "stderr",
     "text": [
      "Best model still at step 2600, epoch 2\n",
      "\n",
      "\n",
      "\n"
     ]
    },
    {
     "output_type": "execute_result",
     "data": {
      "text/plain": [
       "(2763, 0.2426984514953475)"
      ]
     },
     "metadata": {},
     "execution_count": 18
    }
   ],
   "source": [
    "print(f\"Processing Joint Task : {tasks}\")\n",
    "model = JointSeqClassifier.from_pretrained(model_args.model_name_or_path,tasks=tasks, model_args=model_args,\n",
    "                                                   task_if_single=None, joint = training_args.train_jointly)\n",
    "trainer = JointTrainer([training_args,model_args, data_args], model, train_dataset, dev_dataset, idx_to_classes)\n",
    "trainer.train()"
   ]
  },
  {
   "source": [
    "## 5. Predict for a sentence"
   ],
   "cell_type": "markdown",
   "metadata": {}
  },
  {
   "cell_type": "code",
   "execution_count": 19,
   "metadata": {},
   "outputs": [
    {
     "output_type": "stream",
     "name": "stderr",
     "text": [
      "loading configuration file ../models/distilbert/formality+jokes/joint/config.json\n",
      "Model config DistilBertConfig {\n",
      "  \"_name_or_path\": \"distilbert-base-cased\",\n",
      "  \"activation\": \"gelu\",\n",
      "  \"architectures\": [\n",
      "    \"JointSeqClassifier\"\n",
      "  ],\n",
      "  \"attention_dropout\": 0.1,\n",
      "  \"dim\": 768,\n",
      "  \"dropout\": 0.1,\n",
      "  \"hidden_dim\": 3072,\n",
      "  \"initializer_range\": 0.02,\n",
      "  \"max_position_embeddings\": 512,\n",
      "  \"model_type\": \"distilbert\",\n",
      "  \"n_heads\": 12,\n",
      "  \"n_layers\": 6,\n",
      "  \"output_past\": true,\n",
      "  \"pad_token_id\": 0,\n",
      "  \"qa_dropout\": 0.1,\n",
      "  \"seq_classif_dropout\": 0.2,\n",
      "  \"sinusoidal_pos_embds\": false,\n",
      "  \"tie_weights_\": true,\n",
      "  \"transformers_version\": \"4.4.0.dev0\",\n",
      "  \"vocab_size\": 28996\n",
      "}\n",
      "\n",
      "loading weights file ../models/distilbert/formality+jokes/joint/pytorch_model.bin\n",
      "All model checkpoint weights were used when initializing JointSeqClassifier.\n",
      "\n",
      "All the weights of JointSeqClassifier were initialized from the model checkpoint at ../models/distilbert/formality+jokes/joint.\n",
      "If your task is similar to the task the model of the checkpoint was trained on, you can already use JointSeqClassifier for predictions without further training.\n"
     ]
    }
   ],
   "source": [
    "model = JointSeqClassifier.from_pretrained(training_args.output_dir,tasks=tasks, model_args=model_args,\n",
    "                                                   task_if_single=None, joint = training_args.train_jointly)\n",
    "trainer = JointTrainer([training_args,model_args, data_args], model, train_dataset, dev_dataset, idx_to_classes)"
   ]
  },
  {
   "cell_type": "code",
   "execution_count": 28,
   "metadata": {},
   "outputs": [
    {
     "output_type": "execute_result",
     "data": {
      "text/plain": [
       "{'formality': {'class': 'informal', 'prob': 0.96661514},\n",
       " 'jokes': {'class': 'nojoke', 'prob': 0.9876714}}"
      ]
     },
     "metadata": {},
     "execution_count": 28
    }
   ],
   "source": [
    "sentence = \"lol, that's dope\"\n",
    "trainer.predict_for_sentence(sentence, tokenizer)"
   ]
  },
  {
   "cell_type": "code",
   "execution_count": null,
   "metadata": {},
   "outputs": [],
   "source": []
  }
 ],
 "metadata": {
  "kernelspec": {
   "name": "python3",
   "display_name": "Python 3.8.8 64-bit ('marvin': conda)",
   "metadata": {
    "interpreter": {
     "hash": "98037a696054ba6333485ba1eda7d4b13de5ba8596b9581751e7239af6bf3f61"
    }
   }
  },
  "language_info": {
   "codemirror_mode": {
    "name": "ipython",
    "version": 3
   },
   "file_extension": ".py",
   "mimetype": "text/x-python",
   "name": "python",
   "nbconvert_exporter": "python",
   "pygments_lexer": "ipython3",
   "version": "3.8.8-final"
  }
 },
 "nbformat": 4,
 "nbformat_minor": 5
}