{
 "cells": [
  {
   "cell_type": "markdown",
   "id": "interstate-combination",
   "metadata": {},
   "source": [
    "# Joint Modeling Notebook\n",
    "\n",
    "Run the following cells to train a joint classifier"
   ]
  },
  {
   "cell_type": "markdown",
   "id": "upper-austria",
   "metadata": {},
   "source": [
    "## 0. Imports"
   ]
  },
  {
   "cell_type": "code",
   "execution_count": 2,
   "id": "interracial-gallery",
   "metadata": {},
   "outputs": [],
   "source": [
    "%load_ext autoreload\n",
    "%autoreload 2\n",
    "    \n",
    "import sys\n",
    "sys.path.append('../jointclassifier/')\n",
    "from joint_args import ModelArguments, DataTrainingArguments, TrainingArguments\n",
    "from joint_dataloader import load_dataset\n",
    "from joint_trainer import JointTrainer\n",
    "from single_trainer import SingleTrainer\n",
    "from joint_model_v1 import JointSeqClassifier\n",
    "\n",
    "from transformers import HfArgumentParser, AutoConfig, AutoTokenizer\n",
    "import os"
   ]
  },
  {
   "cell_type": "markdown",
   "id": "graduate-sample",
   "metadata": {},
   "source": [
    "## 1. Initialize the Arguments"
   ]
  },
  {
   "cell_type": "code",
   "execution_count": 3,
   "id": "royal-fashion",
   "metadata": {},
   "outputs": [
    {
     "name": "stderr",
     "output_type": "stream",
     "text": [
      "PyTorch: setting up devices\n",
      "/home/nuwandavek/anaconda3/envs/marvin/lib/python3.8/site-packages/torch/cuda/__init__.py:52: UserWarning: CUDA initialization: CUDA unknown error - this may be due to an incorrectly set up environment, e.g. changing env variable CUDA_VISIBLE_DEVICES after program start. Setting the available devices to be zero. (Triggered internally at  /pytorch/c10/cuda/CUDAFunctions.cpp:100.)\n",
      "  return torch._C._cuda_getDeviceCount() > 0\n"
     ]
    }
   ],
   "source": [
    "task = \"formality_toy\"\n",
    "data_dir = \"../data/processed/\"\n",
    "model_name = \"distilbert-base-cased\"\n",
    "model_nick = \"distilbert\"\n",
    "output_dir = \"../models/\"\n",
    "freeze_encoder = \"False\"\n",
    "skip_preclassifier = \"False\"\n",
    "train_jointly = \"True\"\n",
    "epochs = \"5\"\n",
    "\n",
    "parser = HfArgumentParser((ModelArguments, DataTrainingArguments, TrainingArguments))\n",
    "model_args, data_args, training_args = parser.parse_args_into_dataclasses([\n",
    "    \"--model_name_or_path\",\n",
    "    model_name,\n",
    "    \"--model_nick\",\n",
    "    model_nick,\n",
    "    \"--task\",\n",
    "    task,\n",
    "    \"--data_dir\",\n",
    "    data_dir,\n",
    "    \"--output_dir\",\n",
    "    os.path.join(output_dir, model_nick),\n",
    "    \"--cache_dir\",\n",
    "    os.path.join(output_dir, model_nick,\"cache\"),\n",
    "    \"--freeze_encoder\",\n",
    "    freeze_encoder,\n",
    "    \"--skip_preclassifier\",\n",
    "    skip_preclassifier,\n",
    "    \"--train_jointly\",\n",
    "    train_jointly,\n",
    "    \"--overwrite_cache\",\n",
    "    \"--per_device_train_batch_size\",\n",
    "    \"16\",\n",
    "    \"--per_device_eval_batch_size\",\n",
    "    \"16\",\n",
    "    \"--max_seq_len\",\n",
    "    \"64\",\n",
    "    \"--gradient_accumulation_steps\",\n",
    "    \"1\",\n",
    "    \"--num_train_epochs\",\n",
    "    epochs,\n",
    "    \"--logging_steps\",\n",
    "    \"100\",\n",
    "    \"--save_steps\",\n",
    "    \"100\"\n",
    "])\n"
   ]
  },
  {
   "cell_type": "markdown",
   "id": "cross-stake",
   "metadata": {},
   "source": [
    "## 2. Load the Tokenizer"
   ]
  },
  {
   "cell_type": "code",
   "execution_count": 4,
   "id": "about-reproduction",
   "metadata": {
    "scrolled": true
   },
   "outputs": [
    {
     "name": "stderr",
     "output_type": "stream",
     "text": [
      "loading configuration file https://huggingface.co/distilbert-base-cased/resolve/main/config.json from cache at ../models/distilbert/cache/ebe1ea24d11aa664488b8de5b21e33989008ca78f207d4e30ec6350b693f073f.302bfd1b5e031cc1b17796e0b6e5b242ba2045d31d00f97589e12b458ebff27a\n",
      "Model config DistilBertConfig {\n",
      "  \"activation\": \"gelu\",\n",
      "  \"attention_dropout\": 0.1,\n",
      "  \"dim\": 768,\n",
      "  \"dropout\": 0.1,\n",
      "  \"hidden_dim\": 3072,\n",
      "  \"initializer_range\": 0.02,\n",
      "  \"max_position_embeddings\": 512,\n",
      "  \"model_type\": \"distilbert\",\n",
      "  \"n_heads\": 12,\n",
      "  \"n_layers\": 6,\n",
      "  \"output_past\": true,\n",
      "  \"pad_token_id\": 0,\n",
      "  \"qa_dropout\": 0.1,\n",
      "  \"seq_classif_dropout\": 0.2,\n",
      "  \"sinusoidal_pos_embds\": false,\n",
      "  \"tie_weights_\": true,\n",
      "  \"transformers_version\": \"4.3.3\",\n",
      "  \"vocab_size\": 28996\n",
      "}\n",
      "\n",
      "loading configuration file https://huggingface.co/distilbert-base-cased/resolve/main/config.json from cache at ../models/distilbert/cache/ebe1ea24d11aa664488b8de5b21e33989008ca78f207d4e30ec6350b693f073f.302bfd1b5e031cc1b17796e0b6e5b242ba2045d31d00f97589e12b458ebff27a\n",
      "Model config DistilBertConfig {\n",
      "  \"activation\": \"gelu\",\n",
      "  \"attention_dropout\": 0.1,\n",
      "  \"dim\": 768,\n",
      "  \"dropout\": 0.1,\n",
      "  \"hidden_dim\": 3072,\n",
      "  \"initializer_range\": 0.02,\n",
      "  \"max_position_embeddings\": 512,\n",
      "  \"model_type\": \"distilbert\",\n",
      "  \"n_heads\": 12,\n",
      "  \"n_layers\": 6,\n",
      "  \"output_past\": true,\n",
      "  \"pad_token_id\": 0,\n",
      "  \"qa_dropout\": 0.1,\n",
      "  \"seq_classif_dropout\": 0.2,\n",
      "  \"sinusoidal_pos_embds\": false,\n",
      "  \"tie_weights_\": true,\n",
      "  \"transformers_version\": \"4.3.3\",\n",
      "  \"vocab_size\": 28996\n",
      "}\n",
      "\n",
      "loading file https://huggingface.co/bert-base-cased/resolve/main/vocab.txt from cache at ../models/distilbert/cache/6508e60ab3c1200bffa26c95f4b58ac6b6d95fba4db1f195f632fa3cd7bc64cc.437aa611e89f6fc6675a049d2b5545390adbc617e7d655286421c191d2be2791\n",
      "loading file https://huggingface.co/bert-base-cased/resolve/main/tokenizer.json from cache at ../models/distilbert/cache/226a307193a9f4344264cdc76a12988448a25345ba172f2c7421f3b6810fddad.3dab63143af66769bbb35e3811f75f7e16b2320e12b7935e216bd6159ce6d9a6\n"
     ]
    }
   ],
   "source": [
    "model_config = AutoConfig.from_pretrained(model_args.model_name_or_path, cache_dir=model_args.cache_dir)\n",
    "tokenizer = AutoTokenizer.from_pretrained(model_args.model_name_or_path, cache_dir=model_args.cache_dir,\n",
    "                                         model_max_length = data_args.max_seq_len)\n",
    "    "
   ]
  },
  {
   "cell_type": "markdown",
   "id": "prerequisite-glance",
   "metadata": {},
   "source": [
    "## 3. Load the datasets \n",
    "Note : Single for Joint Training, Dict for Separate Training"
   ]
  },
  {
   "cell_type": "code",
   "execution_count": 5,
   "id": "prescribed-proportion",
   "metadata": {},
   "outputs": [
    {
     "name": "stderr",
     "output_type": "stream",
     "text": [
      "1000it [00:00, 2535.43it/s]\n",
      "200it [00:00, 3007.23it/s]"
     ]
    },
    {
     "name": "stdout",
     "output_type": "stream",
     "text": [
      "torch.Size([1000, 64]) torch.Size([1000, 64]) torch.Size([1000, 1]) torch.Size([1000])\n",
      "torch.Size([200, 64]) torch.Size([200, 64]) torch.Size([200, 1]) torch.Size([200])\n"
     ]
    },
    {
     "name": "stderr",
     "output_type": "stream",
     "text": [
      "\n"
     ]
    }
   ],
   "source": [
    "tasks = data_args.task.split('+')\n",
    "train_dataset = load_dataset(data_args.data_dir, tokenizer, model_name=model_args.model_name_or_path, \n",
    "                            tasks=tasks, mode=\"train\")\n",
    "dev_dataset = load_dataset(data_args.data_dir, tokenizer, model_name=model_args.model_name_or_path, \n",
    "                            tasks=tasks, mode=\"dev\")"
   ]
  },
  {
   "cell_type": "markdown",
   "id": "honest-russia",
   "metadata": {},
   "source": [
    "## 4. Initialize the Model"
   ]
  },
  {
   "cell_type": "code",
   "execution_count": null,
   "id": "cooperative-fifty",
   "metadata": {},
   "outputs": [],
   "source": [
    "model = JointSeqClassifier.from_pretrained(\"distilbert-base-cased\",tasks=data_args.task, model_args=model_args)"
   ]
  },
  {
   "cell_type": "markdown",
   "id": "fixed-funeral",
   "metadata": {},
   "source": [
    "## 5. Initialize Trainer"
   ]
  },
  {
   "cell_type": "code",
   "execution_count": null,
   "id": "helpful-absolute",
   "metadata": {},
   "outputs": [],
   "source": [
    "if training_args.train_jointly:\n",
    "    trainer_class = JointTrainer\n",
    "else:\n",
    "    trainer_class = SingleTrainer\n",
    "\n",
    "trainer = trainer_class()"
   ]
  },
  {
   "cell_type": "code",
   "execution_count": null,
   "id": "intense-guess",
   "metadata": {},
   "outputs": [],
   "source": []
  }
 ],
 "metadata": {
  "kernelspec": {
   "display_name": "Python 3",
   "language": "python",
   "name": "python3"
  },
  "language_info": {
   "codemirror_mode": {
    "name": "ipython",
    "version": 3
   },
   "file_extension": ".py",
   "mimetype": "text/x-python",
   "name": "python",
   "nbconvert_exporter": "python",
   "pygments_lexer": "ipython3",
   "version": "3.8.5"
  }
 },
 "nbformat": 4,
 "nbformat_minor": 5
}
