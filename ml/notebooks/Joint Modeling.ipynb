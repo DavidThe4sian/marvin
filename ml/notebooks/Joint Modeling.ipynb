{
 "cells": [
  {
   "cell_type": "markdown",
   "id": "characteristic-forest",
   "metadata": {},
   "source": [
    "# Joint Modeling Notebook\n",
    "\n",
    "Run the following cells to train a joint classifier"
   ]
  },
  {
   "cell_type": "markdown",
   "id": "unauthorized-independence",
   "metadata": {},
   "source": [
    "## 0. Imports"
   ]
  },
  {
   "cell_type": "code",
   "execution_count": 4,
   "id": "imposed-spray",
   "metadata": {},
   "outputs": [
    {
     "name": "stdout",
     "output_type": "stream",
     "text": [
      "The autoreload extension is already loaded. To reload it, use:\n",
      "  %reload_ext autoreload\n",
      "The tensorboard extension is already loaded. To reload it, use:\n",
      "  %reload_ext tensorboard\n"
     ]
    }
   ],
   "source": [
    "%load_ext autoreload\n",
    "%autoreload 2\n",
    "    \n",
    "%load_ext tensorboard\n",
    "\n",
    "import sys\n",
    "sys.path.append('../jointclassifier/')\n",
    "from joint_args import ModelArguments, DataTrainingArguments, TrainingArguments\n",
    "from joint_dataloader import load_dataset\n",
    "from joint_trainer import JointTrainer\n",
    "from single_trainer import SingleTrainer\n",
    "from joint_model_v1 import JointSeqClassifier\n",
    "\n",
    "from transformers import HfArgumentParser, AutoConfig, AutoTokenizer\n",
    "import os"
   ]
  },
  {
   "cell_type": "markdown",
   "id": "infinite-viking",
   "metadata": {},
   "source": [
    "## 1. Initialize the Arguments"
   ]
  },
  {
   "cell_type": "code",
   "execution_count": 5,
   "id": "cardiovascular-pasta",
   "metadata": {},
   "outputs": [
    {
     "name": "stderr",
     "output_type": "stream",
     "text": [
      "PyTorch: setting up devices\n",
      "/home/nuwandavek/anaconda3/envs/marvin/lib/python3.8/site-packages/torch/cuda/__init__.py:52: UserWarning: CUDA initialization: CUDA unknown error - this may be due to an incorrectly set up environment, e.g. changing env variable CUDA_VISIBLE_DEVICES after program start. Setting the available devices to be zero. (Triggered internally at  /pytorch/c10/cuda/CUDAFunctions.cpp:100.)\n",
      "  return torch._C._cuda_getDeviceCount() > 0\n"
     ]
    }
   ],
   "source": [
    "task = \"formality+jokes\"\n",
    "data_dir = \"../data/processed/\"\n",
    "model_name = \"distilbert-base-cased\"\n",
    "model_nick = \"distilbert\"\n",
    "output_dir = \"../models/\"\n",
    "freeze_encoder = \"False\"\n",
    "skip_preclassifier = \"False\"\n",
    "train_jointly = \"True\"\n",
    "epochs = \"3\"\n",
    "train_batch_size = \"256\"\n",
    "eval_batch_size = \"256\"\n",
    "\n",
    "parser = HfArgumentParser((ModelArguments, DataTrainingArguments, TrainingArguments))\n",
    "model_args, data_args, training_args = parser.parse_args_into_dataclasses([\n",
    "    \"--model_name_or_path\",\n",
    "    model_name,\n",
    "    \"--model_nick\",\n",
    "    model_nick,\n",
    "    \"--task\",\n",
    "    task,\n",
    "    \"--data_dir\",\n",
    "    data_dir,\n",
    "    \"--output_dir\",\n",
    "    os.path.join(output_dir, model_nick, task, 'joint'),\n",
    "    \"--cache_dir\",\n",
    "    os.path.join(output_dir,\"cache\"),\n",
    "    \"--freeze_encoder\",\n",
    "    freeze_encoder,\n",
    "    \"--skip_preclassifier\",\n",
    "    skip_preclassifier,\n",
    "    \"--train_jointly\",\n",
    "    train_jointly,\n",
    "    \"--overwrite_cache\",\n",
    "    \"--per_device_train_batch_size\",\n",
    "    train_batch_size,\n",
    "    \"--per_device_eval_batch_size\",\n",
    "    eval_batch_size,\n",
    "    \"--max_seq_len\",\n",
    "    \"64\",\n",
    "    \"--gradient_accumulation_steps\",\n",
    "    \"1\",\n",
    "    \"--num_train_epochs\",\n",
    "    epochs,\n",
    "    \"--logging_steps\",\n",
    "    \"100\",\n",
    "    \"--save_steps\",\n",
    "    \"100\"\n",
    "])\n"
   ]
  },
  {
   "cell_type": "markdown",
   "id": "precise-drain",
   "metadata": {},
   "source": [
    "## 2. Load the Tokenizer"
   ]
  },
  {
   "cell_type": "code",
   "execution_count": 6,
   "id": "organizational-values",
   "metadata": {
    "scrolled": true
   },
   "outputs": [
    {
     "name": "stderr",
     "output_type": "stream",
     "text": [
      "loading configuration file https://huggingface.co/distilbert-base-cased/resolve/main/config.json from cache at ../models/cache/ebe1ea24d11aa664488b8de5b21e33989008ca78f207d4e30ec6350b693f073f.302bfd1b5e031cc1b17796e0b6e5b242ba2045d31d00f97589e12b458ebff27a\n",
      "Model config DistilBertConfig {\n",
      "  \"activation\": \"gelu\",\n",
      "  \"attention_dropout\": 0.1,\n",
      "  \"dim\": 768,\n",
      "  \"dropout\": 0.1,\n",
      "  \"hidden_dim\": 3072,\n",
      "  \"initializer_range\": 0.02,\n",
      "  \"max_position_embeddings\": 512,\n",
      "  \"model_type\": \"distilbert\",\n",
      "  \"n_heads\": 12,\n",
      "  \"n_layers\": 6,\n",
      "  \"output_past\": true,\n",
      "  \"pad_token_id\": 0,\n",
      "  \"qa_dropout\": 0.1,\n",
      "  \"seq_classif_dropout\": 0.2,\n",
      "  \"sinusoidal_pos_embds\": false,\n",
      "  \"tie_weights_\": true,\n",
      "  \"transformers_version\": \"4.3.3\",\n",
      "  \"vocab_size\": 28996\n",
      "}\n",
      "\n",
      "loading configuration file https://huggingface.co/distilbert-base-cased/resolve/main/config.json from cache at ../models/cache/ebe1ea24d11aa664488b8de5b21e33989008ca78f207d4e30ec6350b693f073f.302bfd1b5e031cc1b17796e0b6e5b242ba2045d31d00f97589e12b458ebff27a\n",
      "Model config DistilBertConfig {\n",
      "  \"activation\": \"gelu\",\n",
      "  \"attention_dropout\": 0.1,\n",
      "  \"dim\": 768,\n",
      "  \"dropout\": 0.1,\n",
      "  \"hidden_dim\": 3072,\n",
      "  \"initializer_range\": 0.02,\n",
      "  \"max_position_embeddings\": 512,\n",
      "  \"model_type\": \"distilbert\",\n",
      "  \"n_heads\": 12,\n",
      "  \"n_layers\": 6,\n",
      "  \"output_past\": true,\n",
      "  \"pad_token_id\": 0,\n",
      "  \"qa_dropout\": 0.1,\n",
      "  \"seq_classif_dropout\": 0.2,\n",
      "  \"sinusoidal_pos_embds\": false,\n",
      "  \"tie_weights_\": true,\n",
      "  \"transformers_version\": \"4.3.3\",\n",
      "  \"vocab_size\": 28996\n",
      "}\n",
      "\n",
      "loading file https://huggingface.co/bert-base-cased/resolve/main/vocab.txt from cache at ../models/cache/6508e60ab3c1200bffa26c95f4b58ac6b6d95fba4db1f195f632fa3cd7bc64cc.437aa611e89f6fc6675a049d2b5545390adbc617e7d655286421c191d2be2791\n",
      "loading file https://huggingface.co/bert-base-cased/resolve/main/tokenizer.json from cache at ../models/cache/226a307193a9f4344264cdc76a12988448a25345ba172f2c7421f3b6810fddad.3dab63143af66769bbb35e3811f75f7e16b2320e12b7935e216bd6159ce6d9a6\n"
     ]
    }
   ],
   "source": [
    "model_config = AutoConfig.from_pretrained(model_args.model_name_or_path, cache_dir=model_args.cache_dir)\n",
    "tokenizer = AutoTokenizer.from_pretrained(model_args.model_name_or_path, cache_dir=model_args.cache_dir,\n",
    "                                         model_max_length = data_args.max_seq_len)\n",
    "    "
   ]
  },
  {
   "cell_type": "markdown",
   "id": "expensive-television",
   "metadata": {},
   "source": [
    "## 3. Load the datasets \n",
    "Note : Single for Joint Training, Dict for Separate Training"
   ]
  },
  {
   "cell_type": "code",
   "execution_count": 7,
   "id": "graphic-strand",
   "metadata": {},
   "outputs": [
    {
     "name": "stderr",
     "output_type": "stream",
     "text": [
      "100%|██████████| 165/165 [00:05<00:00, 27.64it/s]\n"
     ]
    },
    {
     "name": "stdout",
     "output_type": "stream",
     "text": [
      "torch.Size([169735, 64]) torch.Size([169735, 64]) torch.Size([169735, 2]) torch.Size([169735])\n"
     ]
    },
    {
     "name": "stderr",
     "output_type": "stream",
     "text": [
      "100%|██████████| 294/294 [00:20<00:00, 14.41it/s]\n",
      " 12%|█▏        | 5/41 [00:00<00:00, 43.90it/s]"
     ]
    },
    {
     "name": "stdout",
     "output_type": "stream",
     "text": [
      "torch.Size([471222, 64]) torch.Size([471222, 64]) torch.Size([471222, 2]) torch.Size([471222])\n"
     ]
    },
    {
     "name": "stderr",
     "output_type": "stream",
     "text": [
      "100%|██████████| 41/41 [00:01<00:00, 36.25it/s]\n",
      "  0%|          | 0/73 [00:00<?, ?it/s]"
     ]
    },
    {
     "name": "stdout",
     "output_type": "stream",
     "text": [
      "torch.Size([42434, 64]) torch.Size([42434, 64]) torch.Size([42434, 2]) torch.Size([42434])\n"
     ]
    },
    {
     "name": "stderr",
     "output_type": "stream",
     "text": [
      "100%|██████████| 73/73 [00:02<00:00, 25.47it/s]"
     ]
    },
    {
     "name": "stdout",
     "output_type": "stream",
     "text": [
      "torch.Size([117806, 64]) torch.Size([117806, 64]) torch.Size([117806, 2]) torch.Size([117806])\n"
     ]
    },
    {
     "name": "stderr",
     "output_type": "stream",
     "text": [
      "\n"
     ]
    }
   ],
   "source": [
    "tasks = data_args.task.split('+')\n",
    "train_dataset, idx_to_classes = load_dataset(data_args.data_dir, tokenizer, model_name=model_args.model_name_or_path, \n",
    "                            tasks=tasks, mode=\"train\", n_proc=1024)\n",
    "dev_dataset, _ = load_dataset(data_args.data_dir, tokenizer, model_name=model_args.model_name_or_path, \n",
    "                            tasks=tasks, mode=\"dev\", n_proc=1024)"
   ]
  },
  {
   "cell_type": "markdown",
   "id": "complete-vacation",
   "metadata": {},
   "source": [
    "## 4. Initialize the Trainer and the Model & Train!"
   ]
  },
  {
   "cell_type": "code",
   "execution_count": 7,
   "id": "independent-mumbai",
   "metadata": {},
   "outputs": [
    {
     "data": {
      "text/plain": [
       "Reusing TensorBoard on port 6006 (pid 9917), started 5:51:32 ago. (Use '!kill 9917' to kill it.)"
      ]
     },
     "metadata": {},
     "output_type": "display_data"
    }
   ],
   "source": [
    "# Open TensorBoard\n",
    "%tensorboard --logdir runs"
   ]
  },
  {
   "cell_type": "code",
   "execution_count": 18,
   "id": "voluntary-circus",
   "metadata": {},
   "outputs": [
    {
     "name": "stdout",
     "output_type": "stream",
     "text": [
      "Processing Joint Task : ['formality', 'jokes']\n",
      "loading configuration file https://huggingface.co/distilbert-base-cased/resolve/main/config.json from cache at /home/vivek/.cache/huggingface/transformers/ebe1ea24d11aa664488b8de5b21e33989008ca78f207d4e30ec6350b693f073f.302bfd1b5e031cc1b17796e0b6e5b242ba2045d31d00f97589e12b458ebff27a\n",
      "Model config DistilBertConfig {\n",
      "  \"activation\": \"gelu\",\n",
      "  \"attention_dropout\": 0.1,\n",
      "  \"dim\": 768,\n",
      "  \"dropout\": 0.1,\n",
      "  \"hidden_dim\": 3072,\n",
      "  \"initializer_range\": 0.02,\n",
      "  \"max_position_embeddings\": 512,\n",
      "  \"model_type\": \"distilbert\",\n",
      "  \"n_heads\": 12,\n",
      "  \"n_layers\": 6,\n",
      "  \"output_past\": true,\n",
      "  \"pad_token_id\": 0,\n",
      "  \"qa_dropout\": 0.1,\n",
      "  \"seq_classif_dropout\": 0.2,\n",
      "  \"sinusoidal_pos_embds\": false,\n",
      "  \"tie_weights_\": true,\n",
      "  \"transformers_version\": \"4.4.0.dev0\",\n",
      "  \"vocab_size\": 28996\n",
      "}\n",
      "\n",
      "loading weights file https://huggingface.co/distilbert-base-cased/resolve/main/pytorch_model.bin from cache at /home/vivek/.cache/huggingface/transformers/9c9f39769dba4c5fe379b4bc82973eb01297bd607954621434eb9f1bc85a23a0.06b428c87335c1bb22eae46fdab31c8286efa0aa09e898a7ac42ddf5c3f5dc19\n",
      "Some weights of the model checkpoint at distilbert-base-cased were not used when initializing JointSeqClassifier: ['vocab_transform.weight', 'vocab_transform.bias', 'vocab_layer_norm.weight', 'vocab_layer_norm.bias', 'vocab_projector.weight', 'vocab_projector.bias']\n",
      "- This IS expected if you are initializing JointSeqClassifier from the checkpoint of a model trained on another task or with another architecture (e.g. initializing a BertForSequenceClassification model from a BertForPreTraining model).\n",
      "- This IS NOT expected if you are initializing JointSeqClassifier from the checkpoint of a model that you expect to be exactly identical (initializing a BertForSequenceClassification model from a BertForSequenceClassification model).\n",
      "Some weights of JointSeqClassifier were not initialized from the model checkpoint at distilbert-base-cased and are newly initialized: ['pre_classifier.weight', 'pre_classifier.bias', 'classifier.formality.weight', 'classifier.formality.bias', 'classifier.jokes.weight', 'classifier.jokes.bias']\n",
      "You should probably TRAIN this model on a down-stream task to be able to use it for predictions and inference.\n",
      "***** Running training *****\n",
      "Num examples = <torch.utils.data.dataset.TensorDataset object at 0x7f27d8fea6d0>\n",
      "Num Epochs = 3.0\n",
      "Total train batch size = 512\n",
      "Gradient Accumulation steps = 1\n",
      "Total optimization steps = 2763.0\n",
      "Logging steps = 100\n",
      "Save steps = 100\n"
     ]
    },
    {
     "data": {
      "application/vnd.jupyter.widget-view+json": {
       "model_id": "3c2130d03fde47f4a7058a6e3f781762",
       "version_major": 2,
       "version_minor": 0
      },
      "text/plain": [
       "HBox(children=(FloatProgress(value=0.0, description='Epoch', max=3.0, style=ProgressStyle(description_width='i…"
      ]
     },
     "metadata": {},
     "output_type": "display_data"
    },
    {
     "data": {
      "application/vnd.jupyter.widget-view+json": {
       "model_id": "98b698d623eb44e58900b2a65401a499",
       "version_major": 2,
       "version_minor": 0
      },
      "text/plain": [
       "HBox(children=(FloatProgress(value=0.0, description='Iteration', max=921.0, style=ProgressStyle(description_wi…"
      ]
     },
     "metadata": {},
     "output_type": "display_data"
    },
    {
     "name": "stderr",
     "output_type": "stream",
     "text": [
      "***** Running Evaluation *****\n",
      "Num examples = <torch.utils.data.dataset.TensorDataset object at 0x7f26f5c9df40>\n",
      "Total eval batch size = 512\n"
     ]
    },
    {
     "data": {
      "application/vnd.jupyter.widget-view+json": {
       "model_id": "f2d5b2babd224bdeaacd599215cd99f7",
       "version_major": 2,
       "version_minor": 0
      },
      "text/plain": [
       "HBox(children=(FloatProgress(value=0.0, description='Iteration', max=231.0, style=ProgressStyle(description_wi…"
      ]
     },
     "metadata": {},
     "output_type": "display_data"
    },
    {
     "name": "stderr",
     "output_type": "stream",
     "text": [
      "Configuration saved in ../models/distilbert/formality+jokes/joint/config.json\n",
      "\n",
      "Model weights saved in ../models/distilbert/formality+jokes/joint/pytorch_model.bin\n",
      "Saving model checkpoint to ../models/distilbert/formality+jokes/joint\n",
      "New best model saved at step 100, epoch 0: f1 = 0.9202204838491258\n",
      "***** Running Evaluation *****\n",
      "Num examples = <torch.utils.data.dataset.TensorDataset object at 0x7f26f5c9df40>\n",
      "Total eval batch size = 512\n"
     ]
    },
    {
     "data": {
      "application/vnd.jupyter.widget-view+json": {
       "model_id": "18ba329e66af4241a3c8e328f415674f",
       "version_major": 2,
       "version_minor": 0
      },
      "text/plain": [
       "HBox(children=(FloatProgress(value=0.0, description='Iteration', max=231.0, style=ProgressStyle(description_wi…"
      ]
     },
     "metadata": {},
     "output_type": "display_data"
    },
    {
     "name": "stderr",
     "output_type": "stream",
     "text": [
      "Configuration saved in ../models/distilbert/formality+jokes/joint/config.json\n",
      "\n",
      "Model weights saved in ../models/distilbert/formality+jokes/joint/pytorch_model.bin\n",
      "Saving model checkpoint to ../models/distilbert/formality+jokes/joint\n",
      "New best model saved at step 200, epoch 0: f1 = 0.9305576779070397\n",
      "***** Running Evaluation *****\n",
      "Num examples = <torch.utils.data.dataset.TensorDataset object at 0x7f26f5c9df40>\n",
      "Total eval batch size = 512\n"
     ]
    },
    {
     "data": {
      "application/vnd.jupyter.widget-view+json": {
       "model_id": "02d7be4f0ce244388619681e545a8990",
       "version_major": 2,
       "version_minor": 0
      },
      "text/plain": [
       "HBox(children=(FloatProgress(value=0.0, description='Iteration', max=231.0, style=ProgressStyle(description_wi…"
      ]
     },
     "metadata": {},
     "output_type": "display_data"
    },
    {
     "name": "stderr",
     "output_type": "stream",
     "text": [
      "Configuration saved in ../models/distilbert/formality+jokes/joint/config.json\n",
      "\n",
      "Model weights saved in ../models/distilbert/formality+jokes/joint/pytorch_model.bin\n",
      "Saving model checkpoint to ../models/distilbert/formality+jokes/joint\n",
      "New best model saved at step 300, epoch 0: f1 = 0.9356108974443103\n",
      "***** Running Evaluation *****\n",
      "Num examples = <torch.utils.data.dataset.TensorDataset object at 0x7f26f5c9df40>\n",
      "Total eval batch size = 512\n"
     ]
    },
    {
     "data": {
      "application/vnd.jupyter.widget-view+json": {
       "model_id": "509b7cce670d4016b65c35bb93ecd1fd",
       "version_major": 2,
       "version_minor": 0
      },
      "text/plain": [
       "HBox(children=(FloatProgress(value=0.0, description='Iteration', max=231.0, style=ProgressStyle(description_wi…"
      ]
     },
     "metadata": {},
     "output_type": "display_data"
    },
    {
     "name": "stderr",
     "output_type": "stream",
     "text": [
      "Configuration saved in ../models/distilbert/formality+jokes/joint/config.json\n",
      "\n",
      "Model weights saved in ../models/distilbert/formality+jokes/joint/pytorch_model.bin\n",
      "Saving model checkpoint to ../models/distilbert/formality+jokes/joint\n",
      "New best model saved at step 400, epoch 0: f1 = 0.9388886133874716\n",
      "***** Running Evaluation *****\n",
      "Num examples = <torch.utils.data.dataset.TensorDataset object at 0x7f26f5c9df40>\n",
      "Total eval batch size = 512\n"
     ]
    },
    {
     "data": {
      "application/vnd.jupyter.widget-view+json": {
       "model_id": "6ad0a8b3370141d59a285469cf62cd15",
       "version_major": 2,
       "version_minor": 0
      },
      "text/plain": [
       "HBox(children=(FloatProgress(value=0.0, description='Iteration', max=231.0, style=ProgressStyle(description_wi…"
      ]
     },
     "metadata": {},
     "output_type": "display_data"
    },
    {
     "name": "stderr",
     "output_type": "stream",
     "text": [
      "Configuration saved in ../models/distilbert/formality+jokes/joint/config.json\n",
      "\n",
      "Model weights saved in ../models/distilbert/formality+jokes/joint/pytorch_model.bin\n",
      "Saving model checkpoint to ../models/distilbert/formality+jokes/joint\n",
      "New best model saved at step 500, epoch 0: f1 = 0.9409457077372437\n",
      "***** Running Evaluation *****\n",
      "Num examples = <torch.utils.data.dataset.TensorDataset object at 0x7f26f5c9df40>\n",
      "Total eval batch size = 512\n"
     ]
    },
    {
     "data": {
      "application/vnd.jupyter.widget-view+json": {
       "model_id": "172fd1ee614d4f65a5b7cee686b64dd1",
       "version_major": 2,
       "version_minor": 0
      },
      "text/plain": [
       "HBox(children=(FloatProgress(value=0.0, description='Iteration', max=231.0, style=ProgressStyle(description_wi…"
      ]
     },
     "metadata": {},
     "output_type": "display_data"
    },
    {
     "name": "stderr",
     "output_type": "stream",
     "text": [
      "Best model still at step 500, epoch 0\n",
      "\n",
      "***** Running Evaluation *****\n",
      "Num examples = <torch.utils.data.dataset.TensorDataset object at 0x7f26f5c9df40>\n",
      "Total eval batch size = 512\n"
     ]
    },
    {
     "data": {
      "application/vnd.jupyter.widget-view+json": {
       "model_id": "c6e055891b0543b582e01f05800b8947",
       "version_major": 2,
       "version_minor": 0
      },
      "text/plain": [
       "HBox(children=(FloatProgress(value=0.0, description='Iteration', max=231.0, style=ProgressStyle(description_wi…"
      ]
     },
     "metadata": {},
     "output_type": "display_data"
    },
    {
     "name": "stderr",
     "output_type": "stream",
     "text": [
      "Configuration saved in ../models/distilbert/formality+jokes/joint/config.json\n",
      "\n",
      "Model weights saved in ../models/distilbert/formality+jokes/joint/pytorch_model.bin\n",
      "Saving model checkpoint to ../models/distilbert/formality+jokes/joint\n",
      "New best model saved at step 700, epoch 0: f1 = 0.9426760688934019\n",
      "***** Running Evaluation *****\n",
      "Num examples = <torch.utils.data.dataset.TensorDataset object at 0x7f26f5c9df40>\n",
      "Total eval batch size = 512\n"
     ]
    },
    {
     "data": {
      "application/vnd.jupyter.widget-view+json": {
       "model_id": "d249a711ca46464fb2eacfa44df6e820",
       "version_major": 2,
       "version_minor": 0
      },
      "text/plain": [
       "HBox(children=(FloatProgress(value=0.0, description='Iteration', max=231.0, style=ProgressStyle(description_wi…"
      ]
     },
     "metadata": {},
     "output_type": "display_data"
    },
    {
     "name": "stderr",
     "output_type": "stream",
     "text": [
      "Configuration saved in ../models/distilbert/formality+jokes/joint/config.json\n",
      "\n",
      "Model weights saved in ../models/distilbert/formality+jokes/joint/pytorch_model.bin\n",
      "Saving model checkpoint to ../models/distilbert/formality+jokes/joint\n",
      "New best model saved at step 800, epoch 0: f1 = 0.9446770012023191\n",
      "***** Running Evaluation *****\n",
      "Num examples = <torch.utils.data.dataset.TensorDataset object at 0x7f26f5c9df40>\n",
      "Total eval batch size = 512\n"
     ]
    },
    {
     "data": {
      "application/vnd.jupyter.widget-view+json": {
       "model_id": "d8547dfc920c4afa9c0c904790cc5830",
       "version_major": 2,
       "version_minor": 0
      },
      "text/plain": [
       "HBox(children=(FloatProgress(value=0.0, description='Iteration', max=231.0, style=ProgressStyle(description_wi…"
      ]
     },
     "metadata": {},
     "output_type": "display_data"
    },
    {
     "name": "stderr",
     "output_type": "stream",
     "text": [
      "Configuration saved in ../models/distilbert/formality+jokes/joint/config.json\n",
      "\n",
      "Model weights saved in ../models/distilbert/formality+jokes/joint/pytorch_model.bin\n",
      "Saving model checkpoint to ../models/distilbert/formality+jokes/joint\n",
      "New best model saved at step 900, epoch 0: f1 = 0.9460506854095714\n",
      "\n"
     ]
    },
    {
     "data": {
      "application/vnd.jupyter.widget-view+json": {
       "model_id": "606662c360d0442bb9a0b558eed63086",
       "version_major": 2,
       "version_minor": 0
      },
      "text/plain": [
       "HBox(children=(FloatProgress(value=0.0, description='Iteration', max=921.0, style=ProgressStyle(description_wi…"
      ]
     },
     "metadata": {},
     "output_type": "display_data"
    },
    {
     "name": "stderr",
     "output_type": "stream",
     "text": [
      "***** Running Evaluation *****\n",
      "Num examples = <torch.utils.data.dataset.TensorDataset object at 0x7f26f5c9df40>\n",
      "Total eval batch size = 512\n"
     ]
    },
    {
     "data": {
      "application/vnd.jupyter.widget-view+json": {
       "model_id": "2c4e4ac551f543e488dd084f5785f992",
       "version_major": 2,
       "version_minor": 0
      },
      "text/plain": [
       "HBox(children=(FloatProgress(value=0.0, description='Iteration', max=231.0, style=ProgressStyle(description_wi…"
      ]
     },
     "metadata": {},
     "output_type": "display_data"
    },
    {
     "name": "stderr",
     "output_type": "stream",
     "text": [
      "Best model still at step 900, epoch 0\n",
      "\n",
      "***** Running Evaluation *****\n",
      "Num examples = <torch.utils.data.dataset.TensorDataset object at 0x7f26f5c9df40>\n",
      "Total eval batch size = 512\n"
     ]
    },
    {
     "data": {
      "application/vnd.jupyter.widget-view+json": {
       "model_id": "07e4d8fabf3646cdb9c63e326841ec33",
       "version_major": 2,
       "version_minor": 0
      },
      "text/plain": [
       "HBox(children=(FloatProgress(value=0.0, description='Iteration', max=231.0, style=ProgressStyle(description_wi…"
      ]
     },
     "metadata": {},
     "output_type": "display_data"
    },
    {
     "name": "stderr",
     "output_type": "stream",
     "text": [
      "Configuration saved in ../models/distilbert/formality+jokes/joint/config.json\n",
      "\n",
      "Model weights saved in ../models/distilbert/formality+jokes/joint/pytorch_model.bin\n",
      "Saving model checkpoint to ../models/distilbert/formality+jokes/joint\n",
      "New best model saved at step 1100, epoch 1: f1 = 0.9470740695309554\n",
      "***** Running Evaluation *****\n",
      "Num examples = <torch.utils.data.dataset.TensorDataset object at 0x7f26f5c9df40>\n",
      "Total eval batch size = 512\n"
     ]
    },
    {
     "data": {
      "application/vnd.jupyter.widget-view+json": {
       "model_id": "2b86fe50679e43ae998071f3716cf880",
       "version_major": 2,
       "version_minor": 0
      },
      "text/plain": [
       "HBox(children=(FloatProgress(value=0.0, description='Iteration', max=231.0, style=ProgressStyle(description_wi…"
      ]
     },
     "metadata": {},
     "output_type": "display_data"
    },
    {
     "name": "stderr",
     "output_type": "stream",
     "text": [
      "Configuration saved in ../models/distilbert/formality+jokes/joint/config.json\n",
      "\n",
      "Model weights saved in ../models/distilbert/formality+jokes/joint/pytorch_model.bin\n",
      "Saving model checkpoint to ../models/distilbert/formality+jokes/joint\n",
      "New best model saved at step 1200, epoch 1: f1 = 0.9478049245623469\n",
      "***** Running Evaluation *****\n",
      "Num examples = <torch.utils.data.dataset.TensorDataset object at 0x7f26f5c9df40>\n",
      "Total eval batch size = 512\n"
     ]
    },
    {
     "data": {
      "application/vnd.jupyter.widget-view+json": {
       "model_id": "6e1c4de296a94d6d85a19ceec593078e",
       "version_major": 2,
       "version_minor": 0
      },
      "text/plain": [
       "HBox(children=(FloatProgress(value=0.0, description='Iteration', max=231.0, style=ProgressStyle(description_wi…"
      ]
     },
     "metadata": {},
     "output_type": "display_data"
    },
    {
     "name": "stderr",
     "output_type": "stream",
     "text": [
      "Configuration saved in ../models/distilbert/formality+jokes/joint/config.json\n",
      "\n",
      "Model weights saved in ../models/distilbert/formality+jokes/joint/pytorch_model.bin\n",
      "Saving model checkpoint to ../models/distilbert/formality+jokes/joint\n",
      "New best model saved at step 1300, epoch 1: f1 = 0.948101179358412\n",
      "***** Running Evaluation *****\n",
      "Num examples = <torch.utils.data.dataset.TensorDataset object at 0x7f26f5c9df40>\n",
      "Total eval batch size = 512\n"
     ]
    },
    {
     "data": {
      "application/vnd.jupyter.widget-view+json": {
       "model_id": "b78e2241301040bcac9c90ba8e32d263",
       "version_major": 2,
       "version_minor": 0
      },
      "text/plain": [
       "HBox(children=(FloatProgress(value=0.0, description='Iteration', max=231.0, style=ProgressStyle(description_wi…"
      ]
     },
     "metadata": {},
     "output_type": "display_data"
    },
    {
     "name": "stderr",
     "output_type": "stream",
     "text": [
      "Configuration saved in ../models/distilbert/formality+jokes/joint/config.json\n",
      "\n",
      "Model weights saved in ../models/distilbert/formality+jokes/joint/pytorch_model.bin\n",
      "Saving model checkpoint to ../models/distilbert/formality+jokes/joint\n",
      "New best model saved at step 1400, epoch 1: f1 = 0.9484118435100404\n",
      "***** Running Evaluation *****\n",
      "Num examples = <torch.utils.data.dataset.TensorDataset object at 0x7f26f5c9df40>\n",
      "Total eval batch size = 512\n"
     ]
    },
    {
     "data": {
      "application/vnd.jupyter.widget-view+json": {
       "model_id": "591942ba522543daad1abb890fd63c1e",
       "version_major": 2,
       "version_minor": 0
      },
      "text/plain": [
       "HBox(children=(FloatProgress(value=0.0, description='Iteration', max=231.0, style=ProgressStyle(description_wi…"
      ]
     },
     "metadata": {},
     "output_type": "display_data"
    },
    {
     "name": "stderr",
     "output_type": "stream",
     "text": [
      "Configuration saved in ../models/distilbert/formality+jokes/joint/config.json\n",
      "\n",
      "Model weights saved in ../models/distilbert/formality+jokes/joint/pytorch_model.bin\n",
      "Saving model checkpoint to ../models/distilbert/formality+jokes/joint\n",
      "New best model saved at step 1500, epoch 1: f1 = 0.9489761098382863\n",
      "***** Running Evaluation *****\n",
      "Num examples = <torch.utils.data.dataset.TensorDataset object at 0x7f26f5c9df40>\n",
      "Total eval batch size = 512\n"
     ]
    },
    {
     "data": {
      "application/vnd.jupyter.widget-view+json": {
       "model_id": "39935450ee624a3b960145cce399a68a",
       "version_major": 2,
       "version_minor": 0
      },
      "text/plain": [
       "HBox(children=(FloatProgress(value=0.0, description='Iteration', max=231.0, style=ProgressStyle(description_wi…"
      ]
     },
     "metadata": {},
     "output_type": "display_data"
    },
    {
     "name": "stderr",
     "output_type": "stream",
     "text": [
      "Best model still at step 1500, epoch 1\n",
      "\n",
      "***** Running Evaluation *****\n",
      "Num examples = <torch.utils.data.dataset.TensorDataset object at 0x7f26f5c9df40>\n",
      "Total eval batch size = 512\n"
     ]
    },
    {
     "data": {
      "application/vnd.jupyter.widget-view+json": {
       "model_id": "fe5bbb03ea7046c38c9889d879d0c28a",
       "version_major": 2,
       "version_minor": 0
      },
      "text/plain": [
       "HBox(children=(FloatProgress(value=0.0, description='Iteration', max=231.0, style=ProgressStyle(description_wi…"
      ]
     },
     "metadata": {},
     "output_type": "display_data"
    },
    {
     "name": "stderr",
     "output_type": "stream",
     "text": [
      "Best model still at step 1500, epoch 1\n",
      "\n",
      "***** Running Evaluation *****\n",
      "Num examples = <torch.utils.data.dataset.TensorDataset object at 0x7f26f5c9df40>\n",
      "Total eval batch size = 512\n"
     ]
    },
    {
     "data": {
      "application/vnd.jupyter.widget-view+json": {
       "model_id": "8e8f753974a14207b3d8dc7208f14c3a",
       "version_major": 2,
       "version_minor": 0
      },
      "text/plain": [
       "HBox(children=(FloatProgress(value=0.0, description='Iteration', max=231.0, style=ProgressStyle(description_wi…"
      ]
     },
     "metadata": {},
     "output_type": "display_data"
    },
    {
     "name": "stderr",
     "output_type": "stream",
     "text": [
      "Configuration saved in ../models/distilbert/formality+jokes/joint/config.json\n",
      "\n",
      "Model weights saved in ../models/distilbert/formality+jokes/joint/pytorch_model.bin\n",
      "Saving model checkpoint to ../models/distilbert/formality+jokes/joint\n",
      "New best model saved at step 1800, epoch 1: f1 = 0.9502943809304\n",
      "\n"
     ]
    },
    {
     "data": {
      "application/vnd.jupyter.widget-view+json": {
       "model_id": "619ede86a9bd4e82a4de461572b7c28e",
       "version_major": 2,
       "version_minor": 0
      },
      "text/plain": [
       "HBox(children=(FloatProgress(value=0.0, description='Iteration', max=921.0, style=ProgressStyle(description_wi…"
      ]
     },
     "metadata": {},
     "output_type": "display_data"
    },
    {
     "name": "stderr",
     "output_type": "stream",
     "text": [
      "***** Running Evaluation *****\n",
      "Num examples = <torch.utils.data.dataset.TensorDataset object at 0x7f26f5c9df40>\n",
      "Total eval batch size = 512\n"
     ]
    },
    {
     "data": {
      "application/vnd.jupyter.widget-view+json": {
       "model_id": "ca84a08264bb492b86e3be6d0c50d7b2",
       "version_major": 2,
       "version_minor": 0
      },
      "text/plain": [
       "HBox(children=(FloatProgress(value=0.0, description='Iteration', max=231.0, style=ProgressStyle(description_wi…"
      ]
     },
     "metadata": {},
     "output_type": "display_data"
    },
    {
     "name": "stderr",
     "output_type": "stream",
     "text": [
      "Configuration saved in ../models/distilbert/formality+jokes/joint/config.json\n",
      "\n",
      "Model weights saved in ../models/distilbert/formality+jokes/joint/pytorch_model.bin\n",
      "Saving model checkpoint to ../models/distilbert/formality+jokes/joint\n",
      "New best model saved at step 1900, epoch 2: f1 = 0.950810329733419\n",
      "***** Running Evaluation *****\n",
      "Num examples = <torch.utils.data.dataset.TensorDataset object at 0x7f26f5c9df40>\n",
      "Total eval batch size = 512\n"
     ]
    },
    {
     "data": {
      "application/vnd.jupyter.widget-view+json": {
       "model_id": "95fbe724cc25461aaa1cd3c51deb202e",
       "version_major": 2,
       "version_minor": 0
      },
      "text/plain": [
       "HBox(children=(FloatProgress(value=0.0, description='Iteration', max=231.0, style=ProgressStyle(description_wi…"
      ]
     },
     "metadata": {},
     "output_type": "display_data"
    },
    {
     "name": "stderr",
     "output_type": "stream",
     "text": [
      "Best model still at step 1900, epoch 2\n",
      "\n",
      "***** Running Evaluation *****\n",
      "Num examples = <torch.utils.data.dataset.TensorDataset object at 0x7f26f5c9df40>\n",
      "Total eval batch size = 512\n"
     ]
    },
    {
     "data": {
      "application/vnd.jupyter.widget-view+json": {
       "model_id": "48965bd0439043deab9b4f3b29d38a5f",
       "version_major": 2,
       "version_minor": 0
      },
      "text/plain": [
       "HBox(children=(FloatProgress(value=0.0, description='Iteration', max=231.0, style=ProgressStyle(description_wi…"
      ]
     },
     "metadata": {},
     "output_type": "display_data"
    },
    {
     "name": "stderr",
     "output_type": "stream",
     "text": [
      "Best model still at step 1900, epoch 2\n",
      "\n",
      "***** Running Evaluation *****\n",
      "Num examples = <torch.utils.data.dataset.TensorDataset object at 0x7f26f5c9df40>\n",
      "Total eval batch size = 512\n"
     ]
    },
    {
     "data": {
      "application/vnd.jupyter.widget-view+json": {
       "model_id": "a8934f68577e4ff0921e359494523098",
       "version_major": 2,
       "version_minor": 0
      },
      "text/plain": [
       "HBox(children=(FloatProgress(value=0.0, description='Iteration', max=231.0, style=ProgressStyle(description_wi…"
      ]
     },
     "metadata": {},
     "output_type": "display_data"
    },
    {
     "name": "stderr",
     "output_type": "stream",
     "text": [
      "Configuration saved in ../models/distilbert/formality+jokes/joint/config.json\n",
      "\n",
      "Model weights saved in ../models/distilbert/formality+jokes/joint/pytorch_model.bin\n",
      "Saving model checkpoint to ../models/distilbert/formality+jokes/joint\n",
      "New best model saved at step 2200, epoch 2: f1 = 0.9511136685950362\n",
      "***** Running Evaluation *****\n",
      "Num examples = <torch.utils.data.dataset.TensorDataset object at 0x7f26f5c9df40>\n",
      "Total eval batch size = 512\n"
     ]
    },
    {
     "data": {
      "application/vnd.jupyter.widget-view+json": {
       "model_id": "382072832b49429bb67e5108e80cac12",
       "version_major": 2,
       "version_minor": 0
      },
      "text/plain": [
       "HBox(children=(FloatProgress(value=0.0, description='Iteration', max=231.0, style=ProgressStyle(description_wi…"
      ]
     },
     "metadata": {},
     "output_type": "display_data"
    },
    {
     "name": "stderr",
     "output_type": "stream",
     "text": [
      "Configuration saved in ../models/distilbert/formality+jokes/joint/config.json\n",
      "\n",
      "Model weights saved in ../models/distilbert/formality+jokes/joint/pytorch_model.bin\n",
      "Saving model checkpoint to ../models/distilbert/formality+jokes/joint\n",
      "New best model saved at step 2300, epoch 2: f1 = 0.9512224817264607\n",
      "***** Running Evaluation *****\n",
      "Num examples = <torch.utils.data.dataset.TensorDataset object at 0x7f26f5c9df40>\n",
      "Total eval batch size = 512\n"
     ]
    },
    {
     "data": {
      "application/vnd.jupyter.widget-view+json": {
       "model_id": "78c95ee879a14809bfb92d2c41830e5b",
       "version_major": 2,
       "version_minor": 0
      },
      "text/plain": [
       "HBox(children=(FloatProgress(value=0.0, description='Iteration', max=231.0, style=ProgressStyle(description_wi…"
      ]
     },
     "metadata": {},
     "output_type": "display_data"
    },
    {
     "name": "stderr",
     "output_type": "stream",
     "text": [
      "Configuration saved in ../models/distilbert/formality+jokes/joint/config.json\n",
      "\n",
      "Model weights saved in ../models/distilbert/formality+jokes/joint/pytorch_model.bin\n",
      "Saving model checkpoint to ../models/distilbert/formality+jokes/joint\n",
      "New best model saved at step 2400, epoch 2: f1 = 0.9512435596656639\n",
      "***** Running Evaluation *****\n",
      "Num examples = <torch.utils.data.dataset.TensorDataset object at 0x7f26f5c9df40>\n",
      "Total eval batch size = 512\n"
     ]
    },
    {
     "data": {
      "application/vnd.jupyter.widget-view+json": {
       "model_id": "489098fe96e44ec7af9a178dad8ab608",
       "version_major": 2,
       "version_minor": 0
      },
      "text/plain": [
       "HBox(children=(FloatProgress(value=0.0, description='Iteration', max=231.0, style=ProgressStyle(description_wi…"
      ]
     },
     "metadata": {},
     "output_type": "display_data"
    },
    {
     "name": "stderr",
     "output_type": "stream",
     "text": [
      "Configuration saved in ../models/distilbert/formality+jokes/joint/config.json\n",
      "\n",
      "Model weights saved in ../models/distilbert/formality+jokes/joint/pytorch_model.bin\n",
      "Saving model checkpoint to ../models/distilbert/formality+jokes/joint\n",
      "New best model saved at step 2500, epoch 2: f1 = 0.9516163884126394\n",
      "***** Running Evaluation *****\n",
      "Num examples = <torch.utils.data.dataset.TensorDataset object at 0x7f26f5c9df40>\n",
      "Total eval batch size = 512\n"
     ]
    },
    {
     "data": {
      "application/vnd.jupyter.widget-view+json": {
       "model_id": "b3f060a0d3f7441687ef93986e5ccf21",
       "version_major": 2,
       "version_minor": 0
      },
      "text/plain": [
       "HBox(children=(FloatProgress(value=0.0, description='Iteration', max=231.0, style=ProgressStyle(description_wi…"
      ]
     },
     "metadata": {},
     "output_type": "display_data"
    },
    {
     "name": "stderr",
     "output_type": "stream",
     "text": [
      "Configuration saved in ../models/distilbert/formality+jokes/joint/config.json\n",
      "\n",
      "Model weights saved in ../models/distilbert/formality+jokes/joint/pytorch_model.bin\n",
      "Saving model checkpoint to ../models/distilbert/formality+jokes/joint\n",
      "New best model saved at step 2600, epoch 2: f1 = 0.9516536196409374\n",
      "***** Running Evaluation *****\n",
      "Num examples = <torch.utils.data.dataset.TensorDataset object at 0x7f26f5c9df40>\n",
      "Total eval batch size = 512\n"
     ]
    },
    {
     "data": {
      "application/vnd.jupyter.widget-view+json": {
       "model_id": "d9c8597bfa8b494c838a496f642ad33e",
       "version_major": 2,
       "version_minor": 0
      },
      "text/plain": [
       "HBox(children=(FloatProgress(value=0.0, description='Iteration', max=231.0, style=ProgressStyle(description_wi…"
      ]
     },
     "metadata": {},
     "output_type": "display_data"
    },
    {
     "name": "stderr",
     "output_type": "stream",
     "text": [
      "Best model still at step 2600, epoch 2\n",
      "\n",
      "\n",
      "\n"
     ]
    },
    {
     "data": {
      "text/plain": [
       "(2763, 0.2426984514953475)"
      ]
     },
     "execution_count": 18,
     "metadata": {},
     "output_type": "execute_result"
    }
   ],
   "source": [
    "print(f\"Processing Joint Task : {tasks}\")\n",
    "model = JointSeqClassifier.from_pretrained(model_args.model_name_or_path,tasks=tasks, model_args=model_args,\n",
    "                                                   task_if_single=None, joint = training_args.train_jointly)\n",
    "trainer = JointTrainer([training_args,model_args, data_args], model, train_dataset, dev_dataset, idx_to_classes)\n",
    "trainer.train()"
   ]
  },
  {
   "cell_type": "markdown",
   "id": "about-malawi",
   "metadata": {},
   "source": [
    "## 5. Predict for a sentence"
   ]
  },
  {
   "cell_type": "code",
   "execution_count": 8,
   "id": "personalized-cornwall",
   "metadata": {},
   "outputs": [
    {
     "name": "stderr",
     "output_type": "stream",
     "text": [
      "loading configuration file ../models/distilbert/formality+jokes/joint/config.json\n",
      "Model config DistilBertConfig {\n",
      "  \"_name_or_path\": \"distilbert-base-cased\",\n",
      "  \"activation\": \"gelu\",\n",
      "  \"architectures\": [\n",
      "    \"JointSeqClassifier\"\n",
      "  ],\n",
      "  \"attention_dropout\": 0.1,\n",
      "  \"dim\": 768,\n",
      "  \"dropout\": 0.1,\n",
      "  \"hidden_dim\": 3072,\n",
      "  \"initializer_range\": 0.02,\n",
      "  \"max_position_embeddings\": 512,\n",
      "  \"model_type\": \"distilbert\",\n",
      "  \"n_heads\": 12,\n",
      "  \"n_layers\": 6,\n",
      "  \"output_past\": true,\n",
      "  \"pad_token_id\": 0,\n",
      "  \"qa_dropout\": 0.1,\n",
      "  \"seq_classif_dropout\": 0.2,\n",
      "  \"sinusoidal_pos_embds\": false,\n",
      "  \"tie_weights_\": true,\n",
      "  \"transformers_version\": \"4.3.3\",\n",
      "  \"vocab_size\": 28996\n",
      "}\n",
      "\n",
      "loading weights file ../models/distilbert/formality+jokes/joint/pytorch_model.bin\n",
      "All model checkpoint weights were used when initializing JointSeqClassifier.\n",
      "\n",
      "All the weights of JointSeqClassifier were initialized from the model checkpoint at ../models/distilbert/formality+jokes/joint.\n",
      "If your task is similar to the task the model of the checkpoint was trained on, you can already use JointSeqClassifier for predictions without further training.\n"
     ]
    }
   ],
   "source": [
    "model = JointSeqClassifier.from_pretrained(training_args.output_dir,tasks=tasks, model_args=model_args,\n",
    "                                                   task_if_single=None, joint = training_args.train_jointly)\n",
    "trainer = JointTrainer([training_args,model_args, data_args], model, train_dataset, dev_dataset, idx_to_classes)"
   ]
  },
  {
   "cell_type": "code",
   "execution_count": 17,
   "id": "hundred-weapon",
   "metadata": {},
   "outputs": [
    {
     "data": {
      "text/plain": [
       "{'formality': {'class': 'informal', 'prob': 0.96661514},\n",
       " 'jokes': {'class': 'nojoke', 'prob': 0.9876714}}"
      ]
     },
     "execution_count": 17,
     "metadata": {},
     "output_type": "execute_result"
    }
   ],
   "source": [
    "sentence = \"lol, that's dope\"\n",
    "trainer.predict_for_sentence(sentence, tokenizer)"
   ]
  },
  {
   "cell_type": "code",
   "execution_count": 18,
   "id": "antique-invention",
   "metadata": {},
   "outputs": [
    {
     "data": {
      "text/plain": [
       "({'formality': {'class': 'informal', 'prob': 0.96661514},\n",
       "  'jokes': {'class': 'nojoke', 'prob': 0.9876714}},\n",
       " {'formality': {'informal': tensor([0.0138, 0.0118, 0.0044, 0.0045, 0.0027, 0.0010, 0.0019, 0.0023, 0.0032,\n",
       "           0.0161, 0.0000, 0.0000, 0.0000, 0.0000, 0.0000, 0.0000, 0.0000, 0.0000,\n",
       "           0.0000, 0.0000, 0.0000, 0.0000, 0.0000, 0.0000, 0.0000, 0.0000, 0.0000,\n",
       "           0.0000, 0.0000, 0.0000, 0.0000, 0.0000, 0.0000, 0.0000, 0.0000, 0.0000,\n",
       "           0.0000, 0.0000, 0.0000, 0.0000, 0.0000, 0.0000, 0.0000, 0.0000, 0.0000,\n",
       "           0.0000, 0.0000, 0.0000, 0.0000, 0.0000, 0.0000, 0.0000, 0.0000, 0.0000,\n",
       "           0.0000, 0.0000, 0.0000, 0.0000, 0.0000, 0.0000, 0.0000, 0.0000, 0.0000,\n",
       "           0.0000]),\n",
       "   'formal': tensor([0.0091, 0.0041, 0.0016, 0.0015, 0.0009, 0.0004, 0.0008, 0.0007, 0.0010,\n",
       "           0.0055, 0.0000, 0.0000, 0.0000, 0.0000, 0.0000, 0.0000, 0.0000, 0.0000,\n",
       "           0.0000, 0.0000, 0.0000, 0.0000, 0.0000, 0.0000, 0.0000, 0.0000, 0.0000,\n",
       "           0.0000, 0.0000, 0.0000, 0.0000, 0.0000, 0.0000, 0.0000, 0.0000, 0.0000,\n",
       "           0.0000, 0.0000, 0.0000, 0.0000, 0.0000, 0.0000, 0.0000, 0.0000, 0.0000,\n",
       "           0.0000, 0.0000, 0.0000, 0.0000, 0.0000, 0.0000, 0.0000, 0.0000, 0.0000,\n",
       "           0.0000, 0.0000, 0.0000, 0.0000, 0.0000, 0.0000, 0.0000, 0.0000, 0.0000,\n",
       "           0.0000])},\n",
       "  'jokes': {'nojoke': tensor([0.0149, 0.0081, 0.0037, 0.0033, 0.0022, 0.0008, 0.0016, 0.0020, 0.0030,\n",
       "           0.0121, 0.0000, 0.0000, 0.0000, 0.0000, 0.0000, 0.0000, 0.0000, 0.0000,\n",
       "           0.0000, 0.0000, 0.0000, 0.0000, 0.0000, 0.0000, 0.0000, 0.0000, 0.0000,\n",
       "           0.0000, 0.0000, 0.0000, 0.0000, 0.0000, 0.0000, 0.0000, 0.0000, 0.0000,\n",
       "           0.0000, 0.0000, 0.0000, 0.0000, 0.0000, 0.0000, 0.0000, 0.0000, 0.0000,\n",
       "           0.0000, 0.0000, 0.0000, 0.0000, 0.0000, 0.0000, 0.0000, 0.0000, 0.0000,\n",
       "           0.0000, 0.0000, 0.0000, 0.0000, 0.0000, 0.0000, 0.0000, 0.0000, 0.0000,\n",
       "           0.0000]),\n",
       "   'joke': tensor([0.0116, 0.0040, 0.0016, 0.0014, 0.0009, 0.0004, 0.0007, 0.0008, 0.0010,\n",
       "           0.0056, 0.0000, 0.0000, 0.0000, 0.0000, 0.0000, 0.0000, 0.0000, 0.0000,\n",
       "           0.0000, 0.0000, 0.0000, 0.0000, 0.0000, 0.0000, 0.0000, 0.0000, 0.0000,\n",
       "           0.0000, 0.0000, 0.0000, 0.0000, 0.0000, 0.0000, 0.0000, 0.0000, 0.0000,\n",
       "           0.0000, 0.0000, 0.0000, 0.0000, 0.0000, 0.0000, 0.0000, 0.0000, 0.0000,\n",
       "           0.0000, 0.0000, 0.0000, 0.0000, 0.0000, 0.0000, 0.0000, 0.0000, 0.0000,\n",
       "           0.0000, 0.0000, 0.0000, 0.0000, 0.0000, 0.0000, 0.0000, 0.0000, 0.0000,\n",
       "           0.0000])}})"
      ]
     },
     "execution_count": 18,
     "metadata": {},
     "output_type": "execute_result"
    }
   ],
   "source": [
    "trainer.predict_for_sentence(sentence, tokenizer, salience=True)"
   ]
  },
  {
   "cell_type": "code",
   "execution_count": null,
   "id": "generous-funds",
   "metadata": {},
   "outputs": [],
   "source": []
  },
  {
   "cell_type": "code",
   "execution_count": 58,
   "id": "duplicate-female",
   "metadata": {},
   "outputs": [],
   "source": [
    "sys.path.append('../salience/')\n",
    "import salience"
   ]
  },
  {
   "cell_type": "code",
   "execution_count": 59,
   "id": "grand-alabama",
   "metadata": {},
   "outputs": [],
   "source": [
    "import torch\n",
    "device = torch.device('cuda') if torch.cuda.is_available() else torch.device('cpu')"
   ]
  },
  {
   "cell_type": "code",
   "execution_count": 60,
   "id": "coordinated-berlin",
   "metadata": {},
   "outputs": [
    {
     "name": "stdout",
     "output_type": "stream",
     "text": [
      "({'formality': 0, 'jokes': 0}, {}, {}, (tensor([[[ 0.5653,  0.1711, -0.0571,  ..., -0.0399,  0.1794, -0.1331],\n",
      "         [ 0.7349,  0.0629,  0.0695,  ...,  0.3597,  1.8188,  1.2880],\n",
      "         [-0.9291, -0.3515,  0.3030,  ..., -0.3559, -0.2129,  0.5705],\n",
      "         ...,\n",
      "         [ 0.4051, -0.7623, -1.0151,  ...,  1.8879,  0.6867,  0.9014],\n",
      "         [-0.0872,  0.3867,  0.4939,  ...,  0.5595,  0.3159,  1.1503],\n",
      "         [-0.0970,  0.0824,  0.2094,  ...,  0.6579, -1.2650,  0.1309]]],\n",
      "       device='cuda:0', grad_fn=<NativeLayerNormBackward>), tensor([[[ 0.2481,  0.0979, -0.0618,  ..., -0.0034, -0.0617, -0.0446],\n",
      "         [ 0.4034, -0.1321, -0.0512,  ...,  0.8332,  1.8625,  1.4630],\n",
      "         [-1.7014, -0.4414,  0.5886,  ..., -1.1669, -0.4128,  0.5319],\n",
      "         ...,\n",
      "         [ 0.6451, -0.3434, -1.1787,  ...,  1.5239,  1.0760,  1.1709],\n",
      "         [-0.4663,  0.2110,  1.0824,  ...,  0.0592, -0.2417,  0.9485],\n",
      "         [-0.1500, -0.0756,  0.0585,  ...,  0.1612, -0.3053, -0.0310]]],\n",
      "       device='cuda:0', grad_fn=<NativeLayerNormBackward>), tensor([[[ 0.5403,  0.3754, -0.5110,  ...,  0.0150,  0.6026,  0.1205],\n",
      "         [-0.2389, -0.4720,  0.6753,  ...,  0.5122,  2.3082,  1.3226],\n",
      "         [-1.4849, -0.8713,  0.5428,  ..., -0.7707, -0.4419,  1.1066],\n",
      "         ...,\n",
      "         [ 0.4564, -0.2524, -1.0119,  ...,  1.7394,  0.7534,  0.5462],\n",
      "         [-0.6986, -0.7019,  0.4438,  ...,  0.4713, -0.1671,  0.7665],\n",
      "         [-0.0708, -0.0783, -0.0297,  ..., -0.0444, -0.0665, -0.0586]]],\n",
      "       device='cuda:0', grad_fn=<NativeLayerNormBackward>), tensor([[[-0.0785, -0.2301, -0.9971,  ...,  0.6387,  0.3198,  0.3693],\n",
      "         [ 0.2174, -1.1273,  0.5583,  ...,  0.5049,  1.4482,  0.9041],\n",
      "         [-1.8039, -1.6445,  0.7714,  ..., -0.9016, -0.0768,  1.4525],\n",
      "         ...,\n",
      "         [ 0.5121, -0.1905, -0.7331,  ...,  1.9162,  1.2201,  0.4350],\n",
      "         [-0.5052, -1.2253,  0.4969,  ...,  0.4839,  0.0293,  0.0604],\n",
      "         [-0.0171, -0.0688,  0.0250,  ..., -0.0403, -0.0891, -0.1088]]],\n",
      "       device='cuda:0', grad_fn=<NativeLayerNormBackward>), tensor([[[ 0.3824, -1.0369, -0.5279,  ...,  0.5064,  0.1334, -0.0227],\n",
      "         [-0.0899, -1.3764,  1.4284,  ..., -0.0314,  0.9697,  0.7931],\n",
      "         [-1.4944, -2.1020,  0.7369,  ..., -1.2342,  0.0041,  0.9905],\n",
      "         ...,\n",
      "         [ 0.3025, -0.6718,  0.6215,  ...,  1.2937,  0.8857,  0.7942],\n",
      "         [-0.2384, -1.3123,  0.8065,  ...,  1.3789, -0.3698, -0.2143],\n",
      "         [-0.0139,  0.0239,  0.0394,  ..., -0.0278,  0.0179, -0.1106]]],\n",
      "       device='cuda:0', grad_fn=<NativeLayerNormBackward>), tensor([[[ 0.8143, -0.4877, -0.2280,  ...,  0.3971,  0.4202,  1.1936],\n",
      "         [ 0.3786, -0.5357,  2.5829,  ..., -0.3170,  0.8871,  0.9989],\n",
      "         [-0.6758, -0.9367,  1.9702,  ..., -1.0141,  0.4969,  1.1837],\n",
      "         ...,\n",
      "         [ 0.5221, -0.4853,  1.4098,  ...,  1.3752,  0.8920,  1.1312],\n",
      "         [-0.4091, -0.3469,  1.6624,  ...,  0.7073,  0.2233, -0.1818],\n",
      "         [-0.0173,  0.0711,  0.0225,  ..., -0.0191, -0.0363, -0.1182]]],\n",
      "       device='cuda:0', grad_fn=<NativeLayerNormBackward>), tensor([[[ 1.1082, -0.7015, -0.0995,  ..., -0.8666,  1.0411,  0.6004],\n",
      "         [ 1.4587, -0.6694,  0.6820,  ..., -1.1363,  1.7139, -0.0566],\n",
      "         [ 0.7734, -0.9798,  0.5893,  ..., -1.2322,  1.6015,  0.2045],\n",
      "         ...,\n",
      "         [ 1.0025, -0.5680,  0.3691,  ...,  0.3131,  1.0821,  0.7702],\n",
      "         [ 1.3119, -0.3068,  0.2156,  ..., -0.7488,  1.2825, -0.2729],\n",
      "         [ 0.5975, -0.4880, -0.4926,  ..., -0.4717,  1.2609, -0.1746]]],\n",
      "       device='cuda:0', grad_fn=<NativeLayerNormBackward>)))\n",
      "{}\n"
     ]
    },
    {
     "ename": "KeyError",
     "evalue": "'formality'",
     "output_type": "error",
     "traceback": [
      "\u001b[0;31m---------------------------------------------------------------------------\u001b[0m",
      "\u001b[0;31mKeyError\u001b[0m                                  Traceback (most recent call last)",
      "\u001b[0;32m<ipython-input-60-2802089cae44>\u001b[0m in \u001b[0;36m<module>\u001b[0;34m\u001b[0m\n\u001b[0;32m----> 1\u001b[0;31m \u001b[0msalience\u001b[0m\u001b[0;34m.\u001b[0m\u001b[0msalience\u001b[0m\u001b[0;34m(\u001b[0m\u001b[0msentence\u001b[0m\u001b[0;34m,\u001b[0m \u001b[0mmodel\u001b[0m\u001b[0;34m,\u001b[0m \u001b[0mtokenizer\u001b[0m\u001b[0;34m,\u001b[0m \u001b[0mdevice\u001b[0m\u001b[0;34m,\u001b[0m \u001b[0mtask\u001b[0m\u001b[0;34m.\u001b[0m\u001b[0msplit\u001b[0m\u001b[0;34m(\u001b[0m\u001b[0;34m'+'\u001b[0m\u001b[0;34m)\u001b[0m\u001b[0;34m[\u001b[0m\u001b[0;36m0\u001b[0m\u001b[0;34m]\u001b[0m\u001b[0;34m,\u001b[0m \u001b[0;36m0\u001b[0m\u001b[0;34m)\u001b[0m\u001b[0;34m\u001b[0m\u001b[0;34m\u001b[0m\u001b[0m\n\u001b[0m",
      "\u001b[0;32m~/Documents/MIMS Coursework/Capstone/marvin/ml/salience/salience.py\u001b[0m in \u001b[0;36msalience\u001b[0;34m(sent, model, tokenizer, device, task, label_num)\u001b[0m\n\u001b[1;32m     47\u001b[0m \u001b[0;34m\u001b[0m\u001b[0m\n\u001b[1;32m     48\u001b[0m     \u001b[0;31m# Get the score for the desired task,class combination\u001b[0m\u001b[0;34m\u001b[0m\u001b[0;34m\u001b[0m\u001b[0;34m\u001b[0m\u001b[0m\n\u001b[0;32m---> 49\u001b[0;31m     \u001b[0mclass_score\u001b[0m \u001b[0;34m=\u001b[0m \u001b[0mlogits_dict\u001b[0m\u001b[0;34m[\u001b[0m\u001b[0mtask\u001b[0m\u001b[0;34m]\u001b[0m\u001b[0;34m[\u001b[0m\u001b[0;36m0\u001b[0m\u001b[0;34m]\u001b[0m\u001b[0;34m[\u001b[0m\u001b[0mlabel_num\u001b[0m\u001b[0;34m]\u001b[0m\u001b[0;34m\u001b[0m\u001b[0;34m\u001b[0m\u001b[0m\n\u001b[0m\u001b[1;32m     50\u001b[0m     \u001b[0;31m# backprop\u001b[0m\u001b[0;34m\u001b[0m\u001b[0;34m\u001b[0m\u001b[0;34m\u001b[0m\u001b[0m\n\u001b[1;32m     51\u001b[0m     \u001b[0mclass_score\u001b[0m\u001b[0;34m.\u001b[0m\u001b[0mbackward\u001b[0m\u001b[0;34m(\u001b[0m\u001b[0;34m)\u001b[0m\u001b[0;34m\u001b[0m\u001b[0;34m\u001b[0m\u001b[0m\n",
      "\u001b[0;31mKeyError\u001b[0m: 'formality'"
     ]
    }
   ],
   "source": [
    "salience.salience(sentence, model, tokenizer, device, task.split('+')[0], 0)"
   ]
  },
  {
   "cell_type": "code",
   "execution_count": null,
   "id": "incorporate-marathon",
   "metadata": {},
   "outputs": [],
   "source": []
  }
 ],
 "metadata": {
  "kernelspec": {
   "display_name": "Python 3",
   "language": "python",
   "name": "python3"
  },
  "language_info": {
   "codemirror_mode": {
    "name": "ipython",
    "version": 3
   },
   "file_extension": ".py",
   "mimetype": "text/x-python",
   "name": "python",
   "nbconvert_exporter": "python",
   "pygments_lexer": "ipython3",
   "version": "3.8.5"
  }
 },
 "nbformat": 4,
 "nbformat_minor": 5
}
