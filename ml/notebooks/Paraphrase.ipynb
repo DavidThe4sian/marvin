{
 "cells": [
  {
   "cell_type": "code",
   "execution_count": 2,
   "id": "sufficient-organization",
   "metadata": {},
   "outputs": [],
   "source": [
    "from transformers import GPT2Tokenizer, pipeline\n",
    "import pickle"
   ]
  },
  {
   "cell_type": "code",
   "execution_count": 3,
   "id": "reported-volunteer",
   "metadata": {},
   "outputs": [],
   "source": [
    "tokenizer = GPT2Tokenizer.from_pretrained(\"gpt2-medium\")"
   ]
  },
  {
   "cell_type": "code",
   "execution_count": 4,
   "id": "driven-virgin",
   "metadata": {},
   "outputs": [
    {
     "data": {
      "text/plain": [
       "'<|endoftext|>'"
      ]
     },
     "execution_count": 4,
     "metadata": {},
     "output_type": "execute_result"
    }
   ],
   "source": [
    "tokenizer.bos_token"
   ]
  },
  {
   "cell_type": "code",
   "execution_count": 5,
   "id": "configured-aspect",
   "metadata": {},
   "outputs": [],
   "source": [
    "ft_generator = pipeline('text-generation', model='../models/gpt2med/')"
   ]
  },
  {
   "cell_type": "code",
   "execution_count": 8,
   "id": "nutritional-shame",
   "metadata": {},
   "outputs": [
    {
     "name": "stderr",
     "output_type": "stream",
     "text": [
      "Setting `pad_token_id` to `eos_token_id`:50256 for open-end generation.\n"
     ]
    },
    {
     "data": {
      "text/plain": [
       "[{'generated_text': 'open the door<|endoftext|>you have to open the door.'},\n",
       " {'generated_text': 'open the door<|endoftext|>the door opened, which could not be opened, and there was a roar from the stairs.'},\n",
       " {'generated_text': \"open the door<|endoftext|>He won't be able to hurt you unless you give him the wrong idea. Do not mistake his expression for disappointment. You will not be hurt if he tells you the wrong thing.\"}]"
      ]
     },
     "execution_count": 8,
     "metadata": {},
     "output_type": "execute_result"
    }
   ],
   "source": [
    "#Example\n",
    "txt = 'open the door'+tokenizer.bos_token\n",
    "ft_generator(txt, max_length=256, num_return_sequences=3)"
   ]
  },
  {
   "cell_type": "code",
   "execution_count": 12,
   "id": "distinguished-stuart",
   "metadata": {},
   "outputs": [],
   "source": [
    "#Formality dataset;\n",
    "with open('../data/GYAFC_Corpus/Entertainment_Music/train/informal') as fob:\n",
    "    informal = [x.strip() for x in fob.readlines()]\n",
    "with open('../data/GYAFC_Corpus/Entertainment_Music/train/formal') as fob:\n",
    "    formal = [x.strip() for x in fob.readlines()]\n"
   ]
  },
  {
   "cell_type": "code",
   "execution_count": 15,
   "id": "acquired-jones",
   "metadata": {},
   "outputs": [
    {
     "name": "stderr",
     "output_type": "stream",
     "text": [
      "Setting `pad_token_id` to `eos_token_id`:50256 for open-end generation.\n"
     ]
    },
    {
     "name": "stdout",
     "output_type": "stream",
     "text": [
      "the movie The In-Laws not exactly a holiday movie but funny and good!\n"
     ]
    },
    {
     "data": {
      "text/plain": [
       "[{'generated_text': 'the movie The In-Laws not exactly a holiday movie but funny and good!<|endoftext|>it had a nice holiday picture, not a lot of holiday movies, but it was fun.'},\n",
       " {'generated_text': 'the movie The In-Laws not exactly a holiday movie but funny and good!<|endoftext|>the good one, with good fun, is a movie which has no holiday aspect.'},\n",
       " {'generated_text': \"the movie The In-Laws not exactly a holiday movie but funny and good!<|endoftext|>there's a bit of a holiday in In-Law, but you have to laugh it's good too!\"}]"
      ]
     },
     "execution_count": 15,
     "metadata": {},
     "output_type": "execute_result"
    }
   ],
   "source": [
    "print(informal[0])\n",
    "ft_generator(informal[0]+tokenizer.bos_token, max_length=256, num_return_sequences=3)"
   ]
  },
  {
   "cell_type": "code",
   "execution_count": 16,
   "id": "quality-filing",
   "metadata": {},
   "outputs": [
    {
     "name": "stderr",
     "output_type": "stream",
     "text": [
      "Setting `pad_token_id` to `eos_token_id`:50256 for open-end generation.\n"
     ]
    },
    {
     "name": "stdout",
     "output_type": "stream",
     "text": [
      "The In-Laws movie isn't a holiday movie, but it's okay.\n"
     ]
    },
    {
     "data": {
      "text/plain": [
       "[{'generated_text': \"The In-Laws movie isn't a holiday movie, but it's okay.<|endoftext|>it's an entertainment movie about the Hollywood business, but it's okay.\"},\n",
       " {'generated_text': \"The In-Laws movie isn't a holiday movie, but it's okay.<|endoftext|>anime no, the movie that doesn't have holiday, but it's okay.\"},\n",
       " {'generated_text': \"The In-Laws movie isn't a holiday movie, but it's okay.<|endoftext|>there were no holidays in the In-Law movie.\"}]"
      ]
     },
     "execution_count": 16,
     "metadata": {},
     "output_type": "execute_result"
    }
   ],
   "source": [
    "print(formal[0])\n",
    "ft_generator(formal[0]+tokenizer.bos_token, max_length=256, num_return_sequences=3)"
   ]
  },
  {
   "cell_type": "code",
   "execution_count": null,
   "id": "sunrise-penalty",
   "metadata": {},
   "outputs": [],
   "source": []
  }
 ],
 "metadata": {
  "kernelspec": {
   "display_name": "Python 3",
   "language": "python",
   "name": "python3"
  },
  "language_info": {
   "codemirror_mode": {
    "name": "ipython",
    "version": 3
   },
   "file_extension": ".py",
   "mimetype": "text/x-python",
   "name": "python",
   "nbconvert_exporter": "python",
   "pygments_lexer": "ipython3",
   "version": "3.8.5"
  }
 },
 "nbformat": 4,
 "nbformat_minor": 5
}
