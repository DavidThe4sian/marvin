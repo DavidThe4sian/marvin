{
 "metadata": {
  "language_info": {
   "codemirror_mode": {
    "name": "ipython",
    "version": 3
   },
   "file_extension": ".py",
   "mimetype": "text/x-python",
   "name": "python",
   "nbconvert_exporter": "python",
   "pygments_lexer": "ipython3",
   "version": "3.8.8"
  },
  "orig_nbformat": 2,
  "kernelspec": {
   "name": "python388jvsc74a57bd098037a696054ba6333485ba1eda7d4b13de5ba8596b9581751e7239af6bf3f61",
   "display_name": "Python 3.8.8 64-bit ('marvin': conda)"
  }
 },
 "nbformat": 4,
 "nbformat_minor": 2,
 "cells": [
  {
   "cell_type": "code",
   "execution_count": 1,
   "metadata": {},
   "outputs": [],
   "source": [
    "import pandas as pd\n",
    "import matplotlib.pyplot as plt\n",
    "import seaborn as sns\n",
    "import numpy as np\n",
    "sns.set_theme(style=\"darkgrid\")\n",
    "plt.rcParams[\"figure.figsize\"] = (20,5)"
   ]
  },
  {
   "cell_type": "code",
   "execution_count": 5,
   "metadata": {},
   "outputs": [
    {
     "output_type": "stream",
     "name": "stdout",
     "text": [
      "(12593, 9)\n(12593, 9)\n"
     ]
    },
    {
     "output_type": "execute_result",
     "data": {
      "text/plain": [
       "                                                text  label  \\\n",
       "0  The lady of the Strachy married the yeoman of ...      1   \n",
       "1              My lord, there needs no such apology.      1   \n",
       "2                              Is it so, countrymen?      1   \n",
       "3    There lies the duke asleep, and there the keys.      1   \n",
       "4  Now is it Rome indeed, and room enough, When t...      1   \n",
       "\n",
       "                                        paraphrased1  \\\n",
       "0  the lady of Strachy was married to a man from ...   \n",
       "1          my lord, it's not necessary to apologize.   \n",
       "2                            aren't they countrymen?   \n",
       "3                there's a duke asleep and the keys.   \n",
       "4  there's only one man in Rome, and there's enou...   \n",
       "\n",
       "                                        paraphrased2  \\\n",
       "0  the lady of Strachy was married to a man from ...   \n",
       "1                my lord, I don't have to apologize.   \n",
       "2                       aren't they, the countrymen?   \n",
       "3        there's a duke asleep and there's the keys.   \n",
       "4  there's only one man in Rome now, and there's ...   \n",
       "\n",
       "                                        paraphrased3  pred_shakespeare_orig  \\\n",
       "0  the lady of Strachy was married to a man from ...               0.765602   \n",
       "1                                I'm sorry, my lord.               0.884759   \n",
       "2                    aren't they, countrymen, right?               0.761651   \n",
       "3              there's the duke asleep and the keys.               0.887439   \n",
       "4                  there's only one man in Rome now.               0.915007   \n",
       "\n",
       "   pred_shakespeare_paraphrased1  pred_shakespeare_paraphrased2  \\\n",
       "0                       0.267794                       0.255607   \n",
       "1                       0.006257                       0.005844   \n",
       "2                       0.013275                       0.018199   \n",
       "3                       0.821328                       0.475597   \n",
       "4                       0.007556                       0.007356   \n",
       "\n",
       "   pred_shakespeare_paraphrased3  \n",
       "0                       0.171455  \n",
       "1                       0.016998  \n",
       "2                       0.009676  \n",
       "3                       0.710960  \n",
       "4                       0.007267  "
      ],
      "text/html": "<div>\n<style scoped>\n    .dataframe tbody tr th:only-of-type {\n        vertical-align: middle;\n    }\n\n    .dataframe tbody tr th {\n        vertical-align: top;\n    }\n\n    .dataframe thead th {\n        text-align: right;\n    }\n</style>\n<table border=\"1\" class=\"dataframe\">\n  <thead>\n    <tr style=\"text-align: right;\">\n      <th></th>\n      <th>text</th>\n      <th>label</th>\n      <th>paraphrased1</th>\n      <th>paraphrased2</th>\n      <th>paraphrased3</th>\n      <th>pred_shakespeare_orig</th>\n      <th>pred_shakespeare_paraphrased1</th>\n      <th>pred_shakespeare_paraphrased2</th>\n      <th>pred_shakespeare_paraphrased3</th>\n    </tr>\n  </thead>\n  <tbody>\n    <tr>\n      <th>0</th>\n      <td>The lady of the Strachy married the yeoman of ...</td>\n      <td>1</td>\n      <td>the lady of Strachy was married to a man from ...</td>\n      <td>the lady of Strachy was married to a man from ...</td>\n      <td>the lady of Strachy was married to a man from ...</td>\n      <td>0.765602</td>\n      <td>0.267794</td>\n      <td>0.255607</td>\n      <td>0.171455</td>\n    </tr>\n    <tr>\n      <th>1</th>\n      <td>My lord, there needs no such apology.</td>\n      <td>1</td>\n      <td>my lord, it's not necessary to apologize.</td>\n      <td>my lord, I don't have to apologize.</td>\n      <td>I'm sorry, my lord.</td>\n      <td>0.884759</td>\n      <td>0.006257</td>\n      <td>0.005844</td>\n      <td>0.016998</td>\n    </tr>\n    <tr>\n      <th>2</th>\n      <td>Is it so, countrymen?</td>\n      <td>1</td>\n      <td>aren't they countrymen?</td>\n      <td>aren't they, the countrymen?</td>\n      <td>aren't they, countrymen, right?</td>\n      <td>0.761651</td>\n      <td>0.013275</td>\n      <td>0.018199</td>\n      <td>0.009676</td>\n    </tr>\n    <tr>\n      <th>3</th>\n      <td>There lies the duke asleep, and there the keys.</td>\n      <td>1</td>\n      <td>there's a duke asleep and the keys.</td>\n      <td>there's a duke asleep and there's the keys.</td>\n      <td>there's the duke asleep and the keys.</td>\n      <td>0.887439</td>\n      <td>0.821328</td>\n      <td>0.475597</td>\n      <td>0.710960</td>\n    </tr>\n    <tr>\n      <th>4</th>\n      <td>Now is it Rome indeed, and room enough, When t...</td>\n      <td>1</td>\n      <td>there's only one man in Rome, and there's enou...</td>\n      <td>there's only one man in Rome now, and there's ...</td>\n      <td>there's only one man in Rome now.</td>\n      <td>0.915007</td>\n      <td>0.007556</td>\n      <td>0.007356</td>\n      <td>0.007267</td>\n    </tr>\n  </tbody>\n</table>\n</div>"
     },
     "metadata": {},
     "execution_count": 5
    }
   ],
   "source": [
    "mode = 'train'\n",
    "df = pd.read_csv(f'../../data/processed_filtered/shakespeare/shakespeare_{mode}_cross_predict_paraphrases.csv')\n",
    "print(df.shape)\n",
    "df = df[df['label']==1]\n",
    "print(df.shape)\n",
    "\n",
    "df.head()"
   ]
  },
  {
   "cell_type": "code",
   "execution_count": 6,
   "metadata": {},
   "outputs": [],
   "source": [
    "df1 = df.filter(['paraphrased1','text'])\n",
    "df1.columns = ['input','output']\n",
    "df2 = df.filter(['paraphrased2','text'])\n",
    "df2.columns = ['input','output']\n",
    "df3 = df.filter(['paraphrased3','text'])\n",
    "df3.columns = ['input','output']\n",
    "df_fin = pd.concat([df1,df2,df3], axis=0)\n",
    "\n",
    "df_fin.to_csv(f'../../data/pseudo/shakespeare/{mode}_binary.csv', header=False, index=False)"
   ]
  },
  {
   "cell_type": "code",
   "execution_count": 18,
   "metadata": {},
   "outputs": [
    {
     "output_type": "execute_result",
     "data": {
      "text/plain": [
       "(37779, 2)"
      ]
     },
     "metadata": {},
     "execution_count": 18
    }
   ],
   "source": []
  },
  {
   "cell_type": "code",
   "execution_count": 9,
   "metadata": {},
   "outputs": [
    {
     "output_type": "stream",
     "name": "stdout",
     "text": [
      "(20306, 5)\n(8698, 5)\n"
     ]
    },
    {
     "output_type": "execute_result",
     "data": {
      "text/plain": [
       "                                                   0  1  \\\n",
       "0  Scalable Data Augmentation (SDA) provides a fr...  1   \n",
       "2  Deep nets (or multilayered neural networks) ar...  1   \n",
       "5                          2x on HPC workloads and 1  1   \n",
       "7  These experimental results validate the abilit...  1   \n",
       "8  A cost-effective tool to detect glaucoma could...  1   \n",
       "\n",
       "                                                   2  \\\n",
       "0  a framework for the formation of deep learning...   \n",
       "2  using the training data, it is proposed to cre...   \n",
       "5                          2x the HPC workload and 1   \n",
       "7  these experimental results confirm the ability...   \n",
       "8  in a larger patient population, a cost-effecti...   \n",
       "\n",
       "                                                   3  \\\n",
       "0  analysis of the scaled data (SDA) is a framewo...   \n",
       "2  using the training data, it is proposed to cre...   \n",
       "5                       2x the workload of HPC and 1   \n",
       "7  these experimental results confirm the ability...   \n",
       "8  in a larger patient population, a cost-effecti...   \n",
       "\n",
       "                                                   4  \n",
       "0  analysis of the data (SDA) is a framework for ...  \n",
       "2  using the training data, it is proposed to cre...  \n",
       "5                         2x the HPC workload and 1x  \n",
       "7  these experimental results confirm the ability...  \n",
       "8  in a larger patient population, a cost-effecti...  "
      ],
      "text/html": "<div>\n<style scoped>\n    .dataframe tbody tr th:only-of-type {\n        vertical-align: middle;\n    }\n\n    .dataframe tbody tr th {\n        vertical-align: top;\n    }\n\n    .dataframe thead th {\n        text-align: right;\n    }\n</style>\n<table border=\"1\" class=\"dataframe\">\n  <thead>\n    <tr style=\"text-align: right;\">\n      <th></th>\n      <th>0</th>\n      <th>1</th>\n      <th>2</th>\n      <th>3</th>\n      <th>4</th>\n    </tr>\n  </thead>\n  <tbody>\n    <tr>\n      <th>0</th>\n      <td>Scalable Data Augmentation (SDA) provides a fr...</td>\n      <td>1</td>\n      <td>a framework for the formation of deep learning...</td>\n      <td>analysis of the scaled data (SDA) is a framewo...</td>\n      <td>analysis of the data (SDA) is a framework for ...</td>\n    </tr>\n    <tr>\n      <th>2</th>\n      <td>Deep nets (or multilayered neural networks) ar...</td>\n      <td>1</td>\n      <td>using the training data, it is proposed to cre...</td>\n      <td>using the training data, it is proposed to cre...</td>\n      <td>using the training data, it is proposed to cre...</td>\n    </tr>\n    <tr>\n      <th>5</th>\n      <td>2x on HPC workloads and 1</td>\n      <td>1</td>\n      <td>2x the HPC workload and 1</td>\n      <td>2x the workload of HPC and 1</td>\n      <td>2x the HPC workload and 1x</td>\n    </tr>\n    <tr>\n      <th>7</th>\n      <td>These experimental results validate the abilit...</td>\n      <td>1</td>\n      <td>these experimental results confirm the ability...</td>\n      <td>these experimental results confirm the ability...</td>\n      <td>these experimental results confirm the ability...</td>\n    </tr>\n    <tr>\n      <th>8</th>\n      <td>A cost-effective tool to detect glaucoma could...</td>\n      <td>1</td>\n      <td>in a larger patient population, a cost-effecti...</td>\n      <td>in a larger patient population, a cost-effecti...</td>\n      <td>in a larger patient population, a cost-effecti...</td>\n    </tr>\n  </tbody>\n</table>\n</div>"
     },
     "metadata": {},
     "execution_count": 9
    }
   ],
   "source": [
    "mode = 'dev'\n",
    "df = pd.read_csv(f'../../data/processed_filtered/abstract/{mode}_paraphrased.csv', header=None)\n",
    "print(df.shape)\n",
    "df = df[df[1]==1]\n",
    "print(df.shape)\n",
    "\n",
    "df.head()"
   ]
  },
  {
   "cell_type": "code",
   "execution_count": 10,
   "metadata": {},
   "outputs": [],
   "source": [
    "df1 = df.filter([2,0])\n",
    "df1.columns = ['input','output']\n",
    "df2 = df.filter([3,0])\n",
    "df2.columns = ['input','output']\n",
    "df3 = df.filter([4,0])\n",
    "df3.columns = ['input','output']\n",
    "df_fin = pd.concat([df1,df2,df3], axis=0)\n",
    "\n",
    "df_fin.to_csv(f'../../data/pseudo/abstract/{mode}_binary.csv', header=False, index=False)"
   ]
  },
  {
   "cell_type": "code",
   "execution_count": 13,
   "metadata": {},
   "outputs": [
    {
     "output_type": "stream",
     "name": "stdout",
     "text": [
      "(71388, 5)\n(71388, 5)\n"
     ]
    },
    {
     "output_type": "execute_result",
     "data": {
      "text/plain": [
       "                                                   0  1  \\\n",
       "0  The cruise vector is a vector tangent to the h...  1   \n",
       "1  This process can be achieved by applying Singu...  1   \n",
       "2  Multi Expression Programming websiteMulti Expr...  1   \n",
       "3  Prior to joining Powerset, Pell was an Entrepr...  1   \n",
       "4  and continued development of omni-font OCR, wh...  1   \n",
       "\n",
       "                                                   2  \\\n",
       "0  the eagle is a vector of a hypothetical hypers...   \n",
       "1  the application of Singular values to x can be...   \n",
       "2  multi-language programming website Multi-expre...   \n",
       "3  Pell served as an Entrepreneur in Residence at...   \n",
       "4  in the late 1960s, CompuScan was used by compa...   \n",
       "\n",
       "                                                   3  \\\n",
       "0  the eagle is a vector of a hypothetical hypers...   \n",
       "1  the application of Singular Value Decompositio...   \n",
       "2  multi-language programming website Multi-langu...   \n",
       "3  Pell served as an Entrepreneur at Mayfield Fun...   \n",
       "4  in the late 1960s, CompuScan was used by compa...   \n",
       "\n",
       "                                                   4  \n",
       "0  the eagle is a vector of a hypothetical hypers...  \n",
       "1  the application of Singular values to x can ac...  \n",
       "2  multi-language programming website Multi-langu...  \n",
       "3  Pell served as an Entrepreneur in Residence at...  \n",
       "4  in the late 1960s, CompuScan was used by compa...  "
      ],
      "text/html": "<div>\n<style scoped>\n    .dataframe tbody tr th:only-of-type {\n        vertical-align: middle;\n    }\n\n    .dataframe tbody tr th {\n        vertical-align: top;\n    }\n\n    .dataframe thead th {\n        text-align: right;\n    }\n</style>\n<table border=\"1\" class=\"dataframe\">\n  <thead>\n    <tr style=\"text-align: right;\">\n      <th></th>\n      <th>0</th>\n      <th>1</th>\n      <th>2</th>\n      <th>3</th>\n      <th>4</th>\n    </tr>\n  </thead>\n  <tbody>\n    <tr>\n      <th>0</th>\n      <td>The cruise vector is a vector tangent to the h...</td>\n      <td>1</td>\n      <td>the eagle is a vector of a hypothetical hypers...</td>\n      <td>the eagle is a vector of a hypothetical hypers...</td>\n      <td>the eagle is a vector of a hypothetical hypers...</td>\n    </tr>\n    <tr>\n      <th>1</th>\n      <td>This process can be achieved by applying Singu...</td>\n      <td>1</td>\n      <td>the application of Singular values to x can be...</td>\n      <td>the application of Singular Value Decompositio...</td>\n      <td>the application of Singular values to x can ac...</td>\n    </tr>\n    <tr>\n      <th>2</th>\n      <td>Multi Expression Programming websiteMulti Expr...</td>\n      <td>1</td>\n      <td>multi-language programming website Multi-expre...</td>\n      <td>multi-language programming website Multi-langu...</td>\n      <td>multi-language programming website Multi-langu...</td>\n    </tr>\n    <tr>\n      <th>3</th>\n      <td>Prior to joining Powerset, Pell was an Entrepr...</td>\n      <td>1</td>\n      <td>Pell served as an Entrepreneur in Residence at...</td>\n      <td>Pell served as an Entrepreneur at Mayfield Fun...</td>\n      <td>Pell served as an Entrepreneur in Residence at...</td>\n    </tr>\n    <tr>\n      <th>4</th>\n      <td>and continued development of omni-font OCR, wh...</td>\n      <td>1</td>\n      <td>in the late 1960s, CompuScan was used by compa...</td>\n      <td>in the late 1960s, CompuScan was used by compa...</td>\n      <td>in the late 1960s, CompuScan was used by compa...</td>\n    </tr>\n  </tbody>\n</table>\n</div>"
     },
     "metadata": {},
     "execution_count": 13
    }
   ],
   "source": [
    "mode = 'train'\n",
    "df = pd.read_csv(f'../../data/processed_filtered/wiki/{mode}_paraphrased.csv', header=None)\n",
    "print(df.shape)\n",
    "df = df[df[1]==1]\n",
    "print(df.shape)\n",
    "\n",
    "df.head()"
   ]
  },
  {
   "cell_type": "code",
   "execution_count": 14,
   "metadata": {},
   "outputs": [],
   "source": [
    "df1 = df.filter([2,0])\n",
    "df1.columns = ['input','output']\n",
    "df2 = df.filter([3,0])\n",
    "df2.columns = ['input','output']\n",
    "df3 = df.filter([4,0])\n",
    "df3.columns = ['input','output']\n",
    "df_fin = pd.concat([df1,df2,df3], axis=0)\n",
    "\n",
    "df_fin.to_csv(f'../../data/pseudo/wiki/{mode}_binary.csv', header=False, index=False)"
   ]
  },
  {
   "cell_type": "code",
   "execution_count": null,
   "metadata": {},
   "outputs": [],
   "source": []
  }
 ]
}