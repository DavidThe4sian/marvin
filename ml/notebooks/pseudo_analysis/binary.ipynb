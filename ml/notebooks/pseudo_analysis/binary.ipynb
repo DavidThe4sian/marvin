{
 "metadata": {
  "language_info": {
   "codemirror_mode": {
    "name": "ipython",
    "version": 3
   },
   "file_extension": ".py",
   "mimetype": "text/x-python",
   "name": "python",
   "nbconvert_exporter": "python",
   "pygments_lexer": "ipython3",
   "version": "3.8.8"
  },
  "orig_nbformat": 2,
  "kernelspec": {
   "name": "python388jvsc74a57bd098037a696054ba6333485ba1eda7d4b13de5ba8596b9581751e7239af6bf3f61",
   "display_name": "Python 3.8.8 64-bit ('marvin': conda)"
  }
 },
 "nbformat": 4,
 "nbformat_minor": 2,
 "cells": [
  {
   "cell_type": "code",
   "execution_count": 1,
   "metadata": {},
   "outputs": [],
   "source": [
    "import pandas as pd\n",
    "import matplotlib.pyplot as plt\n",
    "import seaborn as sns\n",
    "import numpy as np\n",
    "sns.set_theme(style=\"darkgrid\")\n",
    "plt.rcParams[\"figure.figsize\"] = (20,5)"
   ]
  },
  {
   "cell_type": "code",
   "execution_count": 16,
   "metadata": {},
   "outputs": [
    {
     "output_type": "stream",
     "name": "stdout",
     "text": [
      "(3151, 9)\n(3151, 9)\n"
     ]
    },
    {
     "output_type": "execute_result",
     "data": {
      "text/plain": [
       "                                                text  label  \\\n",
       "0         But thus, I trust, you will not marry her.      1   \n",
       "1                             Stand from the hearse.      1   \n",
       "2  I have no will to wander forth of doors, Yet s...      1   \n",
       "3                  How do you mean, removing of him?      1   \n",
       "4  O Thou, whose captain I account myself, Look o...      1   \n",
       "\n",
       "                                        paraphrased1  \\\n",
       "0                      I'm sure you won't marry her.   \n",
       "1                      stand in front of the hearse!   \n",
       "2  I'm not going to walk out of the door, but som...   \n",
       "3                      how do you mean removing him?   \n",
       "4  O Thou, I'm a captain, and I'm a gracious eye ...   \n",
       "\n",
       "                                        paraphrased2  \\\n",
       "0                  but I'm sure you won't marry her.   \n",
       "1                           stand out of the hearse!   \n",
       "2  I don't want to go out of the door, but someth...   \n",
       "3                      what do you mean, remove him?   \n",
       "4  O Thou, I'm a captain, and I'm a gracious eye ...   \n",
       "\n",
       "                                        paraphrased3  pred_shakespeare_orig  \\\n",
       "0                   so I'm sure you won't marry her.               0.821566   \n",
       "1                               stand by the hearse!               0.631334   \n",
       "2  I'm not going to go out of the door, but somet...               0.987070   \n",
       "3                      how do you mean he's removed?               0.960118   \n",
       "4     O Thou, I'm a captain, and I'm a gracious man.               0.993091   \n",
       "\n",
       "   pred_shakespeare_paraphrased1  pred_shakespeare_paraphrased2  \\\n",
       "0                       0.004811                       0.004740   \n",
       "1                       0.019826                       0.209268   \n",
       "2                       0.005536                       0.005621   \n",
       "3                       0.185102                       0.267502   \n",
       "4                       0.990232                       0.990249   \n",
       "\n",
       "   pred_shakespeare_paraphrased3  \n",
       "0                       0.004765  \n",
       "1                       0.159680  \n",
       "2                       0.005888  \n",
       "3                       0.115327  \n",
       "4                       0.990400  "
      ],
      "text/html": "<div>\n<style scoped>\n    .dataframe tbody tr th:only-of-type {\n        vertical-align: middle;\n    }\n\n    .dataframe tbody tr th {\n        vertical-align: top;\n    }\n\n    .dataframe thead th {\n        text-align: right;\n    }\n</style>\n<table border=\"1\" class=\"dataframe\">\n  <thead>\n    <tr style=\"text-align: right;\">\n      <th></th>\n      <th>text</th>\n      <th>label</th>\n      <th>paraphrased1</th>\n      <th>paraphrased2</th>\n      <th>paraphrased3</th>\n      <th>pred_shakespeare_orig</th>\n      <th>pred_shakespeare_paraphrased1</th>\n      <th>pred_shakespeare_paraphrased2</th>\n      <th>pred_shakespeare_paraphrased3</th>\n    </tr>\n  </thead>\n  <tbody>\n    <tr>\n      <th>0</th>\n      <td>But thus, I trust, you will not marry her.</td>\n      <td>1</td>\n      <td>I'm sure you won't marry her.</td>\n      <td>but I'm sure you won't marry her.</td>\n      <td>so I'm sure you won't marry her.</td>\n      <td>0.821566</td>\n      <td>0.004811</td>\n      <td>0.004740</td>\n      <td>0.004765</td>\n    </tr>\n    <tr>\n      <th>1</th>\n      <td>Stand from the hearse.</td>\n      <td>1</td>\n      <td>stand in front of the hearse!</td>\n      <td>stand out of the hearse!</td>\n      <td>stand by the hearse!</td>\n      <td>0.631334</td>\n      <td>0.019826</td>\n      <td>0.209268</td>\n      <td>0.159680</td>\n    </tr>\n    <tr>\n      <th>2</th>\n      <td>I have no will to wander forth of doors, Yet s...</td>\n      <td>1</td>\n      <td>I'm not going to walk out of the door, but som...</td>\n      <td>I don't want to go out of the door, but someth...</td>\n      <td>I'm not going to go out of the door, but somet...</td>\n      <td>0.987070</td>\n      <td>0.005536</td>\n      <td>0.005621</td>\n      <td>0.005888</td>\n    </tr>\n    <tr>\n      <th>3</th>\n      <td>How do you mean, removing of him?</td>\n      <td>1</td>\n      <td>how do you mean removing him?</td>\n      <td>what do you mean, remove him?</td>\n      <td>how do you mean he's removed?</td>\n      <td>0.960118</td>\n      <td>0.185102</td>\n      <td>0.267502</td>\n      <td>0.115327</td>\n    </tr>\n    <tr>\n      <th>4</th>\n      <td>O Thou, whose captain I account myself, Look o...</td>\n      <td>1</td>\n      <td>O Thou, I'm a captain, and I'm a gracious eye ...</td>\n      <td>O Thou, I'm a captain, and I'm a gracious eye ...</td>\n      <td>O Thou, I'm a captain, and I'm a gracious man.</td>\n      <td>0.993091</td>\n      <td>0.990232</td>\n      <td>0.990249</td>\n      <td>0.990400</td>\n    </tr>\n  </tbody>\n</table>\n</div>"
     },
     "metadata": {},
     "execution_count": 16
    }
   ],
   "source": [
    "mode = 'dev'\n",
    "df = pd.read_csv(f'../../data/processed_filtered/shakespeare/shakespeare_{mode}_cross_predict_paraphrases.csv')\n",
    "print(df.shape)\n",
    "df = df[df['label']==1]\n",
    "print(df.shape)\n",
    "\n",
    "df.head()"
   ]
  },
  {
   "cell_type": "code",
   "execution_count": 17,
   "metadata": {},
   "outputs": [
    {
     "output_type": "execute_result",
     "data": {
      "text/plain": [
       "(9453, 2)"
      ]
     },
     "metadata": {},
     "execution_count": 17
    }
   ],
   "source": [
    "df1 = df.filter(['paraphrased1','text'])\n",
    "df1.columns = ['input','output']\n",
    "df2 = df.filter(['paraphrased2','text'])\n",
    "df2.columns = ['input','output']\n",
    "df3 = df.filter(['paraphrased3','text'])\n",
    "df3.columns = ['input','output']\n",
    "df_fin = pd.concat([df1,df2,df3], axis=0)\n",
    "\n",
    "df_fin.shape"
   ]
  },
  {
   "cell_type": "code",
   "execution_count": 18,
   "metadata": {},
   "outputs": [],
   "source": [
    "df_fin.to_csv(f'../../data/pseudo/shakespeare/{mode}_binary.csv', header=False, index=False)"
   ]
  },
  {
   "cell_type": "code",
   "execution_count": null,
   "metadata": {},
   "outputs": [],
   "source": []
  },
  {
   "cell_type": "code",
   "execution_count": null,
   "metadata": {},
   "outputs": [],
   "source": []
  },
  {
   "cell_type": "code",
   "execution_count": 5,
   "metadata": {},
   "outputs": [
    {
     "output_type": "stream",
     "name": "stdout",
     "text": [
      "(20306, 5)\n(8698, 5)\n"
     ]
    },
    {
     "output_type": "execute_result",
     "data": {
      "text/plain": [
       "                                                   0  1  \\\n",
       "0  Scalable Data Augmentation (SDA) provides a fr...  1   \n",
       "2  Deep nets (or multilayered neural networks) ar...  1   \n",
       "5                          2x on HPC workloads and 1  1   \n",
       "7  These experimental results validate the abilit...  1   \n",
       "8  A cost-effective tool to detect glaucoma could...  1   \n",
       "\n",
       "                                                   2  \\\n",
       "0  a framework for the formation of deep learning...   \n",
       "2  using the training data, it is proposed to cre...   \n",
       "5                          2x the HPC workload and 1   \n",
       "7  these experimental results confirm the ability...   \n",
       "8  in a larger patient population, a cost-effecti...   \n",
       "\n",
       "                                                   3  \\\n",
       "0  analysis of the scaled data (SDA) is a framewo...   \n",
       "2  using the training data, it is proposed to cre...   \n",
       "5                       2x the workload of HPC and 1   \n",
       "7  these experimental results confirm the ability...   \n",
       "8  in a larger patient population, a cost-effecti...   \n",
       "\n",
       "                                                   4  \n",
       "0  analysis of the data (SDA) is a framework for ...  \n",
       "2  using the training data, it is proposed to cre...  \n",
       "5                         2x the HPC workload and 1x  \n",
       "7  these experimental results confirm the ability...  \n",
       "8  in a larger patient population, a cost-effecti...  "
      ],
      "text/html": "<div>\n<style scoped>\n    .dataframe tbody tr th:only-of-type {\n        vertical-align: middle;\n    }\n\n    .dataframe tbody tr th {\n        vertical-align: top;\n    }\n\n    .dataframe thead th {\n        text-align: right;\n    }\n</style>\n<table border=\"1\" class=\"dataframe\">\n  <thead>\n    <tr style=\"text-align: right;\">\n      <th></th>\n      <th>0</th>\n      <th>1</th>\n      <th>2</th>\n      <th>3</th>\n      <th>4</th>\n    </tr>\n  </thead>\n  <tbody>\n    <tr>\n      <th>0</th>\n      <td>Scalable Data Augmentation (SDA) provides a fr...</td>\n      <td>1</td>\n      <td>a framework for the formation of deep learning...</td>\n      <td>analysis of the scaled data (SDA) is a framewo...</td>\n      <td>analysis of the data (SDA) is a framework for ...</td>\n    </tr>\n    <tr>\n      <th>2</th>\n      <td>Deep nets (or multilayered neural networks) ar...</td>\n      <td>1</td>\n      <td>using the training data, it is proposed to cre...</td>\n      <td>using the training data, it is proposed to cre...</td>\n      <td>using the training data, it is proposed to cre...</td>\n    </tr>\n    <tr>\n      <th>5</th>\n      <td>2x on HPC workloads and 1</td>\n      <td>1</td>\n      <td>2x the HPC workload and 1</td>\n      <td>2x the workload of HPC and 1</td>\n      <td>2x the HPC workload and 1x</td>\n    </tr>\n    <tr>\n      <th>7</th>\n      <td>These experimental results validate the abilit...</td>\n      <td>1</td>\n      <td>these experimental results confirm the ability...</td>\n      <td>these experimental results confirm the ability...</td>\n      <td>these experimental results confirm the ability...</td>\n    </tr>\n    <tr>\n      <th>8</th>\n      <td>A cost-effective tool to detect glaucoma could...</td>\n      <td>1</td>\n      <td>in a larger patient population, a cost-effecti...</td>\n      <td>in a larger patient population, a cost-effecti...</td>\n      <td>in a larger patient population, a cost-effecti...</td>\n    </tr>\n  </tbody>\n</table>\n</div>"
     },
     "metadata": {},
     "execution_count": 5
    }
   ],
   "source": [
    "mode = 'dev'\n",
    "df = pd.read_csv(f'../../data/processed_filtered/abstract/{mode}_paraphrased.csv', header=None)\n",
    "print(df.shape)\n",
    "df = df[df[1]==1]\n",
    "print(df.shape)\n",
    "\n",
    "df.head()"
   ]
  },
  {
   "cell_type": "code",
   "execution_count": 6,
   "metadata": {},
   "outputs": [
    {
     "output_type": "execute_result",
     "data": {
      "text/plain": [
       "(26094, 2)"
      ]
     },
     "metadata": {},
     "execution_count": 6
    }
   ],
   "source": [
    "df1 = df.filter([2,0])\n",
    "df1.columns = ['input','output']\n",
    "df2 = df.filter([3,0])\n",
    "df2.columns = ['input','output']\n",
    "df3 = df.filter([4,0])\n",
    "df3.columns = ['input','output']\n",
    "df_fin = pd.concat([df1,df2,df3], axis=0)\n",
    "df_fin.shape\n"
   ]
  },
  {
   "cell_type": "code",
   "execution_count": 7,
   "metadata": {},
   "outputs": [],
   "source": [
    "df_fin = df_fin.sample(frac=1).reset_index(drop=True)\n",
    "df_fin = df_fin[:5000]\n",
    "df_fin.to_csv(f'../../data/pseudo/abstract/{mode}_binary.csv', header=False, index=False)"
   ]
  },
  {
   "cell_type": "code",
   "execution_count": 11,
   "metadata": {},
   "outputs": [
    {
     "output_type": "stream",
     "name": "stdout",
     "text": [
      "(10412, 5)\n(10412, 5)\n"
     ]
    },
    {
     "output_type": "execute_result",
     "data": {
      "text/plain": [
       "                                                   0  1  \\\n",
       "0  The main goal of this inductive transfer mecha...  1   \n",
       "1  In this paper we propose an energy-efficient l...  1   \n",
       "2  In this work, we propose a method of deep arti...  1   \n",
       "3  To achieve this goal, we treat images as bags ...  1   \n",
       "4  The study provides some guidelines: (1) alteri...  1   \n",
       "\n",
       "                                                   2  \\\n",
       "0  in order to improve the generalization of the ...   \n",
       "1  in this paper, we propose an energy efficient ...   \n",
       "2  we're proposing a method for deep artificial n...   \n",
       "3  the integration of weakly monitored multiple l...   \n",
       "4  (1) it is not always better to change the geom...   \n",
       "\n",
       "                                                   3  \\\n",
       "0  in order to improve the generalization of the ...   \n",
       "1  we propose a system of energy-efficient learni...   \n",
       "2  we're proposing a method for deep artificial n...   \n",
       "3  the integration of weakly monitored multiple l...   \n",
       "4  (1) it is not always better to change the geom...   \n",
       "\n",
       "                                                   4  \n",
       "0  in order to improve the generalization of the ...  \n",
       "1  we propose a system of energy-efficient learni...  \n",
       "2  we propose a technique for deep artificial neu...  \n",
       "3  the integration of weakly monitored multiple l...  \n",
       "4  (1) it is not always better to change the geom...  "
      ],
      "text/html": "<div>\n<style scoped>\n    .dataframe tbody tr th:only-of-type {\n        vertical-align: middle;\n    }\n\n    .dataframe tbody tr th {\n        vertical-align: top;\n    }\n\n    .dataframe thead th {\n        text-align: right;\n    }\n</style>\n<table border=\"1\" class=\"dataframe\">\n  <thead>\n    <tr style=\"text-align: right;\">\n      <th></th>\n      <th>0</th>\n      <th>1</th>\n      <th>2</th>\n      <th>3</th>\n      <th>4</th>\n    </tr>\n  </thead>\n  <tbody>\n    <tr>\n      <th>0</th>\n      <td>The main goal of this inductive transfer mecha...</td>\n      <td>1</td>\n      <td>in order to improve the generalization of the ...</td>\n      <td>in order to improve the generalization of the ...</td>\n      <td>in order to improve the generalization of the ...</td>\n    </tr>\n    <tr>\n      <th>1</th>\n      <td>In this paper we propose an energy-efficient l...</td>\n      <td>1</td>\n      <td>in this paper, we propose an energy efficient ...</td>\n      <td>we propose a system of energy-efficient learni...</td>\n      <td>we propose a system of energy-efficient learni...</td>\n    </tr>\n    <tr>\n      <th>2</th>\n      <td>In this work, we propose a method of deep arti...</td>\n      <td>1</td>\n      <td>we're proposing a method for deep artificial n...</td>\n      <td>we're proposing a method for deep artificial n...</td>\n      <td>we propose a technique for deep artificial neu...</td>\n    </tr>\n    <tr>\n      <th>3</th>\n      <td>To achieve this goal, we treat images as bags ...</td>\n      <td>1</td>\n      <td>the integration of weakly monitored multiple l...</td>\n      <td>the integration of weakly monitored multiple l...</td>\n      <td>the integration of weakly monitored multiple l...</td>\n    </tr>\n    <tr>\n      <th>4</th>\n      <td>The study provides some guidelines: (1) alteri...</td>\n      <td>1</td>\n      <td>(1) it is not always better to change the geom...</td>\n      <td>(1) it is not always better to change the geom...</td>\n      <td>(1) it is not always better to change the geom...</td>\n    </tr>\n  </tbody>\n</table>\n</div>"
     },
     "metadata": {},
     "execution_count": 11
    }
   ],
   "source": [
    "mode = 'dev'\n",
    "df = pd.read_csv(f'../../data/processed_filtered/wiki/{mode}_paraphrased.csv', header=None)\n",
    "print(df.shape)\n",
    "df = df[df[1]==1]\n",
    "print(df.shape)\n",
    "\n",
    "df.head()"
   ]
  },
  {
   "cell_type": "code",
   "execution_count": 12,
   "metadata": {},
   "outputs": [
    {
     "output_type": "execute_result",
     "data": {
      "text/plain": [
       "(31236, 2)"
      ]
     },
     "metadata": {},
     "execution_count": 12
    }
   ],
   "source": [
    "df1 = df.filter([2,0])\n",
    "df1.columns = ['input','output']\n",
    "df2 = df.filter([3,0])\n",
    "df2.columns = ['input','output']\n",
    "df3 = df.filter([4,0])\n",
    "df3.columns = ['input','output']\n",
    "df_fin = pd.concat([df1,df2,df3], axis=0)\n",
    "\n",
    "df_fin.shape"
   ]
  },
  {
   "cell_type": "code",
   "execution_count": 13,
   "metadata": {},
   "outputs": [],
   "source": [
    "df_fin = df_fin.sample(frac=1).reset_index(drop=True)\n",
    "df_fin = df_fin[:5000]\n",
    "df_fin.to_csv(f'../../data/pseudo/wiki/{mode}_binary.csv', header=False, index=False)"
   ]
  },
  {
   "cell_type": "code",
   "execution_count": null,
   "metadata": {},
   "outputs": [],
   "source": []
  }
 ]
}