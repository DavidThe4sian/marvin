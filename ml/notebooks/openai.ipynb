{
 "metadata": {
  "language_info": {
   "codemirror_mode": {
    "name": "ipython",
    "version": 3
   },
   "file_extension": ".py",
   "mimetype": "text/x-python",
   "name": "python",
   "nbconvert_exporter": "python",
   "pygments_lexer": "ipython3",
   "version": "3.8.5"
  },
  "orig_nbformat": 2,
  "kernelspec": {
   "name": "python385jvsc74a57bd070745de62fac122a8ca1204278c5668179019927655d931b4063a8c34fb0e461",
   "display_name": "Python 3.8.5 64-bit ('marvin': conda)"
  },
  "metadata": {
   "interpreter": {
    "hash": "70745de62fac122a8ca1204278c5668179019927655d931b4063a8c34fb0e461"
   }
  }
 },
 "nbformat": 4,
 "nbformat_minor": 2,
 "cells": [
  {
   "cell_type": "code",
   "execution_count": 4,
   "metadata": {},
   "outputs": [],
   "source": [
    "import openai"
   ]
  },
  {
   "cell_type": "code",
   "execution_count": 5,
   "metadata": {},
   "outputs": [],
   "source": [
    "with open(\"../key.txt\") as fob:\n",
    "    openai.api_key = fob.read().strip()"
   ]
  },
  {
   "cell_type": "code",
   "execution_count": 15,
   "metadata": {},
   "outputs": [],
   "source": [
    "res = openai.Completion.create(\n",
    "  engine=\"davinci\",\n",
    "  prompt=\"Plain Language: what're u doin?\\nFormal Language: What are you doing?\\nPlain Language: what's up?\\nFormal Language: What is up?\\nPlain Language: i wanna eat ice cream today!\\nFormal Language: I want to eat ice cream today.\\nPlain Language: wtf is his problem?\\nFormal Language: What is his issue?\\nPlain Language: i feel bummed about the store shutting down.\\nFormal Language: I feel unhappy about the store closing.\\nPlain Language: how'd you think we should go about our demo?\\nFormal Language:\",\n",
    "  max_tokens=64,\n",
    "  temperature=0.15,\n",
    "  stop=\"\\n\"\n",
    ")"
   ]
  },
  {
   "cell_type": "code",
   "execution_count": 17,
   "metadata": {},
   "outputs": [
    {
     "output_type": "execute_result",
     "data": {
      "text/plain": [
       "'How should we go about our demonstration?'"
      ]
     },
     "metadata": {},
     "execution_count": 17
    }
   ],
   "source": [
    "res.choices[0].text.strip()"
   ]
  },
  {
   "cell_type": "code",
   "execution_count": null,
   "metadata": {},
   "outputs": [],
   "source": []
  }
 ]
}