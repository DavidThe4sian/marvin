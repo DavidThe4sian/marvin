{
 "cells": [
  {
   "cell_type": "code",
   "execution_count": 1,
   "id": "funded-plaintiff",
   "metadata": {},
   "outputs": [],
   "source": [
    "import pandas as pd\n",
    "import numpy as np\n",
    "import matplotlib.pyplot as plt"
   ]
  },
  {
   "cell_type": "code",
   "execution_count": 2,
   "id": "dominican-sunday",
   "metadata": {},
   "outputs": [],
   "source": [
    "from transformers import AutoTokenizer, AutoModelForSequenceClassification, TextGenerationPipeline, AdamW\n",
    "import torch\n",
    "tokenizer = AutoTokenizer.from_pretrained(\"distilbert-base-uncased-finetuned-sst-2-english\", model_max_length=64)"
   ]
  },
  {
   "cell_type": "code",
   "execution_count": 3,
   "id": "binding-architecture",
   "metadata": {},
   "outputs": [],
   "source": [
    "import spacy\n",
    "\n",
    "# Load English tokenizer, tagger, parser and NER\n",
    "nlp = spacy.load(\"en_core_web_sm\")\n"
   ]
  },
  {
   "cell_type": "code",
   "execution_count": 54,
   "id": "approximate-heath",
   "metadata": {},
   "outputs": [],
   "source": [
    "txt = \"Could you please pick up the farthest box?\""
   ]
  },
  {
   "cell_type": "code",
   "execution_count": 55,
   "id": "amber-vocabulary",
   "metadata": {},
   "outputs": [],
   "source": [
    "doc = nlp(txt)"
   ]
  },
  {
   "cell_type": "code",
   "execution_count": 67,
   "id": "african-relay",
   "metadata": {},
   "outputs": [],
   "source": [
    "tokens = []\n",
    "sentence_seen = 0\n",
    "\n",
    "for token in [t.text for t in doc]:\n",
    "    occ = txt[sentence_seen:].find(token)\n",
    "    start = occ + sentence_seen\n",
    "    end = sentence_seen + occ + len(token)\n",
    "    sentence_seen = sentence_seen + len(token) + occ\n",
    "    tokens.append({'text' : token, 'start' : start, 'end' : end})"
   ]
  },
  {
   "cell_type": "code",
   "execution_count": 69,
   "id": "national-administrator",
   "metadata": {},
   "outputs": [],
   "source": [
    "btokens = tokenizer.convert_ids_to_tokens(tokenizer.encode(txt))[1:-1]\n",
    "btoken_mask = [i for i,b in enumerate(btokens) if '##' not in b]"
   ]
  },
  {
   "cell_type": "code",
   "execution_count": 70,
   "id": "bizarre-british",
   "metadata": {},
   "outputs": [
    {
     "data": {
      "text/plain": [
       "[0, 1, 2, 3, 4, 5, 6, 8, 9]"
      ]
     },
     "execution_count": 70,
     "metadata": {},
     "output_type": "execute_result"
    }
   ],
   "source": []
  },
  {
   "cell_type": "code",
   "execution_count": null,
   "id": "fourth-academy",
   "metadata": {},
   "outputs": [],
   "source": []
  }
 ],
 "metadata": {
  "kernelspec": {
   "display_name": "Python 3",
   "language": "python",
   "name": "python3"
  },
  "language_info": {
   "codemirror_mode": {
    "name": "ipython",
    "version": 3
   },
   "file_extension": ".py",
   "mimetype": "text/x-python",
   "name": "python",
   "nbconvert_exporter": "python",
   "pygments_lexer": "ipython3",
   "version": "3.8.5"
  }
 },
 "nbformat": 4,
 "nbformat_minor": 5
}
